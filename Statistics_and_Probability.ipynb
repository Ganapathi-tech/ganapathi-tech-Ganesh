{
  "nbformat": 4,
  "nbformat_minor": 0,
  "metadata": {
    "colab": {
      "provenance": []
    },
    "kernelspec": {
      "display_name": "Python 3",
      "language": "python",
      "name": "python3"
    },
    "language_info": {
      "codemirror_mode": {
        "name": "ipython",
        "version": 3
      },
      "file_extension": ".py",
      "mimetype": "text/x-python",
      "name": "python",
      "nbconvert_exporter": "python",
      "pygments_lexer": "ipython3",
      "version": "3.5.2"
    }
  },
  "cells": [
    {
      "cell_type": "markdown",
      "metadata": {
        "id": "MwiDNYJJeXbD"
      },
      "source": [
        "## Introduction to Statistics and Probability"
      ]
    },
    {
      "cell_type": "markdown",
      "metadata": {
        "id": "RZlIajs8fRLR"
      },
      "source": [
        "##  Learning Objectives"
      ]
    },
    {
      "cell_type": "markdown",
      "metadata": {
        "id": "abYbtTdhfT7w"
      },
      "source": [
        "\n",
        "\n",
        "- use the basic probability rules, terms, independent and mutually exclusive events\n",
        "- understand the pythonic implementation of measures of Centre and Spread: Mean, Median, Mode, Variance, Covariance, Correlation, Normalization, Standardization terms\n",
        "- perform statistics and probability related operations using Python"
      ]
    },
    {
      "cell_type": "markdown",
      "metadata": {
        "id": "vgfm52RHycRL"
      },
      "source": [
        "####  Import the numpy package under the name np"
      ]
    },
    {
      "cell_type": "code",
      "metadata": {
        "id": "ahPzhfvreCPi"
      },
      "source": [
        "import numpy as np"
      ],
      "execution_count": null,
      "outputs": []
    },
    {
      "cell_type": "markdown",
      "metadata": {
        "id": "3LTru3Nuy_6x"
      },
      "source": [
        "####  Import the scipy package under the name sp"
      ]
    },
    {
      "cell_type": "code",
      "metadata": {
        "id": "pA9KLlfAy_YY"
      },
      "source": [
        "import scipy as sp"
      ],
      "execution_count": null,
      "outputs": []
    },
    {
      "cell_type": "markdown",
      "metadata": {
        "id": "kkoSq82BYCiU"
      },
      "source": [
        "#### Five people play golf and at one hole their scores are\n",
        "\n",
        "                      3, 4, 4, 5, 7.\n",
        "\n",
        "For these scores, find Mean, Median, Mode"
      ]
    },
    {
      "cell_type": "code",
      "metadata": {
        "id": "RwLCfj2eYCiV"
      },
      "source": [
        "l = [3, 4, 4, 5, 7]"
      ],
      "execution_count": null,
      "outputs": []
    },
    {
      "cell_type": "code",
      "metadata": {
        "id": "7mVuJEeXYCiW"
      },
      "source": [
        "np.mean(l)"
      ],
      "execution_count": null,
      "outputs": []
    },
    {
      "cell_type": "code",
      "metadata": {
        "id": "d-1YnUlrYCiX"
      },
      "source": [
        "np.median(l)"
      ],
      "execution_count": null,
      "outputs": []
    },
    {
      "cell_type": "code",
      "metadata": {
        "id": "mMr-aXHbYCiY"
      },
      "source": [
        "from scipy import stats\n",
        "stats.mode(l)"
      ],
      "execution_count": null,
      "outputs": []
    },
    {
      "cell_type": "markdown",
      "metadata": {
        "id": "6bnJnVNHYCiZ"
      },
      "source": [
        "####  You grow 20 crystals from a solution and measure the length of each crystal in millimeters. Here is your data:\n",
        "\n",
        "9, 2, 5, 4, 12, 7, 8, 11, 9, 3, 7, 4, 12, 5, 4, 10, 9, 6, 9, 4\n",
        "\n",
        "Calculate the standard deviation of the length of the crystals."
      ]
    },
    {
      "cell_type": "code",
      "metadata": {
        "id": "xy_Fx6YQYCia"
      },
      "source": [
        "k = [9, 2, 5, 4, 12, 7, 8, 11, 9, 3, 7, 4, 12, 5, 4, 10, 9, 6, 9, 4]\n",
        "np.std(k)"
      ],
      "execution_count": null,
      "outputs": []
    },
    {
      "cell_type": "markdown",
      "metadata": {
        "id": "pGCSuk9XI6ia"
      },
      "source": [
        "\n",
        "\n",
        "Given below DataFrame\n",
        "\n",
        "          data = pd.DataFrame({'salaries': [33219, 36254, 38801, 46335, 46840,\n",
        "                                            47596, 55130, 56863, 78070, 88830]})\n",
        "\n",
        "Calculate the variance of salaries"
      ]
    },
    {
      "cell_type": "code",
      "metadata": {
        "id": "TYS7e2hWYCic"
      },
      "source": [
        "import pandas as pd\n",
        "data = pd.DataFrame({'salaries': [33219, 36254, 38801, 46335, 46840, 47596, 55130, 56863, 78070, 88830]})"
      ],
      "execution_count": null,
      "outputs": []
    },
    {
      "cell_type": "code",
      "metadata": {
        "id": "ZcqUkV-uYCid"
      },
      "source": [
        "data.salaries.mean()"
      ],
      "execution_count": null,
      "outputs": []
    },
    {
      "cell_type": "code",
      "metadata": {
        "id": "cY-XZbneYCid"
      },
      "source": [
        "np.mean(data.salaries.values)"
      ],
      "execution_count": null,
      "outputs": []
    },
    {
      "cell_type": "code",
      "metadata": {
        "id": "cTFDORsoYCie"
      },
      "source": [
        "data.salaries.var()"
      ],
      "execution_count": null,
      "outputs": []
    },
    {
      "cell_type": "code",
      "metadata": {
        "id": "zcj0i7VPYCif"
      },
      "source": [
        "np.var(data.salaries.values)"
      ],
      "execution_count": null,
      "outputs": []
    },
    {
      "cell_type": "markdown",
      "metadata": {
        "id": "Gge4jnCjYCig"
      },
      "source": [
        "####  Five people play golf and at one hole their scores are\n",
        "\n",
        "                      3, 4, 4, 5, 7.\n",
        "\n",
        "For these scores, find Harmonic and Geometric mean\n",
        "\n",
        "**Hint:** To know more about Harmonic and Geometric mean click\n",
        "  [here](https://medium.com/@sharmi.v.murali/arithmetic-mean-vs-geometric-mean-vs-harmonic-mean-b956cf1b2b3f)"
      ]
    },
    {
      "cell_type": "code",
      "metadata": {
        "id": "mHPBWbqXYCih"
      },
      "source": [
        "l = [3, 4, 4, 5, 7]\n",
        "from scipy.stats import gmean, hmean\n",
        "gmean(l)\n",
        "hmean(l)"
      ],
      "execution_count": null,
      "outputs": []
    },
    {
      "cell_type": "markdown",
      "metadata": {
        "id": "jhvpk-mnI6ih"
      },
      "source": [
        "####  Given a DataFrame\n",
        "\n",
        "      df = pd.DataFrame({\n",
        "                  'Name': ['Dan', 'Joann', 'Pedro', 'Rosie', 'Ethan', 'Vicky', 'Frederic'],\n",
        "                   'Salary':[50000,54000,50000,189000,55000,40000,59000],\n",
        "                   'Hours':[41,40,36,17,35,39,40],\n",
        "                   'Experience(In Years)':[2, 2, 3, 7, 5 2, 4]})\n",
        "\n",
        "Calculate the covariance and correlation between *Salary* and *Experience(In Years)*"
      ]
    },
    {
      "cell_type": "code",
      "source": [
        "#covariance\n",
        "df = pd.DataFrame({'Name': ['Dan', 'Joann', 'Pedro', 'Rosie', 'Ethan', 'Vicky', 'Frederic'],\n",
        "                   'Salary':[50000,54000,50000,189000,55000,40000,59000],\n",
        "                   'Hours':[41,40,36,17,35,39,40],\n",
        "                   'Experience(In Years)':[2, 2, 3, 7, 5, 2, 4]})\n",
        "\n",
        "# Calculate the covariance between *Salary* and *Experience(In Years)*\n",
        "print(df['Experience(In Years)'].cov(df['Salary']))"
      ],
      "metadata": {
        "id": "N1j4K3XvjqPF"
      },
      "execution_count": null,
      "outputs": []
    },
    {
      "cell_type": "code",
      "metadata": {
        "id": "dx1zLbW3YCij"
      },
      "source": [
        "# Calculate the correlation between *Salary* and *Experience(In Years)*\n",
        "print(df['Experience(In Years)'].corr(df['Salary']))"
      ],
      "execution_count": null,
      "outputs": []
    },
    {
      "cell_type": "markdown",
      "metadata": {
        "id": "eBogXJNfI6ii"
      },
      "source": [
        "####  Given a DataFrame\n",
        "\n",
        "      df = pd.DataFrame({\n",
        "                  'Name': ['Dan', 'Joann', 'Pedro', 'Rosie', 'Ethan', 'Vicky', 'Frederic'],                  \n",
        "                   'Salary':[50000,54000,50000,189000,55000,40000,59000],                 \n",
        "                   'Hours':[41,40,36,17,35,39,40],             \n",
        "                   'Experience(In Years)':[2, 2, 3, 7, 5 2, 4]})\n",
        "\n",
        "Calculate the correlation between *Experience(In Years)* and *Hours*."
      ]
    },
    {
      "cell_type": "code",
      "metadata": {
        "id": "--Z7TCl_YCil"
      },
      "source": [
        "r = df['Experience(In Years)'].corr(df['Hours'])\n",
        "print('Correlation: ' + str(r))"
      ],
      "execution_count": null,
      "outputs": []
    },
    {
      "cell_type": "markdown",
      "metadata": {
        "id": "gCJcUhIJI6ij"
      },
      "source": [
        "####  Given a DataFrame\n",
        "\n",
        "      df = pd.DataFrame({\n",
        "                  'Name': ['Dan', 'Joann', 'Pedro', 'Rosie', 'Ethan', 'Vicky', 'Frederic'],\n",
        "                   'Salary':[50000,54000,50000,189000,55000,40000,59000],\n",
        "                   'Hours':[41,40,36,17,35,39,40],          \n",
        "                   'Experience(In Years)':[2, 2, 3, 7, 5 2, 4]})\n",
        "\n",
        "Calculate the percentile score for Experience(In Years)\n"
      ]
    },
    {
      "cell_type": "code",
      "metadata": {
        "id": "PaNSotSdYCin"
      },
      "source": [
        "print(stats.percentileofscore(df['Experience(In Years)'], 57, 'strict'))"
      ],
      "execution_count": null,
      "outputs": []
    },
    {
      "cell_type": "markdown",
      "metadata": {
        "id": "bd7LC86LI6im"
      },
      "source": [
        "####  Given a DataFrame\n",
        "\n",
        "      df = pd.DataFrame({\n",
        "                  'Name': ['Dan', 'Joann', 'Pedro', 'Rosie', 'Ethan', 'Vicky', 'Frederic'],\n",
        "                   'Salary':[50000,54000,50000,189000,55000,40000,59000],\n",
        "                   'Hours':[41,40,36,17,35,39,40],          \n",
        "                   'Experience(In Years)':[2, 2, 3, 7, 5 2, 4]})\n",
        "\n",
        "\n",
        "Find the quartile thresholds for the weekly hours worked by the employees"
      ]
    },
    {
      "cell_type": "code",
      "metadata": {
        "id": "Za52hBW0YCip"
      },
      "source": [
        "print(df['Hours'].quantile([0.25, 0.5, 0.75]))"
      ],
      "execution_count": null,
      "outputs": []
    },
    {
      "cell_type": "markdown",
      "source": [
        "####  Given a DataFrame\n",
        "\n",
        "a = np.random.normal(40, 10, 10000)\n",
        "\n",
        "norm = pd.DataFrame({'nums':a})\n",
        "\n",
        "Describe distribution of the data using skewness and kurtosis metrics."
      ],
      "metadata": {
        "id": "XIRWO0h7eSKO"
      }
    },
    {
      "cell_type": "code",
      "source": [
        "a = np.random.normal(40, 10, 10000)\n",
        "norm = pd.DataFrame({'nums':a})\n",
        "print(norm.skew())\n",
        "print(norm.kurt())"
      ],
      "metadata": {
        "id": "IRcM3VxaeUGB"
      },
      "execution_count": null,
      "outputs": []
    },
    {
      "cell_type": "markdown",
      "source": [
        "####   Given an array 'Y', Find the skewness of the data"
      ],
      "metadata": {
        "id": "kBAygexoeWfp"
      }
    },
    {
      "cell_type": "code",
      "source": [
        "from scipy.stats import skew\n",
        "\n",
        "X = np.linspace( -5, 5, 1000 )\n",
        "\n",
        "Y = 1./(np.sqrt(2.* np.pi)) * np.exp( -.5*(X)**2)\n",
        "\n",
        "skew(Y)"
      ],
      "metadata": {
        "id": "bCzoO0suea22"
      },
      "execution_count": null,
      "outputs": []
    },
    {
      "cell_type": "code",
      "source": [],
      "metadata": {
        "id": "HAlN5ZQsedHG"
      },
      "execution_count": null,
      "outputs": []
    }
  ]
}