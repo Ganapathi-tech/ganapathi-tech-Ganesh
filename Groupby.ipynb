{
  "nbformat": 4,
  "nbformat_minor": 0,
  "metadata": {
    "colab": {
      "name": "Groupby.ipynb",
      "provenance": [],
      "include_colab_link": true
    },
    "kernelspec": {
      "name": "python3",
      "display_name": "Python 3"
    },
    "language_info": {
      "name": "python"
    }
  },
  "cells": [
    {
      "cell_type": "markdown",
      "metadata": {
        "id": "view-in-github",
        "colab_type": "text"
      },
      "source": [
        "<a href=\"https://colab.research.google.com/github/Ganapathi-tech/ganapathi-tech-Ganesh/blob/main/Groupby.ipynb\" target=\"_parent\"><img src=\"https://colab.research.google.com/assets/colab-badge.svg\" alt=\"Open In Colab\"/></a>"
      ]
    },
    {
      "cell_type": "code",
      "metadata": {
        "id": "8MhcPFIQQqIE"
      },
      "source": [
        "import pandas as pd"
      ],
      "execution_count": null,
      "outputs": []
    },
    {
      "cell_type": "code",
      "metadata": {
        "id": "AP-oAMZmQtFd"
      },
      "source": [
        "d1 = {\n",
        "    \"Stdid\" :[111,222,333,444,555],\n",
        "    \"StdName\" : [\"Shanti\",\"Naren\",\"Kumar\",\"Shiva\",\"Ram\"],\n",
        "    \"StdClass\" : [10, 7,9,10,12], \n",
        "    \"City\" : [\"Hyd\",\"Viz\", \"Hyd\", \"Che\", \"Viz\"] }\n",
        "\n",
        "\n",
        "d2 = {\n",
        "    \"ENGLISH\" :[88,77,81,67,75],\n",
        "    \"SCIENCE\" : [89,72,83,75,79],\n",
        "    \"COMPUTERS\" : [91,77,82,81,85]\n",
        "}\n",
        "\n",
        "d3 = {\n",
        "    \"Maths\" :[88,77,81,67,75],\n",
        "    \"SOCIAL\" : [89,72,83,75,79],\n",
        "    \"TELUGU\" : [91,77,82,81,85]\n",
        "}"
      ],
      "execution_count": null,
      "outputs": []
    },
    {
      "cell_type": "code",
      "metadata": {
        "id": "9vMYiM2QTZ3N"
      },
      "source": [
        "dfd1 = pd.DataFrame(d1)"
      ],
      "execution_count": null,
      "outputs": []
    },
    {
      "cell_type": "code",
      "metadata": {
        "colab": {
          "base_uri": "https://localhost:8080/",
          "height": 195
        },
        "id": "3V-xk2uATijb",
        "outputId": "00228eff-2d62-467f-dddf-2fcd699b1e64"
      },
      "source": [
        "dfd1"
      ],
      "execution_count": null,
      "outputs": [
        {
          "output_type": "execute_result",
          "data": {
            "text/html": [
              "<div>\n",
              "<style scoped>\n",
              "    .dataframe tbody tr th:only-of-type {\n",
              "        vertical-align: middle;\n",
              "    }\n",
              "\n",
              "    .dataframe tbody tr th {\n",
              "        vertical-align: top;\n",
              "    }\n",
              "\n",
              "    .dataframe thead th {\n",
              "        text-align: right;\n",
              "    }\n",
              "</style>\n",
              "<table border=\"1\" class=\"dataframe\">\n",
              "  <thead>\n",
              "    <tr style=\"text-align: right;\">\n",
              "      <th></th>\n",
              "      <th>Stdid</th>\n",
              "      <th>StdName</th>\n",
              "      <th>StdClass</th>\n",
              "      <th>City</th>\n",
              "    </tr>\n",
              "  </thead>\n",
              "  <tbody>\n",
              "    <tr>\n",
              "      <th>0</th>\n",
              "      <td>111</td>\n",
              "      <td>Shanti</td>\n",
              "      <td>10</td>\n",
              "      <td>Hyd</td>\n",
              "    </tr>\n",
              "    <tr>\n",
              "      <th>1</th>\n",
              "      <td>222</td>\n",
              "      <td>Naren</td>\n",
              "      <td>7</td>\n",
              "      <td>Viz</td>\n",
              "    </tr>\n",
              "    <tr>\n",
              "      <th>2</th>\n",
              "      <td>333</td>\n",
              "      <td>Kumar</td>\n",
              "      <td>9</td>\n",
              "      <td>Hyd</td>\n",
              "    </tr>\n",
              "    <tr>\n",
              "      <th>3</th>\n",
              "      <td>444</td>\n",
              "      <td>Shiva</td>\n",
              "      <td>10</td>\n",
              "      <td>Che</td>\n",
              "    </tr>\n",
              "    <tr>\n",
              "      <th>4</th>\n",
              "      <td>555</td>\n",
              "      <td>Ram</td>\n",
              "      <td>12</td>\n",
              "      <td>Viz</td>\n",
              "    </tr>\n",
              "  </tbody>\n",
              "</table>\n",
              "</div>"
            ],
            "text/plain": [
              "   Stdid StdName  StdClass City\n",
              "0    111  Shanti        10  Hyd\n",
              "1    222   Naren         7  Viz\n",
              "2    333   Kumar         9  Hyd\n",
              "3    444   Shiva        10  Che\n",
              "4    555     Ram        12  Viz"
            ]
          },
          "metadata": {
            "tags": []
          },
          "execution_count": 6
        }
      ]
    },
    {
      "cell_type": "code",
      "metadata": {
        "id": "KHDt8NACTjCL"
      },
      "source": [
        "dfd2 = pd.DataFrame(d2)"
      ],
      "execution_count": null,
      "outputs": []
    },
    {
      "cell_type": "code",
      "metadata": {
        "colab": {
          "base_uri": "https://localhost:8080/",
          "height": 195
        },
        "id": "5YaPnl0TTmIF",
        "outputId": "d9cd928a-df63-4a9b-f5b1-ab96331d0d9e"
      },
      "source": [
        "dfd2"
      ],
      "execution_count": null,
      "outputs": [
        {
          "output_type": "execute_result",
          "data": {
            "text/html": [
              "<div>\n",
              "<style scoped>\n",
              "    .dataframe tbody tr th:only-of-type {\n",
              "        vertical-align: middle;\n",
              "    }\n",
              "\n",
              "    .dataframe tbody tr th {\n",
              "        vertical-align: top;\n",
              "    }\n",
              "\n",
              "    .dataframe thead th {\n",
              "        text-align: right;\n",
              "    }\n",
              "</style>\n",
              "<table border=\"1\" class=\"dataframe\">\n",
              "  <thead>\n",
              "    <tr style=\"text-align: right;\">\n",
              "      <th></th>\n",
              "      <th>ENGLISH</th>\n",
              "      <th>SCIENCE</th>\n",
              "      <th>COMPUTERS</th>\n",
              "    </tr>\n",
              "  </thead>\n",
              "  <tbody>\n",
              "    <tr>\n",
              "      <th>0</th>\n",
              "      <td>88</td>\n",
              "      <td>89</td>\n",
              "      <td>91</td>\n",
              "    </tr>\n",
              "    <tr>\n",
              "      <th>1</th>\n",
              "      <td>77</td>\n",
              "      <td>72</td>\n",
              "      <td>77</td>\n",
              "    </tr>\n",
              "    <tr>\n",
              "      <th>2</th>\n",
              "      <td>81</td>\n",
              "      <td>83</td>\n",
              "      <td>82</td>\n",
              "    </tr>\n",
              "    <tr>\n",
              "      <th>3</th>\n",
              "      <td>67</td>\n",
              "      <td>75</td>\n",
              "      <td>81</td>\n",
              "    </tr>\n",
              "    <tr>\n",
              "      <th>4</th>\n",
              "      <td>75</td>\n",
              "      <td>79</td>\n",
              "      <td>85</td>\n",
              "    </tr>\n",
              "  </tbody>\n",
              "</table>\n",
              "</div>"
            ],
            "text/plain": [
              "   ENGLISH  SCIENCE  COMPUTERS\n",
              "0       88       89         91\n",
              "1       77       72         77\n",
              "2       81       83         82\n",
              "3       67       75         81\n",
              "4       75       79         85"
            ]
          },
          "metadata": {
            "tags": []
          },
          "execution_count": 8
        }
      ]
    },
    {
      "cell_type": "code",
      "metadata": {
        "id": "XSepl4wETnfI"
      },
      "source": [
        "dfstd = dfd1.join(dfd2)"
      ],
      "execution_count": null,
      "outputs": []
    },
    {
      "cell_type": "code",
      "metadata": {
        "colab": {
          "base_uri": "https://localhost:8080/",
          "height": 195
        },
        "id": "pFvyt1HcTs7c",
        "outputId": "093218aa-d447-4e76-a05b-424083e7d4b4"
      },
      "source": [
        "dfstd"
      ],
      "execution_count": null,
      "outputs": [
        {
          "output_type": "execute_result",
          "data": {
            "text/html": [
              "<div>\n",
              "<style scoped>\n",
              "    .dataframe tbody tr th:only-of-type {\n",
              "        vertical-align: middle;\n",
              "    }\n",
              "\n",
              "    .dataframe tbody tr th {\n",
              "        vertical-align: top;\n",
              "    }\n",
              "\n",
              "    .dataframe thead th {\n",
              "        text-align: right;\n",
              "    }\n",
              "</style>\n",
              "<table border=\"1\" class=\"dataframe\">\n",
              "  <thead>\n",
              "    <tr style=\"text-align: right;\">\n",
              "      <th></th>\n",
              "      <th>Stdid</th>\n",
              "      <th>StdName</th>\n",
              "      <th>StdClass</th>\n",
              "      <th>City</th>\n",
              "      <th>ENGLISH</th>\n",
              "      <th>SCIENCE</th>\n",
              "      <th>COMPUTERS</th>\n",
              "    </tr>\n",
              "  </thead>\n",
              "  <tbody>\n",
              "    <tr>\n",
              "      <th>0</th>\n",
              "      <td>111</td>\n",
              "      <td>Shanti</td>\n",
              "      <td>10</td>\n",
              "      <td>Hyd</td>\n",
              "      <td>88</td>\n",
              "      <td>89</td>\n",
              "      <td>91</td>\n",
              "    </tr>\n",
              "    <tr>\n",
              "      <th>1</th>\n",
              "      <td>222</td>\n",
              "      <td>Naren</td>\n",
              "      <td>7</td>\n",
              "      <td>Viz</td>\n",
              "      <td>77</td>\n",
              "      <td>72</td>\n",
              "      <td>77</td>\n",
              "    </tr>\n",
              "    <tr>\n",
              "      <th>2</th>\n",
              "      <td>333</td>\n",
              "      <td>Kumar</td>\n",
              "      <td>9</td>\n",
              "      <td>Hyd</td>\n",
              "      <td>81</td>\n",
              "      <td>83</td>\n",
              "      <td>82</td>\n",
              "    </tr>\n",
              "    <tr>\n",
              "      <th>3</th>\n",
              "      <td>444</td>\n",
              "      <td>Shiva</td>\n",
              "      <td>10</td>\n",
              "      <td>Che</td>\n",
              "      <td>67</td>\n",
              "      <td>75</td>\n",
              "      <td>81</td>\n",
              "    </tr>\n",
              "    <tr>\n",
              "      <th>4</th>\n",
              "      <td>555</td>\n",
              "      <td>Ram</td>\n",
              "      <td>12</td>\n",
              "      <td>Viz</td>\n",
              "      <td>75</td>\n",
              "      <td>79</td>\n",
              "      <td>85</td>\n",
              "    </tr>\n",
              "  </tbody>\n",
              "</table>\n",
              "</div>"
            ],
            "text/plain": [
              "   Stdid StdName  StdClass City  ENGLISH  SCIENCE  COMPUTERS\n",
              "0    111  Shanti        10  Hyd       88       89         91\n",
              "1    222   Naren         7  Viz       77       72         77\n",
              "2    333   Kumar         9  Hyd       81       83         82\n",
              "3    444   Shiva        10  Che       67       75         81\n",
              "4    555     Ram        12  Viz       75       79         85"
            ]
          },
          "metadata": {
            "tags": []
          },
          "execution_count": 11
        }
      ]
    },
    {
      "cell_type": "code",
      "metadata": {
        "id": "Wmr5k1MKTwfY"
      },
      "source": [
        "dfstd[\"Total\"] = dfstd[\"ENGLISH\"] + dfstd[\"SCIENCE\"] + dfstd[\"COMPUTERS\"]"
      ],
      "execution_count": null,
      "outputs": []
    },
    {
      "cell_type": "code",
      "metadata": {
        "id": "UXKGgRcEUFvj"
      },
      "source": [
        "dfstd[\"AVERAGE\"] = dfstd[\"Total\"]/3"
      ],
      "execution_count": null,
      "outputs": []
    },
    {
      "cell_type": "code",
      "metadata": {
        "colab": {
          "base_uri": "https://localhost:8080/",
          "height": 195
        },
        "id": "L66u2NmLUNEp",
        "outputId": "2415ca4f-edca-428d-c87d-dd21548f26ac"
      },
      "source": [
        "dfstd"
      ],
      "execution_count": null,
      "outputs": [
        {
          "output_type": "execute_result",
          "data": {
            "text/html": [
              "<div>\n",
              "<style scoped>\n",
              "    .dataframe tbody tr th:only-of-type {\n",
              "        vertical-align: middle;\n",
              "    }\n",
              "\n",
              "    .dataframe tbody tr th {\n",
              "        vertical-align: top;\n",
              "    }\n",
              "\n",
              "    .dataframe thead th {\n",
              "        text-align: right;\n",
              "    }\n",
              "</style>\n",
              "<table border=\"1\" class=\"dataframe\">\n",
              "  <thead>\n",
              "    <tr style=\"text-align: right;\">\n",
              "      <th></th>\n",
              "      <th>Stdid</th>\n",
              "      <th>StdName</th>\n",
              "      <th>StdClass</th>\n",
              "      <th>City</th>\n",
              "      <th>ENGLISH</th>\n",
              "      <th>SCIENCE</th>\n",
              "      <th>COMPUTERS</th>\n",
              "      <th>Total</th>\n",
              "      <th>AVERAGE</th>\n",
              "    </tr>\n",
              "  </thead>\n",
              "  <tbody>\n",
              "    <tr>\n",
              "      <th>0</th>\n",
              "      <td>111</td>\n",
              "      <td>Shanti</td>\n",
              "      <td>10</td>\n",
              "      <td>Hyd</td>\n",
              "      <td>88</td>\n",
              "      <td>89</td>\n",
              "      <td>91</td>\n",
              "      <td>268</td>\n",
              "      <td>89.333333</td>\n",
              "    </tr>\n",
              "    <tr>\n",
              "      <th>1</th>\n",
              "      <td>222</td>\n",
              "      <td>Naren</td>\n",
              "      <td>7</td>\n",
              "      <td>Viz</td>\n",
              "      <td>77</td>\n",
              "      <td>72</td>\n",
              "      <td>77</td>\n",
              "      <td>226</td>\n",
              "      <td>75.333333</td>\n",
              "    </tr>\n",
              "    <tr>\n",
              "      <th>2</th>\n",
              "      <td>333</td>\n",
              "      <td>Kumar</td>\n",
              "      <td>9</td>\n",
              "      <td>Hyd</td>\n",
              "      <td>81</td>\n",
              "      <td>83</td>\n",
              "      <td>82</td>\n",
              "      <td>246</td>\n",
              "      <td>82.000000</td>\n",
              "    </tr>\n",
              "    <tr>\n",
              "      <th>3</th>\n",
              "      <td>444</td>\n",
              "      <td>Shiva</td>\n",
              "      <td>10</td>\n",
              "      <td>Che</td>\n",
              "      <td>67</td>\n",
              "      <td>75</td>\n",
              "      <td>81</td>\n",
              "      <td>223</td>\n",
              "      <td>74.333333</td>\n",
              "    </tr>\n",
              "    <tr>\n",
              "      <th>4</th>\n",
              "      <td>555</td>\n",
              "      <td>Ram</td>\n",
              "      <td>12</td>\n",
              "      <td>Viz</td>\n",
              "      <td>75</td>\n",
              "      <td>79</td>\n",
              "      <td>85</td>\n",
              "      <td>239</td>\n",
              "      <td>79.666667</td>\n",
              "    </tr>\n",
              "  </tbody>\n",
              "</table>\n",
              "</div>"
            ],
            "text/plain": [
              "   Stdid StdName  StdClass City  ENGLISH  SCIENCE  COMPUTERS  Total    AVERAGE\n",
              "0    111  Shanti        10  Hyd       88       89         91    268  89.333333\n",
              "1    222   Naren         7  Viz       77       72         77    226  75.333333\n",
              "2    333   Kumar         9  Hyd       81       83         82    246  82.000000\n",
              "3    444   Shiva        10  Che       67       75         81    223  74.333333\n",
              "4    555     Ram        12  Viz       75       79         85    239  79.666667"
            ]
          },
          "metadata": {
            "tags": []
          },
          "execution_count": 15
        }
      ]
    },
    {
      "cell_type": "code",
      "metadata": {
        "id": "UvwBhwNvURLX"
      },
      "source": [
        "gb_city =  dfstd.groupby(\"City\")"
      ],
      "execution_count": null,
      "outputs": []
    },
    {
      "cell_type": "code",
      "metadata": {
        "colab": {
          "base_uri": "https://localhost:8080/"
        },
        "id": "cUFlgRGDVBhT",
        "outputId": "936d4e9b-de92-4007-d988-62cea1a21042"
      },
      "source": [
        "print(gb_city)"
      ],
      "execution_count": null,
      "outputs": [
        {
          "output_type": "stream",
          "text": [
            "<pandas.core.groupby.generic.DataFrameGroupBy object at 0x7fbf1857d890>\n"
          ],
          "name": "stdout"
        }
      ]
    },
    {
      "cell_type": "code",
      "metadata": {
        "colab": {
          "base_uri": "https://localhost:8080/"
        },
        "id": "nrrX1LQqVDXC",
        "outputId": "272e3f10-2942-4789-c34c-2f2fce27ebc7"
      },
      "source": [
        "gb_city.groups"
      ],
      "execution_count": null,
      "outputs": [
        {
          "output_type": "execute_result",
          "data": {
            "text/plain": [
              "{'Che': [3], 'Hyd': [0, 2], 'Viz': [1, 4]}"
            ]
          },
          "metadata": {
            "tags": []
          },
          "execution_count": 19
        }
      ]
    },
    {
      "cell_type": "code",
      "metadata": {
        "colab": {
          "base_uri": "https://localhost:8080/"
        },
        "id": "0PeR6bGcVKCG",
        "outputId": "8a4019c4-f369-4b7b-f3dc-bd5a989a786b"
      },
      "source": [
        "gb_city"
      ],
      "execution_count": null,
      "outputs": [
        {
          "output_type": "execute_result",
          "data": {
            "text/plain": [
              "<pandas.core.groupby.generic.DataFrameGroupBy object at 0x7fbf1857d890>"
            ]
          },
          "metadata": {
            "tags": []
          },
          "execution_count": 20
        }
      ]
    },
    {
      "cell_type": "code",
      "metadata": {
        "colab": {
          "base_uri": "https://localhost:8080/"
        },
        "id": "6yBVhw9tVXqs",
        "outputId": "158b04b5-d3d8-4cdf-c1c0-ba745c49e46e"
      },
      "source": [
        "import time\n",
        "for i in gb_city:\n",
        "  print(i)\n",
        "  time.sleep(2)"
      ],
      "execution_count": null,
      "outputs": [
        {
          "output_type": "stream",
          "text": [
            "('Che',    Stdid StdName  StdClass City  ENGLISH  SCIENCE  COMPUTERS  Total    AVERAGE\n",
            "3    444   Shiva        10  Che       67       75         81    223  74.333333)\n",
            "('Hyd',    Stdid StdName  StdClass City  ENGLISH  SCIENCE  COMPUTERS  Total    AVERAGE\n",
            "0    111  Shanti        10  Hyd       88       89         91    268  89.333333\n",
            "2    333   Kumar         9  Hyd       81       83         82    246  82.000000)\n",
            "('Viz',    Stdid StdName  StdClass City  ENGLISH  SCIENCE  COMPUTERS  Total    AVERAGE\n",
            "1    222   Naren         7  Viz       77       72         77    226  75.333333\n",
            "4    555     Ram        12  Viz       75       79         85    239  79.666667)\n"
          ],
          "name": "stdout"
        }
      ]
    },
    {
      "cell_type": "code",
      "metadata": {
        "colab": {
          "base_uri": "https://localhost:8080/"
        },
        "id": "FpTYmOy-VaJR",
        "outputId": "9faf5a5a-cdb3-41fb-ed21-0741cc636574"
      },
      "source": [
        "for x, y in gb_city:\n",
        "  print(x)\n",
        "  print()\n",
        "  print(y)\n",
        "  print(\"**************\")\n",
        "  print()\n",
        "\n"
      ],
      "execution_count": null,
      "outputs": [
        {
          "output_type": "stream",
          "text": [
            "Che\n",
            "\n",
            "   Stdid StdName  StdClass City  ENGLISH  SCIENCE  COMPUTERS  Total    AVERAGE\n",
            "3    444   Shiva        10  Che       67       75         81    223  74.333333\n",
            "**************\n",
            "\n",
            "Hyd\n",
            "\n",
            "   Stdid StdName  StdClass City  ENGLISH  SCIENCE  COMPUTERS  Total    AVERAGE\n",
            "0    111  Shanti        10  Hyd       88       89         91    268  89.333333\n",
            "2    333   Kumar         9  Hyd       81       83         82    246  82.000000\n",
            "**************\n",
            "\n",
            "Viz\n",
            "\n",
            "   Stdid StdName  StdClass City  ENGLISH  SCIENCE  COMPUTERS  Total    AVERAGE\n",
            "1    222   Naren         7  Viz       77       72         77    226  75.333333\n",
            "4    555     Ram        12  Viz       75       79         85    239  79.666667\n",
            "**************\n",
            "\n"
          ],
          "name": "stdout"
        }
      ]
    },
    {
      "cell_type": "code",
      "metadata": {
        "id": "eFEUAj6oV0VG"
      },
      "source": [
        "dfstd.to_csv(\"std.csv\")"
      ],
      "execution_count": null,
      "outputs": []
    },
    {
      "cell_type": "code",
      "metadata": {
        "id": "wUW8n_RbWNhE"
      },
      "source": [
        "std1 = pd.read_csv(\"std1.csv\")"
      ],
      "execution_count": null,
      "outputs": []
    },
    {
      "cell_type": "code",
      "metadata": {
        "colab": {
          "base_uri": "https://localhost:8080/",
          "height": 728
        },
        "id": "TqI6ZGIdYaIm",
        "outputId": "3c094210-f2c8-4005-875f-90d45bf2ee74"
      },
      "source": [
        "std1"
      ],
      "execution_count": null,
      "outputs": [
        {
          "output_type": "execute_result",
          "data": {
            "text/html": [
              "<div>\n",
              "<style scoped>\n",
              "    .dataframe tbody tr th:only-of-type {\n",
              "        vertical-align: middle;\n",
              "    }\n",
              "\n",
              "    .dataframe tbody tr th {\n",
              "        vertical-align: top;\n",
              "    }\n",
              "\n",
              "    .dataframe thead th {\n",
              "        text-align: right;\n",
              "    }\n",
              "</style>\n",
              "<table border=\"1\" class=\"dataframe\">\n",
              "  <thead>\n",
              "    <tr style=\"text-align: right;\">\n",
              "      <th></th>\n",
              "      <th>StdID</th>\n",
              "      <th>SName</th>\n",
              "      <th>SClass</th>\n",
              "      <th>SCity</th>\n",
              "      <th>ENGLISH</th>\n",
              "      <th>SCIENCE</th>\n",
              "      <th>COMPUTERS</th>\n",
              "    </tr>\n",
              "  </thead>\n",
              "  <tbody>\n",
              "    <tr>\n",
              "      <th>0</th>\n",
              "      <td>111</td>\n",
              "      <td>Shanti</td>\n",
              "      <td>10</td>\n",
              "      <td>Hyd</td>\n",
              "      <td>88</td>\n",
              "      <td>89</td>\n",
              "      <td>91</td>\n",
              "    </tr>\n",
              "    <tr>\n",
              "      <th>1</th>\n",
              "      <td>222</td>\n",
              "      <td>Naren</td>\n",
              "      <td>8</td>\n",
              "      <td>Viz</td>\n",
              "      <td>77</td>\n",
              "      <td>72</td>\n",
              "      <td>77</td>\n",
              "    </tr>\n",
              "    <tr>\n",
              "      <th>2</th>\n",
              "      <td>333</td>\n",
              "      <td>Kumar</td>\n",
              "      <td>9</td>\n",
              "      <td>Hyd</td>\n",
              "      <td>81</td>\n",
              "      <td>83</td>\n",
              "      <td>82</td>\n",
              "    </tr>\n",
              "    <tr>\n",
              "      <th>3</th>\n",
              "      <td>444</td>\n",
              "      <td>Shiva</td>\n",
              "      <td>10</td>\n",
              "      <td>Che</td>\n",
              "      <td>67</td>\n",
              "      <td>75</td>\n",
              "      <td>81</td>\n",
              "    </tr>\n",
              "    <tr>\n",
              "      <th>4</th>\n",
              "      <td>555</td>\n",
              "      <td>Ram</td>\n",
              "      <td>12</td>\n",
              "      <td>Viz</td>\n",
              "      <td>75</td>\n",
              "      <td>79</td>\n",
              "      <td>85</td>\n",
              "    </tr>\n",
              "    <tr>\n",
              "      <th>5</th>\n",
              "      <td>666</td>\n",
              "      <td>Meena</td>\n",
              "      <td>10</td>\n",
              "      <td>Blr</td>\n",
              "      <td>89</td>\n",
              "      <td>81</td>\n",
              "      <td>75</td>\n",
              "    </tr>\n",
              "    <tr>\n",
              "      <th>6</th>\n",
              "      <td>777</td>\n",
              "      <td>AAA</td>\n",
              "      <td>8</td>\n",
              "      <td>Hyd</td>\n",
              "      <td>72</td>\n",
              "      <td>67</td>\n",
              "      <td>79</td>\n",
              "    </tr>\n",
              "    <tr>\n",
              "      <th>7</th>\n",
              "      <td>888</td>\n",
              "      <td>BBB</td>\n",
              "      <td>9</td>\n",
              "      <td>Che</td>\n",
              "      <td>83</td>\n",
              "      <td>75</td>\n",
              "      <td>81</td>\n",
              "    </tr>\n",
              "    <tr>\n",
              "      <th>8</th>\n",
              "      <td>999</td>\n",
              "      <td>CCC</td>\n",
              "      <td>10</td>\n",
              "      <td>Viz</td>\n",
              "      <td>75</td>\n",
              "      <td>89</td>\n",
              "      <td>67</td>\n",
              "    </tr>\n",
              "    <tr>\n",
              "      <th>9</th>\n",
              "      <td>1110</td>\n",
              "      <td>EEE</td>\n",
              "      <td>12</td>\n",
              "      <td>Che</td>\n",
              "      <td>79</td>\n",
              "      <td>72</td>\n",
              "      <td>75</td>\n",
              "    </tr>\n",
              "    <tr>\n",
              "      <th>10</th>\n",
              "      <td>1221</td>\n",
              "      <td>FFF</td>\n",
              "      <td>10</td>\n",
              "      <td>Viz</td>\n",
              "      <td>82</td>\n",
              "      <td>83</td>\n",
              "      <td>75</td>\n",
              "    </tr>\n",
              "    <tr>\n",
              "      <th>11</th>\n",
              "      <td>1332</td>\n",
              "      <td>GGG</td>\n",
              "      <td>12</td>\n",
              "      <td>Blr</td>\n",
              "      <td>81</td>\n",
              "      <td>75</td>\n",
              "      <td>79</td>\n",
              "    </tr>\n",
              "    <tr>\n",
              "      <th>12</th>\n",
              "      <td>1443</td>\n",
              "      <td>HHH</td>\n",
              "      <td>10</td>\n",
              "      <td>Hyd</td>\n",
              "      <td>85</td>\n",
              "      <td>89</td>\n",
              "      <td>82</td>\n",
              "    </tr>\n",
              "    <tr>\n",
              "      <th>13</th>\n",
              "      <td>1554</td>\n",
              "      <td>JJJ</td>\n",
              "      <td>11</td>\n",
              "      <td>Hyd</td>\n",
              "      <td>67</td>\n",
              "      <td>72</td>\n",
              "      <td>81</td>\n",
              "    </tr>\n",
              "    <tr>\n",
              "      <th>14</th>\n",
              "      <td>1665</td>\n",
              "      <td>KKK</td>\n",
              "      <td>12</td>\n",
              "      <td>Viz</td>\n",
              "      <td>75</td>\n",
              "      <td>83</td>\n",
              "      <td>82</td>\n",
              "    </tr>\n",
              "    <tr>\n",
              "      <th>15</th>\n",
              "      <td>2221</td>\n",
              "      <td>Naren1</td>\n",
              "      <td>8</td>\n",
              "      <td>Viz</td>\n",
              "      <td>77</td>\n",
              "      <td>72</td>\n",
              "      <td>77</td>\n",
              "    </tr>\n",
              "    <tr>\n",
              "      <th>16</th>\n",
              "      <td>2233</td>\n",
              "      <td>Kumar22</td>\n",
              "      <td>9</td>\n",
              "      <td>Hyd</td>\n",
              "      <td>81</td>\n",
              "      <td>83</td>\n",
              "      <td>82</td>\n",
              "    </tr>\n",
              "    <tr>\n",
              "      <th>17</th>\n",
              "      <td>2234</td>\n",
              "      <td>Shiva33</td>\n",
              "      <td>10</td>\n",
              "      <td>Che</td>\n",
              "      <td>67</td>\n",
              "      <td>75</td>\n",
              "      <td>81</td>\n",
              "    </tr>\n",
              "    <tr>\n",
              "      <th>18</th>\n",
              "      <td>2235</td>\n",
              "      <td>Ram44</td>\n",
              "      <td>12</td>\n",
              "      <td>Viz</td>\n",
              "      <td>75</td>\n",
              "      <td>79</td>\n",
              "      <td>85</td>\n",
              "    </tr>\n",
              "    <tr>\n",
              "      <th>19</th>\n",
              "      <td>2236</td>\n",
              "      <td>Meena55</td>\n",
              "      <td>10</td>\n",
              "      <td>Blr</td>\n",
              "      <td>89</td>\n",
              "      <td>81</td>\n",
              "      <td>75</td>\n",
              "    </tr>\n",
              "    <tr>\n",
              "      <th>20</th>\n",
              "      <td>2237</td>\n",
              "      <td>AAA1</td>\n",
              "      <td>8</td>\n",
              "      <td>Hyd</td>\n",
              "      <td>72</td>\n",
              "      <td>67</td>\n",
              "      <td>79</td>\n",
              "    </tr>\n",
              "    <tr>\n",
              "      <th>21</th>\n",
              "      <td>2238</td>\n",
              "      <td>BBB2</td>\n",
              "      <td>9</td>\n",
              "      <td>Che</td>\n",
              "      <td>83</td>\n",
              "      <td>75</td>\n",
              "      <td>81</td>\n",
              "    </tr>\n",
              "    <tr>\n",
              "      <th>22</th>\n",
              "      <td>2239</td>\n",
              "      <td>CCC3</td>\n",
              "      <td>10</td>\n",
              "      <td>Viz</td>\n",
              "      <td>75</td>\n",
              "      <td>89</td>\n",
              "      <td>67</td>\n",
              "    </tr>\n",
              "  </tbody>\n",
              "</table>\n",
              "</div>"
            ],
            "text/plain": [
              "    StdID    SName  SClass SCity  ENGLISH  SCIENCE  COMPUTERS\n",
              "0     111   Shanti      10   Hyd       88       89         91\n",
              "1     222    Naren       8   Viz       77       72         77\n",
              "2     333    Kumar       9   Hyd       81       83         82\n",
              "3     444    Shiva      10   Che       67       75         81\n",
              "4     555      Ram      12   Viz       75       79         85\n",
              "5     666    Meena      10   Blr       89       81         75\n",
              "6     777      AAA       8   Hyd       72       67         79\n",
              "7     888      BBB       9   Che       83       75         81\n",
              "8     999      CCC      10   Viz       75       89         67\n",
              "9    1110      EEE      12   Che       79       72         75\n",
              "10   1221      FFF      10   Viz       82       83         75\n",
              "11   1332      GGG      12   Blr       81       75         79\n",
              "12   1443      HHH      10   Hyd       85       89         82\n",
              "13   1554      JJJ      11   Hyd       67       72         81\n",
              "14   1665      KKK      12   Viz       75       83         82\n",
              "15   2221   Naren1       8   Viz       77       72         77\n",
              "16   2233  Kumar22       9   Hyd       81       83         82\n",
              "17   2234  Shiva33      10   Che       67       75         81\n",
              "18   2235    Ram44      12   Viz       75       79         85\n",
              "19   2236  Meena55      10   Blr       89       81         75\n",
              "20   2237     AAA1       8   Hyd       72       67         79\n",
              "21   2238     BBB2       9   Che       83       75         81\n",
              "22   2239     CCC3      10   Viz       75       89         67"
            ]
          },
          "metadata": {
            "tags": []
          },
          "execution_count": 26
        }
      ]
    },
    {
      "cell_type": "code",
      "metadata": {
        "id": "NBNAb4f_YbE4"
      },
      "source": [
        "std1[\"TOTAL\"] = std1[\"ENGLISH\"] + std1[\"SCIENCE\"] + std1[\"COMPUTERS\"]"
      ],
      "execution_count": null,
      "outputs": []
    },
    {
      "cell_type": "code",
      "metadata": {
        "id": "9ezGOgDDYpI_"
      },
      "source": [
        "std1[\"AVERAGE\"] = std1[\"TOTAL\"]/3"
      ],
      "execution_count": null,
      "outputs": []
    },
    {
      "cell_type": "code",
      "metadata": {
        "colab": {
          "base_uri": "https://localhost:8080/",
          "height": 728
        },
        "id": "C8f3ZY7WYuhf",
        "outputId": "b2991547-b843-4ef9-a8d8-aacc04ebd699"
      },
      "source": [
        "std1"
      ],
      "execution_count": null,
      "outputs": [
        {
          "output_type": "execute_result",
          "data": {
            "text/html": [
              "<div>\n",
              "<style scoped>\n",
              "    .dataframe tbody tr th:only-of-type {\n",
              "        vertical-align: middle;\n",
              "    }\n",
              "\n",
              "    .dataframe tbody tr th {\n",
              "        vertical-align: top;\n",
              "    }\n",
              "\n",
              "    .dataframe thead th {\n",
              "        text-align: right;\n",
              "    }\n",
              "</style>\n",
              "<table border=\"1\" class=\"dataframe\">\n",
              "  <thead>\n",
              "    <tr style=\"text-align: right;\">\n",
              "      <th></th>\n",
              "      <th>StdID</th>\n",
              "      <th>SName</th>\n",
              "      <th>SClass</th>\n",
              "      <th>SCity</th>\n",
              "      <th>ENGLISH</th>\n",
              "      <th>SCIENCE</th>\n",
              "      <th>COMPUTERS</th>\n",
              "      <th>TOTAL</th>\n",
              "      <th>AVERAGE</th>\n",
              "    </tr>\n",
              "  </thead>\n",
              "  <tbody>\n",
              "    <tr>\n",
              "      <th>0</th>\n",
              "      <td>111</td>\n",
              "      <td>Shanti</td>\n",
              "      <td>10</td>\n",
              "      <td>Hyd</td>\n",
              "      <td>88</td>\n",
              "      <td>89</td>\n",
              "      <td>91</td>\n",
              "      <td>268</td>\n",
              "      <td>89.333333</td>\n",
              "    </tr>\n",
              "    <tr>\n",
              "      <th>1</th>\n",
              "      <td>222</td>\n",
              "      <td>Naren</td>\n",
              "      <td>8</td>\n",
              "      <td>Viz</td>\n",
              "      <td>77</td>\n",
              "      <td>72</td>\n",
              "      <td>77</td>\n",
              "      <td>226</td>\n",
              "      <td>75.333333</td>\n",
              "    </tr>\n",
              "    <tr>\n",
              "      <th>2</th>\n",
              "      <td>333</td>\n",
              "      <td>Kumar</td>\n",
              "      <td>9</td>\n",
              "      <td>Hyd</td>\n",
              "      <td>81</td>\n",
              "      <td>83</td>\n",
              "      <td>82</td>\n",
              "      <td>246</td>\n",
              "      <td>82.000000</td>\n",
              "    </tr>\n",
              "    <tr>\n",
              "      <th>3</th>\n",
              "      <td>444</td>\n",
              "      <td>Shiva</td>\n",
              "      <td>10</td>\n",
              "      <td>Che</td>\n",
              "      <td>67</td>\n",
              "      <td>75</td>\n",
              "      <td>81</td>\n",
              "      <td>223</td>\n",
              "      <td>74.333333</td>\n",
              "    </tr>\n",
              "    <tr>\n",
              "      <th>4</th>\n",
              "      <td>555</td>\n",
              "      <td>Ram</td>\n",
              "      <td>12</td>\n",
              "      <td>Viz</td>\n",
              "      <td>75</td>\n",
              "      <td>79</td>\n",
              "      <td>85</td>\n",
              "      <td>239</td>\n",
              "      <td>79.666667</td>\n",
              "    </tr>\n",
              "    <tr>\n",
              "      <th>5</th>\n",
              "      <td>666</td>\n",
              "      <td>Meena</td>\n",
              "      <td>10</td>\n",
              "      <td>Blr</td>\n",
              "      <td>89</td>\n",
              "      <td>81</td>\n",
              "      <td>75</td>\n",
              "      <td>245</td>\n",
              "      <td>81.666667</td>\n",
              "    </tr>\n",
              "    <tr>\n",
              "      <th>6</th>\n",
              "      <td>777</td>\n",
              "      <td>AAA</td>\n",
              "      <td>8</td>\n",
              "      <td>Hyd</td>\n",
              "      <td>72</td>\n",
              "      <td>67</td>\n",
              "      <td>79</td>\n",
              "      <td>218</td>\n",
              "      <td>72.666667</td>\n",
              "    </tr>\n",
              "    <tr>\n",
              "      <th>7</th>\n",
              "      <td>888</td>\n",
              "      <td>BBB</td>\n",
              "      <td>9</td>\n",
              "      <td>Che</td>\n",
              "      <td>83</td>\n",
              "      <td>75</td>\n",
              "      <td>81</td>\n",
              "      <td>239</td>\n",
              "      <td>79.666667</td>\n",
              "    </tr>\n",
              "    <tr>\n",
              "      <th>8</th>\n",
              "      <td>999</td>\n",
              "      <td>CCC</td>\n",
              "      <td>10</td>\n",
              "      <td>Viz</td>\n",
              "      <td>75</td>\n",
              "      <td>89</td>\n",
              "      <td>67</td>\n",
              "      <td>231</td>\n",
              "      <td>77.000000</td>\n",
              "    </tr>\n",
              "    <tr>\n",
              "      <th>9</th>\n",
              "      <td>1110</td>\n",
              "      <td>EEE</td>\n",
              "      <td>12</td>\n",
              "      <td>Che</td>\n",
              "      <td>79</td>\n",
              "      <td>72</td>\n",
              "      <td>75</td>\n",
              "      <td>226</td>\n",
              "      <td>75.333333</td>\n",
              "    </tr>\n",
              "    <tr>\n",
              "      <th>10</th>\n",
              "      <td>1221</td>\n",
              "      <td>FFF</td>\n",
              "      <td>10</td>\n",
              "      <td>Viz</td>\n",
              "      <td>82</td>\n",
              "      <td>83</td>\n",
              "      <td>75</td>\n",
              "      <td>240</td>\n",
              "      <td>80.000000</td>\n",
              "    </tr>\n",
              "    <tr>\n",
              "      <th>11</th>\n",
              "      <td>1332</td>\n",
              "      <td>GGG</td>\n",
              "      <td>12</td>\n",
              "      <td>Blr</td>\n",
              "      <td>81</td>\n",
              "      <td>75</td>\n",
              "      <td>79</td>\n",
              "      <td>235</td>\n",
              "      <td>78.333333</td>\n",
              "    </tr>\n",
              "    <tr>\n",
              "      <th>12</th>\n",
              "      <td>1443</td>\n",
              "      <td>HHH</td>\n",
              "      <td>10</td>\n",
              "      <td>Hyd</td>\n",
              "      <td>85</td>\n",
              "      <td>89</td>\n",
              "      <td>82</td>\n",
              "      <td>256</td>\n",
              "      <td>85.333333</td>\n",
              "    </tr>\n",
              "    <tr>\n",
              "      <th>13</th>\n",
              "      <td>1554</td>\n",
              "      <td>JJJ</td>\n",
              "      <td>11</td>\n",
              "      <td>Hyd</td>\n",
              "      <td>67</td>\n",
              "      <td>72</td>\n",
              "      <td>81</td>\n",
              "      <td>220</td>\n",
              "      <td>73.333333</td>\n",
              "    </tr>\n",
              "    <tr>\n",
              "      <th>14</th>\n",
              "      <td>1665</td>\n",
              "      <td>KKK</td>\n",
              "      <td>12</td>\n",
              "      <td>Viz</td>\n",
              "      <td>75</td>\n",
              "      <td>83</td>\n",
              "      <td>82</td>\n",
              "      <td>240</td>\n",
              "      <td>80.000000</td>\n",
              "    </tr>\n",
              "    <tr>\n",
              "      <th>15</th>\n",
              "      <td>2221</td>\n",
              "      <td>Naren1</td>\n",
              "      <td>8</td>\n",
              "      <td>Viz</td>\n",
              "      <td>77</td>\n",
              "      <td>72</td>\n",
              "      <td>77</td>\n",
              "      <td>226</td>\n",
              "      <td>75.333333</td>\n",
              "    </tr>\n",
              "    <tr>\n",
              "      <th>16</th>\n",
              "      <td>2233</td>\n",
              "      <td>Kumar22</td>\n",
              "      <td>9</td>\n",
              "      <td>Hyd</td>\n",
              "      <td>81</td>\n",
              "      <td>83</td>\n",
              "      <td>82</td>\n",
              "      <td>246</td>\n",
              "      <td>82.000000</td>\n",
              "    </tr>\n",
              "    <tr>\n",
              "      <th>17</th>\n",
              "      <td>2234</td>\n",
              "      <td>Shiva33</td>\n",
              "      <td>10</td>\n",
              "      <td>Che</td>\n",
              "      <td>67</td>\n",
              "      <td>75</td>\n",
              "      <td>81</td>\n",
              "      <td>223</td>\n",
              "      <td>74.333333</td>\n",
              "    </tr>\n",
              "    <tr>\n",
              "      <th>18</th>\n",
              "      <td>2235</td>\n",
              "      <td>Ram44</td>\n",
              "      <td>12</td>\n",
              "      <td>Viz</td>\n",
              "      <td>75</td>\n",
              "      <td>79</td>\n",
              "      <td>85</td>\n",
              "      <td>239</td>\n",
              "      <td>79.666667</td>\n",
              "    </tr>\n",
              "    <tr>\n",
              "      <th>19</th>\n",
              "      <td>2236</td>\n",
              "      <td>Meena55</td>\n",
              "      <td>10</td>\n",
              "      <td>Blr</td>\n",
              "      <td>89</td>\n",
              "      <td>81</td>\n",
              "      <td>75</td>\n",
              "      <td>245</td>\n",
              "      <td>81.666667</td>\n",
              "    </tr>\n",
              "    <tr>\n",
              "      <th>20</th>\n",
              "      <td>2237</td>\n",
              "      <td>AAA1</td>\n",
              "      <td>8</td>\n",
              "      <td>Hyd</td>\n",
              "      <td>72</td>\n",
              "      <td>67</td>\n",
              "      <td>79</td>\n",
              "      <td>218</td>\n",
              "      <td>72.666667</td>\n",
              "    </tr>\n",
              "    <tr>\n",
              "      <th>21</th>\n",
              "      <td>2238</td>\n",
              "      <td>BBB2</td>\n",
              "      <td>9</td>\n",
              "      <td>Che</td>\n",
              "      <td>83</td>\n",
              "      <td>75</td>\n",
              "      <td>81</td>\n",
              "      <td>239</td>\n",
              "      <td>79.666667</td>\n",
              "    </tr>\n",
              "    <tr>\n",
              "      <th>22</th>\n",
              "      <td>2239</td>\n",
              "      <td>CCC3</td>\n",
              "      <td>10</td>\n",
              "      <td>Viz</td>\n",
              "      <td>75</td>\n",
              "      <td>89</td>\n",
              "      <td>67</td>\n",
              "      <td>231</td>\n",
              "      <td>77.000000</td>\n",
              "    </tr>\n",
              "  </tbody>\n",
              "</table>\n",
              "</div>"
            ],
            "text/plain": [
              "    StdID    SName  SClass SCity  ENGLISH  SCIENCE  COMPUTERS  TOTAL    AVERAGE\n",
              "0     111   Shanti      10   Hyd       88       89         91    268  89.333333\n",
              "1     222    Naren       8   Viz       77       72         77    226  75.333333\n",
              "2     333    Kumar       9   Hyd       81       83         82    246  82.000000\n",
              "3     444    Shiva      10   Che       67       75         81    223  74.333333\n",
              "4     555      Ram      12   Viz       75       79         85    239  79.666667\n",
              "5     666    Meena      10   Blr       89       81         75    245  81.666667\n",
              "6     777      AAA       8   Hyd       72       67         79    218  72.666667\n",
              "7     888      BBB       9   Che       83       75         81    239  79.666667\n",
              "8     999      CCC      10   Viz       75       89         67    231  77.000000\n",
              "9    1110      EEE      12   Che       79       72         75    226  75.333333\n",
              "10   1221      FFF      10   Viz       82       83         75    240  80.000000\n",
              "11   1332      GGG      12   Blr       81       75         79    235  78.333333\n",
              "12   1443      HHH      10   Hyd       85       89         82    256  85.333333\n",
              "13   1554      JJJ      11   Hyd       67       72         81    220  73.333333\n",
              "14   1665      KKK      12   Viz       75       83         82    240  80.000000\n",
              "15   2221   Naren1       8   Viz       77       72         77    226  75.333333\n",
              "16   2233  Kumar22       9   Hyd       81       83         82    246  82.000000\n",
              "17   2234  Shiva33      10   Che       67       75         81    223  74.333333\n",
              "18   2235    Ram44      12   Viz       75       79         85    239  79.666667\n",
              "19   2236  Meena55      10   Blr       89       81         75    245  81.666667\n",
              "20   2237     AAA1       8   Hyd       72       67         79    218  72.666667\n",
              "21   2238     BBB2       9   Che       83       75         81    239  79.666667\n",
              "22   2239     CCC3      10   Viz       75       89         67    231  77.000000"
            ]
          },
          "metadata": {
            "tags": []
          },
          "execution_count": 29
        }
      ]
    },
    {
      "cell_type": "code",
      "metadata": {
        "id": "GOQHkcJKYwXS"
      },
      "source": [
        "gb_sclass = std1.groupby(\"SClass\")"
      ],
      "execution_count": null,
      "outputs": []
    },
    {
      "cell_type": "code",
      "metadata": {
        "colab": {
          "base_uri": "https://localhost:8080/"
        },
        "id": "w_Dt0CLvZB9W",
        "outputId": "bf6e5778-23f2-4cc5-da70-4a1f0a127c13"
      },
      "source": [
        "gb_sclass"
      ],
      "execution_count": null,
      "outputs": [
        {
          "output_type": "execute_result",
          "data": {
            "text/plain": [
              "<pandas.core.groupby.generic.DataFrameGroupBy object at 0x7fbf18502890>"
            ]
          },
          "metadata": {
            "tags": []
          },
          "execution_count": 32
        }
      ]
    },
    {
      "cell_type": "code",
      "metadata": {
        "colab": {
          "base_uri": "https://localhost:8080/"
        },
        "id": "nvAvBoXhZHeY",
        "outputId": "e2b3f50b-7fbd-433f-8064-6eab90fa73f8"
      },
      "source": [
        "gb_sclass.groups"
      ],
      "execution_count": null,
      "outputs": [
        {
          "output_type": "execute_result",
          "data": {
            "text/plain": [
              "{8: [1, 6, 15, 20], 9: [2, 7, 16, 21], 10: [0, 3, 5, 8, 10, 12, 17, 19, 22], 11: [13], 12: [4, 9, 11, 14, 18]}"
            ]
          },
          "metadata": {
            "tags": []
          },
          "execution_count": 34
        }
      ]
    },
    {
      "cell_type": "code",
      "metadata": {
        "colab": {
          "base_uri": "https://localhost:8080/"
        },
        "id": "QK0YwQgHZLYN",
        "outputId": "8f4fff2e-579c-4bce-e22d-48a9f9d3e2ac"
      },
      "source": [
        "for i in gb_sclass:\n",
        "  print(i)"
      ],
      "execution_count": null,
      "outputs": [
        {
          "output_type": "stream",
          "text": [
            "(8,     StdID   SName  SClass SCity  ENGLISH  SCIENCE  COMPUTERS  TOTAL    AVERAGE\n",
            "1     222   Naren       8   Viz       77       72         77    226  75.333333\n",
            "6     777     AAA       8   Hyd       72       67         79    218  72.666667\n",
            "15   2221  Naren1       8   Viz       77       72         77    226  75.333333\n",
            "20   2237    AAA1       8   Hyd       72       67         79    218  72.666667)\n",
            "(9,     StdID    SName  SClass SCity  ENGLISH  SCIENCE  COMPUTERS  TOTAL    AVERAGE\n",
            "2     333    Kumar       9   Hyd       81       83         82    246  82.000000\n",
            "7     888      BBB       9   Che       83       75         81    239  79.666667\n",
            "16   2233  Kumar22       9   Hyd       81       83         82    246  82.000000\n",
            "21   2238     BBB2       9   Che       83       75         81    239  79.666667)\n",
            "(10,     StdID    SName  SClass SCity  ENGLISH  SCIENCE  COMPUTERS  TOTAL    AVERAGE\n",
            "0     111   Shanti      10   Hyd       88       89         91    268  89.333333\n",
            "3     444    Shiva      10   Che       67       75         81    223  74.333333\n",
            "5     666    Meena      10   Blr       89       81         75    245  81.666667\n",
            "8     999      CCC      10   Viz       75       89         67    231  77.000000\n",
            "10   1221      FFF      10   Viz       82       83         75    240  80.000000\n",
            "12   1443      HHH      10   Hyd       85       89         82    256  85.333333\n",
            "17   2234  Shiva33      10   Che       67       75         81    223  74.333333\n",
            "19   2236  Meena55      10   Blr       89       81         75    245  81.666667\n",
            "22   2239     CCC3      10   Viz       75       89         67    231  77.000000)\n",
            "(11,     StdID SName  SClass SCity  ENGLISH  SCIENCE  COMPUTERS  TOTAL    AVERAGE\n",
            "13   1554   JJJ      11   Hyd       67       72         81    220  73.333333)\n",
            "(12,     StdID  SName  SClass SCity  ENGLISH  SCIENCE  COMPUTERS  TOTAL    AVERAGE\n",
            "4     555    Ram      12   Viz       75       79         85    239  79.666667\n",
            "9    1110    EEE      12   Che       79       72         75    226  75.333333\n",
            "11   1332    GGG      12   Blr       81       75         79    235  78.333333\n",
            "14   1665    KKK      12   Viz       75       83         82    240  80.000000\n",
            "18   2235  Ram44      12   Viz       75       79         85    239  79.666667)\n"
          ],
          "name": "stdout"
        }
      ]
    },
    {
      "cell_type": "code",
      "metadata": {
        "colab": {
          "base_uri": "https://localhost:8080/"
        },
        "id": "TIZPuAGZZYFa",
        "outputId": "92476870-679b-4e9f-88fc-a10569a30d42"
      },
      "source": [
        "for x,y in gb_sclass:\n",
        "  print()\n",
        "  print(\"CLASS :\",x)\n",
        "  print()\n",
        "  print(y)\n",
        "  print(\"*************************\")"
      ],
      "execution_count": null,
      "outputs": [
        {
          "output_type": "stream",
          "text": [
            "\n",
            "CLASS : 8\n",
            "\n",
            "    StdID   SName  SClass SCity  ENGLISH  SCIENCE  COMPUTERS  TOTAL    AVERAGE\n",
            "1     222   Naren       8   Viz       77       72         77    226  75.333333\n",
            "6     777     AAA       8   Hyd       72       67         79    218  72.666667\n",
            "15   2221  Naren1       8   Viz       77       72         77    226  75.333333\n",
            "20   2237    AAA1       8   Hyd       72       67         79    218  72.666667\n",
            "*************************\n",
            "\n",
            "CLASS : 9\n",
            "\n",
            "    StdID    SName  SClass SCity  ENGLISH  SCIENCE  COMPUTERS  TOTAL    AVERAGE\n",
            "2     333    Kumar       9   Hyd       81       83         82    246  82.000000\n",
            "7     888      BBB       9   Che       83       75         81    239  79.666667\n",
            "16   2233  Kumar22       9   Hyd       81       83         82    246  82.000000\n",
            "21   2238     BBB2       9   Che       83       75         81    239  79.666667\n",
            "*************************\n",
            "\n",
            "CLASS : 10\n",
            "\n",
            "    StdID    SName  SClass SCity  ENGLISH  SCIENCE  COMPUTERS  TOTAL    AVERAGE\n",
            "0     111   Shanti      10   Hyd       88       89         91    268  89.333333\n",
            "3     444    Shiva      10   Che       67       75         81    223  74.333333\n",
            "5     666    Meena      10   Blr       89       81         75    245  81.666667\n",
            "8     999      CCC      10   Viz       75       89         67    231  77.000000\n",
            "10   1221      FFF      10   Viz       82       83         75    240  80.000000\n",
            "12   1443      HHH      10   Hyd       85       89         82    256  85.333333\n",
            "17   2234  Shiva33      10   Che       67       75         81    223  74.333333\n",
            "19   2236  Meena55      10   Blr       89       81         75    245  81.666667\n",
            "22   2239     CCC3      10   Viz       75       89         67    231  77.000000\n",
            "*************************\n",
            "\n",
            "CLASS : 11\n",
            "\n",
            "    StdID SName  SClass SCity  ENGLISH  SCIENCE  COMPUTERS  TOTAL    AVERAGE\n",
            "13   1554   JJJ      11   Hyd       67       72         81    220  73.333333\n",
            "*************************\n",
            "\n",
            "CLASS : 12\n",
            "\n",
            "    StdID  SName  SClass SCity  ENGLISH  SCIENCE  COMPUTERS  TOTAL    AVERAGE\n",
            "4     555    Ram      12   Viz       75       79         85    239  79.666667\n",
            "9    1110    EEE      12   Che       79       72         75    226  75.333333\n",
            "11   1332    GGG      12   Blr       81       75         79    235  78.333333\n",
            "14   1665    KKK      12   Viz       75       83         82    240  80.000000\n",
            "18   2235  Ram44      12   Viz       75       79         85    239  79.666667\n",
            "*************************\n"
          ],
          "name": "stdout"
        }
      ]
    },
    {
      "cell_type": "code",
      "metadata": {
        "colab": {
          "base_uri": "https://localhost:8080/",
          "height": 225
        },
        "id": "No3cAHN3aGY1",
        "outputId": "9e7ae822-6af8-4d7a-86f0-6b7b02b1f1bc"
      },
      "source": [
        "gb_sclass.count()"
      ],
      "execution_count": null,
      "outputs": [
        {
          "output_type": "execute_result",
          "data": {
            "text/html": [
              "<div>\n",
              "<style scoped>\n",
              "    .dataframe tbody tr th:only-of-type {\n",
              "        vertical-align: middle;\n",
              "    }\n",
              "\n",
              "    .dataframe tbody tr th {\n",
              "        vertical-align: top;\n",
              "    }\n",
              "\n",
              "    .dataframe thead th {\n",
              "        text-align: right;\n",
              "    }\n",
              "</style>\n",
              "<table border=\"1\" class=\"dataframe\">\n",
              "  <thead>\n",
              "    <tr style=\"text-align: right;\">\n",
              "      <th></th>\n",
              "      <th>StdID</th>\n",
              "      <th>SName</th>\n",
              "      <th>SCity</th>\n",
              "      <th>ENGLISH</th>\n",
              "      <th>SCIENCE</th>\n",
              "      <th>COMPUTERS</th>\n",
              "      <th>TOTAL</th>\n",
              "      <th>AVERAGE</th>\n",
              "    </tr>\n",
              "    <tr>\n",
              "      <th>SClass</th>\n",
              "      <th></th>\n",
              "      <th></th>\n",
              "      <th></th>\n",
              "      <th></th>\n",
              "      <th></th>\n",
              "      <th></th>\n",
              "      <th></th>\n",
              "      <th></th>\n",
              "    </tr>\n",
              "  </thead>\n",
              "  <tbody>\n",
              "    <tr>\n",
              "      <th>8</th>\n",
              "      <td>4</td>\n",
              "      <td>4</td>\n",
              "      <td>4</td>\n",
              "      <td>4</td>\n",
              "      <td>4</td>\n",
              "      <td>4</td>\n",
              "      <td>4</td>\n",
              "      <td>4</td>\n",
              "    </tr>\n",
              "    <tr>\n",
              "      <th>9</th>\n",
              "      <td>4</td>\n",
              "      <td>4</td>\n",
              "      <td>4</td>\n",
              "      <td>4</td>\n",
              "      <td>4</td>\n",
              "      <td>4</td>\n",
              "      <td>4</td>\n",
              "      <td>4</td>\n",
              "    </tr>\n",
              "    <tr>\n",
              "      <th>10</th>\n",
              "      <td>9</td>\n",
              "      <td>9</td>\n",
              "      <td>9</td>\n",
              "      <td>9</td>\n",
              "      <td>9</td>\n",
              "      <td>9</td>\n",
              "      <td>9</td>\n",
              "      <td>9</td>\n",
              "    </tr>\n",
              "    <tr>\n",
              "      <th>11</th>\n",
              "      <td>1</td>\n",
              "      <td>1</td>\n",
              "      <td>1</td>\n",
              "      <td>1</td>\n",
              "      <td>1</td>\n",
              "      <td>1</td>\n",
              "      <td>1</td>\n",
              "      <td>1</td>\n",
              "    </tr>\n",
              "    <tr>\n",
              "      <th>12</th>\n",
              "      <td>5</td>\n",
              "      <td>5</td>\n",
              "      <td>5</td>\n",
              "      <td>5</td>\n",
              "      <td>5</td>\n",
              "      <td>5</td>\n",
              "      <td>5</td>\n",
              "      <td>5</td>\n",
              "    </tr>\n",
              "  </tbody>\n",
              "</table>\n",
              "</div>"
            ],
            "text/plain": [
              "        StdID  SName  SCity  ENGLISH  SCIENCE  COMPUTERS  TOTAL  AVERAGE\n",
              "SClass                                                                  \n",
              "8           4      4      4        4        4          4      4        4\n",
              "9           4      4      4        4        4          4      4        4\n",
              "10          9      9      9        9        9          9      9        9\n",
              "11          1      1      1        1        1          1      1        1\n",
              "12          5      5      5        5        5          5      5        5"
            ]
          },
          "metadata": {
            "tags": []
          },
          "execution_count": 39
        }
      ]
    },
    {
      "cell_type": "code",
      "metadata": {
        "id": "Y2iwqROFaKB3"
      },
      "source": [
        "df_10 = gb_sclass.get_group(10)"
      ],
      "execution_count": null,
      "outputs": []
    },
    {
      "cell_type": "code",
      "metadata": {
        "colab": {
          "base_uri": "https://localhost:8080/",
          "height": 314
        },
        "id": "eSvvzDVYbsAs",
        "outputId": "96c2c1a8-0148-472a-b68b-2d01bb0bb603"
      },
      "source": [
        "df_10"
      ],
      "execution_count": null,
      "outputs": [
        {
          "output_type": "execute_result",
          "data": {
            "text/html": [
              "<div>\n",
              "<style scoped>\n",
              "    .dataframe tbody tr th:only-of-type {\n",
              "        vertical-align: middle;\n",
              "    }\n",
              "\n",
              "    .dataframe tbody tr th {\n",
              "        vertical-align: top;\n",
              "    }\n",
              "\n",
              "    .dataframe thead th {\n",
              "        text-align: right;\n",
              "    }\n",
              "</style>\n",
              "<table border=\"1\" class=\"dataframe\">\n",
              "  <thead>\n",
              "    <tr style=\"text-align: right;\">\n",
              "      <th></th>\n",
              "      <th>StdID</th>\n",
              "      <th>SName</th>\n",
              "      <th>SClass</th>\n",
              "      <th>SCity</th>\n",
              "      <th>ENGLISH</th>\n",
              "      <th>SCIENCE</th>\n",
              "      <th>COMPUTERS</th>\n",
              "      <th>TOTAL</th>\n",
              "      <th>AVERAGE</th>\n",
              "    </tr>\n",
              "  </thead>\n",
              "  <tbody>\n",
              "    <tr>\n",
              "      <th>0</th>\n",
              "      <td>111</td>\n",
              "      <td>Shanti</td>\n",
              "      <td>10</td>\n",
              "      <td>Hyd</td>\n",
              "      <td>88</td>\n",
              "      <td>89</td>\n",
              "      <td>91</td>\n",
              "      <td>268</td>\n",
              "      <td>89.333333</td>\n",
              "    </tr>\n",
              "    <tr>\n",
              "      <th>3</th>\n",
              "      <td>444</td>\n",
              "      <td>Shiva</td>\n",
              "      <td>10</td>\n",
              "      <td>Che</td>\n",
              "      <td>67</td>\n",
              "      <td>75</td>\n",
              "      <td>81</td>\n",
              "      <td>223</td>\n",
              "      <td>74.333333</td>\n",
              "    </tr>\n",
              "    <tr>\n",
              "      <th>5</th>\n",
              "      <td>666</td>\n",
              "      <td>Meena</td>\n",
              "      <td>10</td>\n",
              "      <td>Blr</td>\n",
              "      <td>89</td>\n",
              "      <td>81</td>\n",
              "      <td>75</td>\n",
              "      <td>245</td>\n",
              "      <td>81.666667</td>\n",
              "    </tr>\n",
              "    <tr>\n",
              "      <th>8</th>\n",
              "      <td>999</td>\n",
              "      <td>CCC</td>\n",
              "      <td>10</td>\n",
              "      <td>Viz</td>\n",
              "      <td>75</td>\n",
              "      <td>89</td>\n",
              "      <td>67</td>\n",
              "      <td>231</td>\n",
              "      <td>77.000000</td>\n",
              "    </tr>\n",
              "    <tr>\n",
              "      <th>10</th>\n",
              "      <td>1221</td>\n",
              "      <td>FFF</td>\n",
              "      <td>10</td>\n",
              "      <td>Viz</td>\n",
              "      <td>82</td>\n",
              "      <td>83</td>\n",
              "      <td>75</td>\n",
              "      <td>240</td>\n",
              "      <td>80.000000</td>\n",
              "    </tr>\n",
              "    <tr>\n",
              "      <th>12</th>\n",
              "      <td>1443</td>\n",
              "      <td>HHH</td>\n",
              "      <td>10</td>\n",
              "      <td>Hyd</td>\n",
              "      <td>85</td>\n",
              "      <td>89</td>\n",
              "      <td>82</td>\n",
              "      <td>256</td>\n",
              "      <td>85.333333</td>\n",
              "    </tr>\n",
              "    <tr>\n",
              "      <th>17</th>\n",
              "      <td>2234</td>\n",
              "      <td>Shiva33</td>\n",
              "      <td>10</td>\n",
              "      <td>Che</td>\n",
              "      <td>67</td>\n",
              "      <td>75</td>\n",
              "      <td>81</td>\n",
              "      <td>223</td>\n",
              "      <td>74.333333</td>\n",
              "    </tr>\n",
              "    <tr>\n",
              "      <th>19</th>\n",
              "      <td>2236</td>\n",
              "      <td>Meena55</td>\n",
              "      <td>10</td>\n",
              "      <td>Blr</td>\n",
              "      <td>89</td>\n",
              "      <td>81</td>\n",
              "      <td>75</td>\n",
              "      <td>245</td>\n",
              "      <td>81.666667</td>\n",
              "    </tr>\n",
              "    <tr>\n",
              "      <th>22</th>\n",
              "      <td>2239</td>\n",
              "      <td>CCC3</td>\n",
              "      <td>10</td>\n",
              "      <td>Viz</td>\n",
              "      <td>75</td>\n",
              "      <td>89</td>\n",
              "      <td>67</td>\n",
              "      <td>231</td>\n",
              "      <td>77.000000</td>\n",
              "    </tr>\n",
              "  </tbody>\n",
              "</table>\n",
              "</div>"
            ],
            "text/plain": [
              "    StdID    SName  SClass SCity  ENGLISH  SCIENCE  COMPUTERS  TOTAL    AVERAGE\n",
              "0     111   Shanti      10   Hyd       88       89         91    268  89.333333\n",
              "3     444    Shiva      10   Che       67       75         81    223  74.333333\n",
              "5     666    Meena      10   Blr       89       81         75    245  81.666667\n",
              "8     999      CCC      10   Viz       75       89         67    231  77.000000\n",
              "10   1221      FFF      10   Viz       82       83         75    240  80.000000\n",
              "12   1443      HHH      10   Hyd       85       89         82    256  85.333333\n",
              "17   2234  Shiva33      10   Che       67       75         81    223  74.333333\n",
              "19   2236  Meena55      10   Blr       89       81         75    245  81.666667\n",
              "22   2239     CCC3      10   Viz       75       89         67    231  77.000000"
            ]
          },
          "metadata": {
            "tags": []
          },
          "execution_count": 51
        }
      ]
    },
    {
      "cell_type": "code",
      "metadata": {
        "colab": {
          "base_uri": "https://localhost:8080/"
        },
        "id": "RGr5de75ab5z",
        "outputId": "2798fbde-3874-4589-91c0-c5bf285a404a"
      },
      "source": [
        "gb_sclass.get_group(10)[\"SClass\"].count()"
      ],
      "execution_count": null,
      "outputs": [
        {
          "output_type": "execute_result",
          "data": {
            "text/plain": [
              "9"
            ]
          },
          "metadata": {
            "tags": []
          },
          "execution_count": 43
        }
      ]
    },
    {
      "cell_type": "code",
      "metadata": {
        "colab": {
          "base_uri": "https://localhost:8080/"
        },
        "id": "Rrp1F-pDavBJ",
        "outputId": "cbf028d3-aa2f-4667-b0cf-88093f451b10"
      },
      "source": [
        "df_10[\"COMPUTERS\"].max()"
      ],
      "execution_count": null,
      "outputs": [
        {
          "output_type": "execute_result",
          "data": {
            "text/plain": [
              "91"
            ]
          },
          "metadata": {
            "tags": []
          },
          "execution_count": 46
        }
      ]
    },
    {
      "cell_type": "code",
      "metadata": {
        "colab": {
          "base_uri": "https://localhost:8080/"
        },
        "id": "iOAz0SmgbE2W",
        "outputId": "dc4721c2-fdb5-4717-825e-e0cfbcc95032"
      },
      "source": [
        "df_10[\"COMPUTERS\"] == df_10[\"COMPUTERS\"].max()"
      ],
      "execution_count": null,
      "outputs": [
        {
          "output_type": "execute_result",
          "data": {
            "text/plain": [
              "0      True\n",
              "3     False\n",
              "5     False\n",
              "8     False\n",
              "10    False\n",
              "12    False\n",
              "17    False\n",
              "19    False\n",
              "22    False\n",
              "Name: COMPUTERS, dtype: bool"
            ]
          },
          "metadata": {
            "tags": []
          },
          "execution_count": 49
        }
      ]
    },
    {
      "cell_type": "code",
      "metadata": {
        "colab": {
          "base_uri": "https://localhost:8080/",
          "height": 77
        },
        "id": "MmTrVJCMbLzO",
        "outputId": "b64188e5-ed50-47e5-af2b-6ef9162d8299"
      },
      "source": [
        "df_10[ df_10[\"COMPUTERS\"] == df_10[\"COMPUTERS\"].max() ]"
      ],
      "execution_count": null,
      "outputs": [
        {
          "output_type": "execute_result",
          "data": {
            "text/html": [
              "<div>\n",
              "<style scoped>\n",
              "    .dataframe tbody tr th:only-of-type {\n",
              "        vertical-align: middle;\n",
              "    }\n",
              "\n",
              "    .dataframe tbody tr th {\n",
              "        vertical-align: top;\n",
              "    }\n",
              "\n",
              "    .dataframe thead th {\n",
              "        text-align: right;\n",
              "    }\n",
              "</style>\n",
              "<table border=\"1\" class=\"dataframe\">\n",
              "  <thead>\n",
              "    <tr style=\"text-align: right;\">\n",
              "      <th></th>\n",
              "      <th>StdID</th>\n",
              "      <th>SName</th>\n",
              "      <th>SClass</th>\n",
              "      <th>SCity</th>\n",
              "      <th>ENGLISH</th>\n",
              "      <th>SCIENCE</th>\n",
              "      <th>COMPUTERS</th>\n",
              "      <th>TOTAL</th>\n",
              "      <th>AVERAGE</th>\n",
              "    </tr>\n",
              "  </thead>\n",
              "  <tbody>\n",
              "    <tr>\n",
              "      <th>0</th>\n",
              "      <td>111</td>\n",
              "      <td>Shanti</td>\n",
              "      <td>10</td>\n",
              "      <td>Hyd</td>\n",
              "      <td>88</td>\n",
              "      <td>89</td>\n",
              "      <td>91</td>\n",
              "      <td>268</td>\n",
              "      <td>89.333333</td>\n",
              "    </tr>\n",
              "  </tbody>\n",
              "</table>\n",
              "</div>"
            ],
            "text/plain": [
              "   StdID   SName  SClass SCity  ENGLISH  SCIENCE  COMPUTERS  TOTAL    AVERAGE\n",
              "0    111  Shanti      10   Hyd       88       89         91    268  89.333333"
            ]
          },
          "metadata": {
            "tags": []
          },
          "execution_count": 52
        }
      ]
    },
    {
      "cell_type": "code",
      "metadata": {
        "colab": {
          "base_uri": "https://localhost:8080/",
          "height": 166
        },
        "id": "Tp3x_1p8biDV",
        "outputId": "51fca62f-3128-4f14-a820-7afa3aa83b33"
      },
      "source": [
        "gb_sclass.get_group(8)"
      ],
      "execution_count": null,
      "outputs": [
        {
          "output_type": "execute_result",
          "data": {
            "text/html": [
              "<div>\n",
              "<style scoped>\n",
              "    .dataframe tbody tr th:only-of-type {\n",
              "        vertical-align: middle;\n",
              "    }\n",
              "\n",
              "    .dataframe tbody tr th {\n",
              "        vertical-align: top;\n",
              "    }\n",
              "\n",
              "    .dataframe thead th {\n",
              "        text-align: right;\n",
              "    }\n",
              "</style>\n",
              "<table border=\"1\" class=\"dataframe\">\n",
              "  <thead>\n",
              "    <tr style=\"text-align: right;\">\n",
              "      <th></th>\n",
              "      <th>StdID</th>\n",
              "      <th>SName</th>\n",
              "      <th>SClass</th>\n",
              "      <th>SCity</th>\n",
              "      <th>ENGLISH</th>\n",
              "      <th>SCIENCE</th>\n",
              "      <th>COMPUTERS</th>\n",
              "      <th>TOTAL</th>\n",
              "      <th>AVERAGE</th>\n",
              "    </tr>\n",
              "  </thead>\n",
              "  <tbody>\n",
              "    <tr>\n",
              "      <th>1</th>\n",
              "      <td>222</td>\n",
              "      <td>Naren</td>\n",
              "      <td>8</td>\n",
              "      <td>Viz</td>\n",
              "      <td>77</td>\n",
              "      <td>72</td>\n",
              "      <td>77</td>\n",
              "      <td>226</td>\n",
              "      <td>75.333333</td>\n",
              "    </tr>\n",
              "    <tr>\n",
              "      <th>6</th>\n",
              "      <td>777</td>\n",
              "      <td>AAA</td>\n",
              "      <td>8</td>\n",
              "      <td>Hyd</td>\n",
              "      <td>72</td>\n",
              "      <td>67</td>\n",
              "      <td>79</td>\n",
              "      <td>218</td>\n",
              "      <td>72.666667</td>\n",
              "    </tr>\n",
              "    <tr>\n",
              "      <th>15</th>\n",
              "      <td>2221</td>\n",
              "      <td>Naren1</td>\n",
              "      <td>8</td>\n",
              "      <td>Viz</td>\n",
              "      <td>77</td>\n",
              "      <td>72</td>\n",
              "      <td>77</td>\n",
              "      <td>226</td>\n",
              "      <td>75.333333</td>\n",
              "    </tr>\n",
              "    <tr>\n",
              "      <th>20</th>\n",
              "      <td>2237</td>\n",
              "      <td>AAA1</td>\n",
              "      <td>8</td>\n",
              "      <td>Hyd</td>\n",
              "      <td>72</td>\n",
              "      <td>67</td>\n",
              "      <td>79</td>\n",
              "      <td>218</td>\n",
              "      <td>72.666667</td>\n",
              "    </tr>\n",
              "  </tbody>\n",
              "</table>\n",
              "</div>"
            ],
            "text/plain": [
              "    StdID   SName  SClass SCity  ENGLISH  SCIENCE  COMPUTERS  TOTAL    AVERAGE\n",
              "1     222   Naren       8   Viz       77       72         77    226  75.333333\n",
              "6     777     AAA       8   Hyd       72       67         79    218  72.666667\n",
              "15   2221  Naren1       8   Viz       77       72         77    226  75.333333\n",
              "20   2237    AAA1       8   Hyd       72       67         79    218  72.666667"
            ]
          },
          "metadata": {
            "tags": []
          },
          "execution_count": 54
        }
      ]
    },
    {
      "cell_type": "code",
      "metadata": {
        "colab": {
          "base_uri": "https://localhost:8080/",
          "height": 166
        },
        "id": "mI5rVSEecDHY",
        "outputId": "7071a27e-2279-48ee-c337-9e54c1a2a474"
      },
      "source": [
        "gb_sclass.get_group(9)"
      ],
      "execution_count": null,
      "outputs": [
        {
          "output_type": "execute_result",
          "data": {
            "text/html": [
              "<div>\n",
              "<style scoped>\n",
              "    .dataframe tbody tr th:only-of-type {\n",
              "        vertical-align: middle;\n",
              "    }\n",
              "\n",
              "    .dataframe tbody tr th {\n",
              "        vertical-align: top;\n",
              "    }\n",
              "\n",
              "    .dataframe thead th {\n",
              "        text-align: right;\n",
              "    }\n",
              "</style>\n",
              "<table border=\"1\" class=\"dataframe\">\n",
              "  <thead>\n",
              "    <tr style=\"text-align: right;\">\n",
              "      <th></th>\n",
              "      <th>StdID</th>\n",
              "      <th>SName</th>\n",
              "      <th>SClass</th>\n",
              "      <th>SCity</th>\n",
              "      <th>ENGLISH</th>\n",
              "      <th>SCIENCE</th>\n",
              "      <th>COMPUTERS</th>\n",
              "      <th>TOTAL</th>\n",
              "      <th>AVERAGE</th>\n",
              "    </tr>\n",
              "  </thead>\n",
              "  <tbody>\n",
              "    <tr>\n",
              "      <th>2</th>\n",
              "      <td>333</td>\n",
              "      <td>Kumar</td>\n",
              "      <td>9</td>\n",
              "      <td>Hyd</td>\n",
              "      <td>81</td>\n",
              "      <td>83</td>\n",
              "      <td>82</td>\n",
              "      <td>246</td>\n",
              "      <td>82.000000</td>\n",
              "    </tr>\n",
              "    <tr>\n",
              "      <th>7</th>\n",
              "      <td>888</td>\n",
              "      <td>BBB</td>\n",
              "      <td>9</td>\n",
              "      <td>Che</td>\n",
              "      <td>83</td>\n",
              "      <td>75</td>\n",
              "      <td>81</td>\n",
              "      <td>239</td>\n",
              "      <td>79.666667</td>\n",
              "    </tr>\n",
              "    <tr>\n",
              "      <th>16</th>\n",
              "      <td>2233</td>\n",
              "      <td>Kumar22</td>\n",
              "      <td>9</td>\n",
              "      <td>Hyd</td>\n",
              "      <td>81</td>\n",
              "      <td>83</td>\n",
              "      <td>82</td>\n",
              "      <td>246</td>\n",
              "      <td>82.000000</td>\n",
              "    </tr>\n",
              "    <tr>\n",
              "      <th>21</th>\n",
              "      <td>2238</td>\n",
              "      <td>BBB2</td>\n",
              "      <td>9</td>\n",
              "      <td>Che</td>\n",
              "      <td>83</td>\n",
              "      <td>75</td>\n",
              "      <td>81</td>\n",
              "      <td>239</td>\n",
              "      <td>79.666667</td>\n",
              "    </tr>\n",
              "  </tbody>\n",
              "</table>\n",
              "</div>"
            ],
            "text/plain": [
              "    StdID    SName  SClass SCity  ENGLISH  SCIENCE  COMPUTERS  TOTAL    AVERAGE\n",
              "2     333    Kumar       9   Hyd       81       83         82    246  82.000000\n",
              "7     888      BBB       9   Che       83       75         81    239  79.666667\n",
              "16   2233  Kumar22       9   Hyd       81       83         82    246  82.000000\n",
              "21   2238     BBB2       9   Che       83       75         81    239  79.666667"
            ]
          },
          "metadata": {
            "tags": []
          },
          "execution_count": 55
        }
      ]
    },
    {
      "cell_type": "code",
      "metadata": {
        "colab": {
          "base_uri": "https://localhost:8080/",
          "height": 166
        },
        "id": "WYK1stdecKC-",
        "outputId": "ece6647a-f8ae-4d6d-804e-ea78dabd7a96"
      },
      "source": [
        "gb_sclass.get_group(8)"
      ],
      "execution_count": null,
      "outputs": [
        {
          "output_type": "execute_result",
          "data": {
            "text/html": [
              "<div>\n",
              "<style scoped>\n",
              "    .dataframe tbody tr th:only-of-type {\n",
              "        vertical-align: middle;\n",
              "    }\n",
              "\n",
              "    .dataframe tbody tr th {\n",
              "        vertical-align: top;\n",
              "    }\n",
              "\n",
              "    .dataframe thead th {\n",
              "        text-align: right;\n",
              "    }\n",
              "</style>\n",
              "<table border=\"1\" class=\"dataframe\">\n",
              "  <thead>\n",
              "    <tr style=\"text-align: right;\">\n",
              "      <th></th>\n",
              "      <th>StdID</th>\n",
              "      <th>SName</th>\n",
              "      <th>SClass</th>\n",
              "      <th>SCity</th>\n",
              "      <th>ENGLISH</th>\n",
              "      <th>SCIENCE</th>\n",
              "      <th>COMPUTERS</th>\n",
              "      <th>TOTAL</th>\n",
              "      <th>AVERAGE</th>\n",
              "    </tr>\n",
              "  </thead>\n",
              "  <tbody>\n",
              "    <tr>\n",
              "      <th>1</th>\n",
              "      <td>222</td>\n",
              "      <td>Naren</td>\n",
              "      <td>8</td>\n",
              "      <td>Viz</td>\n",
              "      <td>77</td>\n",
              "      <td>72</td>\n",
              "      <td>77</td>\n",
              "      <td>226</td>\n",
              "      <td>75.333333</td>\n",
              "    </tr>\n",
              "    <tr>\n",
              "      <th>6</th>\n",
              "      <td>777</td>\n",
              "      <td>AAA</td>\n",
              "      <td>8</td>\n",
              "      <td>Hyd</td>\n",
              "      <td>72</td>\n",
              "      <td>67</td>\n",
              "      <td>79</td>\n",
              "      <td>218</td>\n",
              "      <td>72.666667</td>\n",
              "    </tr>\n",
              "    <tr>\n",
              "      <th>15</th>\n",
              "      <td>2221</td>\n",
              "      <td>Naren1</td>\n",
              "      <td>8</td>\n",
              "      <td>Viz</td>\n",
              "      <td>77</td>\n",
              "      <td>72</td>\n",
              "      <td>77</td>\n",
              "      <td>226</td>\n",
              "      <td>75.333333</td>\n",
              "    </tr>\n",
              "    <tr>\n",
              "      <th>20</th>\n",
              "      <td>2237</td>\n",
              "      <td>AAA1</td>\n",
              "      <td>8</td>\n",
              "      <td>Hyd</td>\n",
              "      <td>72</td>\n",
              "      <td>67</td>\n",
              "      <td>79</td>\n",
              "      <td>218</td>\n",
              "      <td>72.666667</td>\n",
              "    </tr>\n",
              "  </tbody>\n",
              "</table>\n",
              "</div>"
            ],
            "text/plain": [
              "    StdID   SName  SClass SCity  ENGLISH  SCIENCE  COMPUTERS  TOTAL    AVERAGE\n",
              "1     222   Naren       8   Viz       77       72         77    226  75.333333\n",
              "6     777     AAA       8   Hyd       72       67         79    218  72.666667\n",
              "15   2221  Naren1       8   Viz       77       72         77    226  75.333333\n",
              "20   2237    AAA1       8   Hyd       72       67         79    218  72.666667"
            ]
          },
          "metadata": {
            "tags": []
          },
          "execution_count": 56
        }
      ]
    },
    {
      "cell_type": "code",
      "metadata": {
        "id": "Ps_GUblFcS96"
      },
      "source": [
        "df_8 =gb_sclass.get_group(8)"
      ],
      "execution_count": null,
      "outputs": []
    },
    {
      "cell_type": "code",
      "metadata": {
        "colab": {
          "base_uri": "https://localhost:8080/",
          "height": 166
        },
        "id": "grPZCb2nccfm",
        "outputId": "4db6f79f-3ae1-4a02-cf87-3e01bef33b0f"
      },
      "source": [
        "df_8"
      ],
      "execution_count": null,
      "outputs": [
        {
          "output_type": "execute_result",
          "data": {
            "text/html": [
              "<div>\n",
              "<style scoped>\n",
              "    .dataframe tbody tr th:only-of-type {\n",
              "        vertical-align: middle;\n",
              "    }\n",
              "\n",
              "    .dataframe tbody tr th {\n",
              "        vertical-align: top;\n",
              "    }\n",
              "\n",
              "    .dataframe thead th {\n",
              "        text-align: right;\n",
              "    }\n",
              "</style>\n",
              "<table border=\"1\" class=\"dataframe\">\n",
              "  <thead>\n",
              "    <tr style=\"text-align: right;\">\n",
              "      <th></th>\n",
              "      <th>StdID</th>\n",
              "      <th>SName</th>\n",
              "      <th>SClass</th>\n",
              "      <th>SCity</th>\n",
              "      <th>ENGLISH</th>\n",
              "      <th>SCIENCE</th>\n",
              "      <th>COMPUTERS</th>\n",
              "      <th>TOTAL</th>\n",
              "      <th>AVERAGE</th>\n",
              "    </tr>\n",
              "  </thead>\n",
              "  <tbody>\n",
              "    <tr>\n",
              "      <th>1</th>\n",
              "      <td>222</td>\n",
              "      <td>Naren</td>\n",
              "      <td>8</td>\n",
              "      <td>Viz</td>\n",
              "      <td>77</td>\n",
              "      <td>72</td>\n",
              "      <td>77</td>\n",
              "      <td>226</td>\n",
              "      <td>75.333333</td>\n",
              "    </tr>\n",
              "    <tr>\n",
              "      <th>6</th>\n",
              "      <td>777</td>\n",
              "      <td>AAA</td>\n",
              "      <td>8</td>\n",
              "      <td>Hyd</td>\n",
              "      <td>72</td>\n",
              "      <td>67</td>\n",
              "      <td>79</td>\n",
              "      <td>218</td>\n",
              "      <td>72.666667</td>\n",
              "    </tr>\n",
              "    <tr>\n",
              "      <th>15</th>\n",
              "      <td>2221</td>\n",
              "      <td>Naren1</td>\n",
              "      <td>8</td>\n",
              "      <td>Viz</td>\n",
              "      <td>77</td>\n",
              "      <td>72</td>\n",
              "      <td>77</td>\n",
              "      <td>226</td>\n",
              "      <td>75.333333</td>\n",
              "    </tr>\n",
              "    <tr>\n",
              "      <th>20</th>\n",
              "      <td>2237</td>\n",
              "      <td>AAA1</td>\n",
              "      <td>8</td>\n",
              "      <td>Hyd</td>\n",
              "      <td>72</td>\n",
              "      <td>67</td>\n",
              "      <td>79</td>\n",
              "      <td>218</td>\n",
              "      <td>72.666667</td>\n",
              "    </tr>\n",
              "  </tbody>\n",
              "</table>\n",
              "</div>"
            ],
            "text/plain": [
              "    StdID   SName  SClass SCity  ENGLISH  SCIENCE  COMPUTERS  TOTAL    AVERAGE\n",
              "1     222   Naren       8   Viz       77       72         77    226  75.333333\n",
              "6     777     AAA       8   Hyd       72       67         79    218  72.666667\n",
              "15   2221  Naren1       8   Viz       77       72         77    226  75.333333\n",
              "20   2237    AAA1       8   Hyd       72       67         79    218  72.666667"
            ]
          },
          "metadata": {
            "tags": []
          },
          "execution_count": 61
        }
      ]
    },
    {
      "cell_type": "code",
      "metadata": {
        "colab": {
          "base_uri": "https://localhost:8080/"
        },
        "id": "OIG1-vVtcpoV",
        "outputId": "c9801388-d759-48de-8757-01b1bbf9a8f2"
      },
      "source": [
        "df_8[\"TOTAL\"].max()"
      ],
      "execution_count": null,
      "outputs": [
        {
          "output_type": "execute_result",
          "data": {
            "text/plain": [
              "226"
            ]
          },
          "metadata": {
            "tags": []
          },
          "execution_count": 63
        }
      ]
    },
    {
      "cell_type": "code",
      "metadata": {
        "colab": {
          "base_uri": "https://localhost:8080/"
        },
        "id": "6q50507pc7nw",
        "outputId": "d1f35bf2-ef33-423b-84e5-f1f3c95f5d54"
      },
      "source": [
        "# df_8[\"TOTAL\"] == 226\n",
        "\n",
        "df_8[\"TOTAL\"] == df_8[\"TOTAL\"].max()"
      ],
      "execution_count": null,
      "outputs": [
        {
          "output_type": "execute_result",
          "data": {
            "text/plain": [
              "1      True\n",
              "6     False\n",
              "15     True\n",
              "20    False\n",
              "Name: TOTAL, dtype: bool"
            ]
          },
          "metadata": {
            "tags": []
          },
          "execution_count": 67
        }
      ]
    },
    {
      "cell_type": "code",
      "metadata": {
        "colab": {
          "base_uri": "https://localhost:8080/",
          "height": 106
        },
        "id": "CXifofhNdFOm",
        "outputId": "65fe9c8d-a0d0-44de-d3ba-152a30d0133e"
      },
      "source": [
        "df_8[df_8[\"TOTAL\"] == df_8[\"TOTAL\"].max()]"
      ],
      "execution_count": null,
      "outputs": [
        {
          "output_type": "execute_result",
          "data": {
            "text/html": [
              "<div>\n",
              "<style scoped>\n",
              "    .dataframe tbody tr th:only-of-type {\n",
              "        vertical-align: middle;\n",
              "    }\n",
              "\n",
              "    .dataframe tbody tr th {\n",
              "        vertical-align: top;\n",
              "    }\n",
              "\n",
              "    .dataframe thead th {\n",
              "        text-align: right;\n",
              "    }\n",
              "</style>\n",
              "<table border=\"1\" class=\"dataframe\">\n",
              "  <thead>\n",
              "    <tr style=\"text-align: right;\">\n",
              "      <th></th>\n",
              "      <th>StdID</th>\n",
              "      <th>SName</th>\n",
              "      <th>SClass</th>\n",
              "      <th>SCity</th>\n",
              "      <th>ENGLISH</th>\n",
              "      <th>SCIENCE</th>\n",
              "      <th>COMPUTERS</th>\n",
              "      <th>TOTAL</th>\n",
              "      <th>AVERAGE</th>\n",
              "    </tr>\n",
              "  </thead>\n",
              "  <tbody>\n",
              "    <tr>\n",
              "      <th>1</th>\n",
              "      <td>222</td>\n",
              "      <td>Naren</td>\n",
              "      <td>8</td>\n",
              "      <td>Viz</td>\n",
              "      <td>77</td>\n",
              "      <td>72</td>\n",
              "      <td>77</td>\n",
              "      <td>226</td>\n",
              "      <td>75.333333</td>\n",
              "    </tr>\n",
              "    <tr>\n",
              "      <th>15</th>\n",
              "      <td>2221</td>\n",
              "      <td>Naren1</td>\n",
              "      <td>8</td>\n",
              "      <td>Viz</td>\n",
              "      <td>77</td>\n",
              "      <td>72</td>\n",
              "      <td>77</td>\n",
              "      <td>226</td>\n",
              "      <td>75.333333</td>\n",
              "    </tr>\n",
              "  </tbody>\n",
              "</table>\n",
              "</div>"
            ],
            "text/plain": [
              "    StdID   SName  SClass SCity  ENGLISH  SCIENCE  COMPUTERS  TOTAL    AVERAGE\n",
              "1     222   Naren       8   Viz       77       72         77    226  75.333333\n",
              "15   2221  Naren1       8   Viz       77       72         77    226  75.333333"
            ]
          },
          "metadata": {
            "tags": []
          },
          "execution_count": 68
        }
      ]
    },
    {
      "cell_type": "markdown",
      "metadata": {
        "id": "OQn48Gvydv-K"
      },
      "source": [
        "## TRYING TO FIND MAXIMUM NUMBER OF STUDENTS BASED ON *CITY*"
      ]
    },
    {
      "cell_type": "code",
      "metadata": {
        "colab": {
          "base_uri": "https://localhost:8080/",
          "height": 728
        },
        "id": "3SkumdbHdZuc",
        "outputId": "fbbd1a03-e9c7-4b71-8ca2-257b4cc79b4c"
      },
      "source": [
        "std1"
      ],
      "execution_count": null,
      "outputs": [
        {
          "output_type": "execute_result",
          "data": {
            "text/html": [
              "<div>\n",
              "<style scoped>\n",
              "    .dataframe tbody tr th:only-of-type {\n",
              "        vertical-align: middle;\n",
              "    }\n",
              "\n",
              "    .dataframe tbody tr th {\n",
              "        vertical-align: top;\n",
              "    }\n",
              "\n",
              "    .dataframe thead th {\n",
              "        text-align: right;\n",
              "    }\n",
              "</style>\n",
              "<table border=\"1\" class=\"dataframe\">\n",
              "  <thead>\n",
              "    <tr style=\"text-align: right;\">\n",
              "      <th></th>\n",
              "      <th>StdID</th>\n",
              "      <th>SName</th>\n",
              "      <th>SClass</th>\n",
              "      <th>SCity</th>\n",
              "      <th>ENGLISH</th>\n",
              "      <th>SCIENCE</th>\n",
              "      <th>COMPUTERS</th>\n",
              "      <th>TOTAL</th>\n",
              "      <th>AVERAGE</th>\n",
              "    </tr>\n",
              "  </thead>\n",
              "  <tbody>\n",
              "    <tr>\n",
              "      <th>0</th>\n",
              "      <td>111</td>\n",
              "      <td>Shanti</td>\n",
              "      <td>10</td>\n",
              "      <td>Hyd</td>\n",
              "      <td>88</td>\n",
              "      <td>89</td>\n",
              "      <td>91</td>\n",
              "      <td>268</td>\n",
              "      <td>89.333333</td>\n",
              "    </tr>\n",
              "    <tr>\n",
              "      <th>1</th>\n",
              "      <td>222</td>\n",
              "      <td>Naren</td>\n",
              "      <td>8</td>\n",
              "      <td>Viz</td>\n",
              "      <td>77</td>\n",
              "      <td>72</td>\n",
              "      <td>77</td>\n",
              "      <td>226</td>\n",
              "      <td>75.333333</td>\n",
              "    </tr>\n",
              "    <tr>\n",
              "      <th>2</th>\n",
              "      <td>333</td>\n",
              "      <td>Kumar</td>\n",
              "      <td>9</td>\n",
              "      <td>Hyd</td>\n",
              "      <td>81</td>\n",
              "      <td>83</td>\n",
              "      <td>82</td>\n",
              "      <td>246</td>\n",
              "      <td>82.000000</td>\n",
              "    </tr>\n",
              "    <tr>\n",
              "      <th>3</th>\n",
              "      <td>444</td>\n",
              "      <td>Shiva</td>\n",
              "      <td>10</td>\n",
              "      <td>Che</td>\n",
              "      <td>67</td>\n",
              "      <td>75</td>\n",
              "      <td>81</td>\n",
              "      <td>223</td>\n",
              "      <td>74.333333</td>\n",
              "    </tr>\n",
              "    <tr>\n",
              "      <th>4</th>\n",
              "      <td>555</td>\n",
              "      <td>Ram</td>\n",
              "      <td>12</td>\n",
              "      <td>Viz</td>\n",
              "      <td>75</td>\n",
              "      <td>79</td>\n",
              "      <td>85</td>\n",
              "      <td>239</td>\n",
              "      <td>79.666667</td>\n",
              "    </tr>\n",
              "    <tr>\n",
              "      <th>5</th>\n",
              "      <td>666</td>\n",
              "      <td>Meena</td>\n",
              "      <td>10</td>\n",
              "      <td>Blr</td>\n",
              "      <td>89</td>\n",
              "      <td>81</td>\n",
              "      <td>75</td>\n",
              "      <td>245</td>\n",
              "      <td>81.666667</td>\n",
              "    </tr>\n",
              "    <tr>\n",
              "      <th>6</th>\n",
              "      <td>777</td>\n",
              "      <td>AAA</td>\n",
              "      <td>8</td>\n",
              "      <td>Hyd</td>\n",
              "      <td>72</td>\n",
              "      <td>67</td>\n",
              "      <td>79</td>\n",
              "      <td>218</td>\n",
              "      <td>72.666667</td>\n",
              "    </tr>\n",
              "    <tr>\n",
              "      <th>7</th>\n",
              "      <td>888</td>\n",
              "      <td>BBB</td>\n",
              "      <td>9</td>\n",
              "      <td>Che</td>\n",
              "      <td>83</td>\n",
              "      <td>75</td>\n",
              "      <td>81</td>\n",
              "      <td>239</td>\n",
              "      <td>79.666667</td>\n",
              "    </tr>\n",
              "    <tr>\n",
              "      <th>8</th>\n",
              "      <td>999</td>\n",
              "      <td>CCC</td>\n",
              "      <td>10</td>\n",
              "      <td>Viz</td>\n",
              "      <td>75</td>\n",
              "      <td>89</td>\n",
              "      <td>67</td>\n",
              "      <td>231</td>\n",
              "      <td>77.000000</td>\n",
              "    </tr>\n",
              "    <tr>\n",
              "      <th>9</th>\n",
              "      <td>1110</td>\n",
              "      <td>EEE</td>\n",
              "      <td>12</td>\n",
              "      <td>Che</td>\n",
              "      <td>79</td>\n",
              "      <td>72</td>\n",
              "      <td>75</td>\n",
              "      <td>226</td>\n",
              "      <td>75.333333</td>\n",
              "    </tr>\n",
              "    <tr>\n",
              "      <th>10</th>\n",
              "      <td>1221</td>\n",
              "      <td>FFF</td>\n",
              "      <td>10</td>\n",
              "      <td>Viz</td>\n",
              "      <td>82</td>\n",
              "      <td>83</td>\n",
              "      <td>75</td>\n",
              "      <td>240</td>\n",
              "      <td>80.000000</td>\n",
              "    </tr>\n",
              "    <tr>\n",
              "      <th>11</th>\n",
              "      <td>1332</td>\n",
              "      <td>GGG</td>\n",
              "      <td>12</td>\n",
              "      <td>Blr</td>\n",
              "      <td>81</td>\n",
              "      <td>75</td>\n",
              "      <td>79</td>\n",
              "      <td>235</td>\n",
              "      <td>78.333333</td>\n",
              "    </tr>\n",
              "    <tr>\n",
              "      <th>12</th>\n",
              "      <td>1443</td>\n",
              "      <td>HHH</td>\n",
              "      <td>10</td>\n",
              "      <td>Hyd</td>\n",
              "      <td>85</td>\n",
              "      <td>89</td>\n",
              "      <td>82</td>\n",
              "      <td>256</td>\n",
              "      <td>85.333333</td>\n",
              "    </tr>\n",
              "    <tr>\n",
              "      <th>13</th>\n",
              "      <td>1554</td>\n",
              "      <td>JJJ</td>\n",
              "      <td>11</td>\n",
              "      <td>Hyd</td>\n",
              "      <td>67</td>\n",
              "      <td>72</td>\n",
              "      <td>81</td>\n",
              "      <td>220</td>\n",
              "      <td>73.333333</td>\n",
              "    </tr>\n",
              "    <tr>\n",
              "      <th>14</th>\n",
              "      <td>1665</td>\n",
              "      <td>KKK</td>\n",
              "      <td>12</td>\n",
              "      <td>Viz</td>\n",
              "      <td>75</td>\n",
              "      <td>83</td>\n",
              "      <td>82</td>\n",
              "      <td>240</td>\n",
              "      <td>80.000000</td>\n",
              "    </tr>\n",
              "    <tr>\n",
              "      <th>15</th>\n",
              "      <td>2221</td>\n",
              "      <td>Naren1</td>\n",
              "      <td>8</td>\n",
              "      <td>Viz</td>\n",
              "      <td>77</td>\n",
              "      <td>72</td>\n",
              "      <td>77</td>\n",
              "      <td>226</td>\n",
              "      <td>75.333333</td>\n",
              "    </tr>\n",
              "    <tr>\n",
              "      <th>16</th>\n",
              "      <td>2233</td>\n",
              "      <td>Kumar22</td>\n",
              "      <td>9</td>\n",
              "      <td>Hyd</td>\n",
              "      <td>81</td>\n",
              "      <td>83</td>\n",
              "      <td>82</td>\n",
              "      <td>246</td>\n",
              "      <td>82.000000</td>\n",
              "    </tr>\n",
              "    <tr>\n",
              "      <th>17</th>\n",
              "      <td>2234</td>\n",
              "      <td>Shiva33</td>\n",
              "      <td>10</td>\n",
              "      <td>Che</td>\n",
              "      <td>67</td>\n",
              "      <td>75</td>\n",
              "      <td>81</td>\n",
              "      <td>223</td>\n",
              "      <td>74.333333</td>\n",
              "    </tr>\n",
              "    <tr>\n",
              "      <th>18</th>\n",
              "      <td>2235</td>\n",
              "      <td>Ram44</td>\n",
              "      <td>12</td>\n",
              "      <td>Viz</td>\n",
              "      <td>75</td>\n",
              "      <td>79</td>\n",
              "      <td>85</td>\n",
              "      <td>239</td>\n",
              "      <td>79.666667</td>\n",
              "    </tr>\n",
              "    <tr>\n",
              "      <th>19</th>\n",
              "      <td>2236</td>\n",
              "      <td>Meena55</td>\n",
              "      <td>10</td>\n",
              "      <td>Blr</td>\n",
              "      <td>89</td>\n",
              "      <td>81</td>\n",
              "      <td>75</td>\n",
              "      <td>245</td>\n",
              "      <td>81.666667</td>\n",
              "    </tr>\n",
              "    <tr>\n",
              "      <th>20</th>\n",
              "      <td>2237</td>\n",
              "      <td>AAA1</td>\n",
              "      <td>8</td>\n",
              "      <td>Hyd</td>\n",
              "      <td>72</td>\n",
              "      <td>67</td>\n",
              "      <td>79</td>\n",
              "      <td>218</td>\n",
              "      <td>72.666667</td>\n",
              "    </tr>\n",
              "    <tr>\n",
              "      <th>21</th>\n",
              "      <td>2238</td>\n",
              "      <td>BBB2</td>\n",
              "      <td>9</td>\n",
              "      <td>Che</td>\n",
              "      <td>83</td>\n",
              "      <td>75</td>\n",
              "      <td>81</td>\n",
              "      <td>239</td>\n",
              "      <td>79.666667</td>\n",
              "    </tr>\n",
              "    <tr>\n",
              "      <th>22</th>\n",
              "      <td>2239</td>\n",
              "      <td>CCC3</td>\n",
              "      <td>10</td>\n",
              "      <td>Viz</td>\n",
              "      <td>75</td>\n",
              "      <td>89</td>\n",
              "      <td>67</td>\n",
              "      <td>231</td>\n",
              "      <td>77.000000</td>\n",
              "    </tr>\n",
              "  </tbody>\n",
              "</table>\n",
              "</div>"
            ],
            "text/plain": [
              "    StdID    SName  SClass SCity  ENGLISH  SCIENCE  COMPUTERS  TOTAL    AVERAGE\n",
              "0     111   Shanti      10   Hyd       88       89         91    268  89.333333\n",
              "1     222    Naren       8   Viz       77       72         77    226  75.333333\n",
              "2     333    Kumar       9   Hyd       81       83         82    246  82.000000\n",
              "3     444    Shiva      10   Che       67       75         81    223  74.333333\n",
              "4     555      Ram      12   Viz       75       79         85    239  79.666667\n",
              "5     666    Meena      10   Blr       89       81         75    245  81.666667\n",
              "6     777      AAA       8   Hyd       72       67         79    218  72.666667\n",
              "7     888      BBB       9   Che       83       75         81    239  79.666667\n",
              "8     999      CCC      10   Viz       75       89         67    231  77.000000\n",
              "9    1110      EEE      12   Che       79       72         75    226  75.333333\n",
              "10   1221      FFF      10   Viz       82       83         75    240  80.000000\n",
              "11   1332      GGG      12   Blr       81       75         79    235  78.333333\n",
              "12   1443      HHH      10   Hyd       85       89         82    256  85.333333\n",
              "13   1554      JJJ      11   Hyd       67       72         81    220  73.333333\n",
              "14   1665      KKK      12   Viz       75       83         82    240  80.000000\n",
              "15   2221   Naren1       8   Viz       77       72         77    226  75.333333\n",
              "16   2233  Kumar22       9   Hyd       81       83         82    246  82.000000\n",
              "17   2234  Shiva33      10   Che       67       75         81    223  74.333333\n",
              "18   2235    Ram44      12   Viz       75       79         85    239  79.666667\n",
              "19   2236  Meena55      10   Blr       89       81         75    245  81.666667\n",
              "20   2237     AAA1       8   Hyd       72       67         79    218  72.666667\n",
              "21   2238     BBB2       9   Che       83       75         81    239  79.666667\n",
              "22   2239     CCC3      10   Viz       75       89         67    231  77.000000"
            ]
          },
          "metadata": {
            "tags": []
          },
          "execution_count": 69
        }
      ]
    },
    {
      "cell_type": "code",
      "metadata": {
        "id": "E0UDVE6ceGoM"
      },
      "source": [
        "#1st step.. groupby based on column\n",
        "\n",
        "gb_city = std1.groupby(\"SCity\")"
      ],
      "execution_count": null,
      "outputs": []
    },
    {
      "cell_type": "code",
      "metadata": {
        "colab": {
          "base_uri": "https://localhost:8080/"
        },
        "id": "fCJBhDxHeUZ1",
        "outputId": "b0579529-c598-4550-b2dc-42ff3a7af7f6"
      },
      "source": [
        "gb_city.groups"
      ],
      "execution_count": null,
      "outputs": [
        {
          "output_type": "execute_result",
          "data": {
            "text/plain": [
              "{'Blr': [5, 11, 19], 'Che': [3, 7, 9, 17, 21], 'Hyd': [0, 2, 6, 12, 13, 16, 20], 'Viz': [1, 4, 8, 10, 14, 15, 18, 22]}"
            ]
          },
          "metadata": {
            "tags": []
          },
          "execution_count": 73
        }
      ]
    },
    {
      "cell_type": "code",
      "metadata": {
        "colab": {
          "base_uri": "https://localhost:8080/"
        },
        "id": "cekxWhbneir7",
        "outputId": "23fdd354-8456-4313-c9d7-41c6604a7ff4"
      },
      "source": [
        "for i, j in gb_city:\n",
        "  print()\n",
        "  print(\"CITY : \", i)\n",
        "  print()\n",
        "  print(j)\n",
        "  print(\"*****************\")"
      ],
      "execution_count": null,
      "outputs": [
        {
          "output_type": "stream",
          "text": [
            "\n",
            "CITY :  Blr\n",
            "\n",
            "    StdID    SName  SClass SCity  ENGLISH  SCIENCE  COMPUTERS  TOTAL    AVERAGE\n",
            "5     666    Meena      10   Blr       89       81         75    245  81.666667\n",
            "11   1332      GGG      12   Blr       81       75         79    235  78.333333\n",
            "19   2236  Meena55      10   Blr       89       81         75    245  81.666667\n",
            "*****************\n",
            "\n",
            "CITY :  Che\n",
            "\n",
            "    StdID    SName  SClass SCity  ENGLISH  SCIENCE  COMPUTERS  TOTAL    AVERAGE\n",
            "3     444    Shiva      10   Che       67       75         81    223  74.333333\n",
            "7     888      BBB       9   Che       83       75         81    239  79.666667\n",
            "9    1110      EEE      12   Che       79       72         75    226  75.333333\n",
            "17   2234  Shiva33      10   Che       67       75         81    223  74.333333\n",
            "21   2238     BBB2       9   Che       83       75         81    239  79.666667\n",
            "*****************\n",
            "\n",
            "CITY :  Hyd\n",
            "\n",
            "    StdID    SName  SClass SCity  ENGLISH  SCIENCE  COMPUTERS  TOTAL    AVERAGE\n",
            "0     111   Shanti      10   Hyd       88       89         91    268  89.333333\n",
            "2     333    Kumar       9   Hyd       81       83         82    246  82.000000\n",
            "6     777      AAA       8   Hyd       72       67         79    218  72.666667\n",
            "12   1443      HHH      10   Hyd       85       89         82    256  85.333333\n",
            "13   1554      JJJ      11   Hyd       67       72         81    220  73.333333\n",
            "16   2233  Kumar22       9   Hyd       81       83         82    246  82.000000\n",
            "20   2237     AAA1       8   Hyd       72       67         79    218  72.666667\n",
            "*****************\n",
            "\n",
            "CITY :  Viz\n",
            "\n",
            "    StdID   SName  SClass SCity  ENGLISH  SCIENCE  COMPUTERS  TOTAL    AVERAGE\n",
            "1     222   Naren       8   Viz       77       72         77    226  75.333333\n",
            "4     555     Ram      12   Viz       75       79         85    239  79.666667\n",
            "8     999     CCC      10   Viz       75       89         67    231  77.000000\n",
            "10   1221     FFF      10   Viz       82       83         75    240  80.000000\n",
            "14   1665     KKK      12   Viz       75       83         82    240  80.000000\n",
            "15   2221  Naren1       8   Viz       77       72         77    226  75.333333\n",
            "18   2235   Ram44      12   Viz       75       79         85    239  79.666667\n",
            "22   2239    CCC3      10   Viz       75       89         67    231  77.000000\n",
            "*****************\n"
          ],
          "name": "stdout"
        }
      ]
    },
    {
      "cell_type": "code",
      "metadata": {
        "colab": {
          "base_uri": "https://localhost:8080/"
        },
        "id": "hOMLjS7oeu9d",
        "outputId": "c827f4a7-fadc-43ef-9792-9d3244a56322"
      },
      "source": [
        "gb_city[\"TOTAL\"].count().max()"
      ],
      "execution_count": null,
      "outputs": [
        {
          "output_type": "execute_result",
          "data": {
            "text/plain": [
              "8"
            ]
          },
          "metadata": {
            "tags": []
          },
          "execution_count": 78
        }
      ]
    },
    {
      "cell_type": "code",
      "metadata": {
        "colab": {
          "base_uri": "https://localhost:8080/"
        },
        "id": "yNGHxoL8e3wX",
        "outputId": "ffc4edf6-e0af-49e3-9739-4de072bf9ab7"
      },
      "source": [
        "gb_city[\"TOTAL\"].count() == 8"
      ],
      "execution_count": null,
      "outputs": [
        {
          "output_type": "execute_result",
          "data": {
            "text/plain": [
              "SCity\n",
              "Blr    False\n",
              "Che    False\n",
              "Hyd    False\n",
              "Viz     True\n",
              "Name: TOTAL, dtype: bool"
            ]
          },
          "metadata": {
            "tags": []
          },
          "execution_count": 79
        }
      ]
    },
    {
      "cell_type": "code",
      "metadata": {
        "id": "hmmIZN7ZfPFi"
      },
      "source": [
        ""
      ],
      "execution_count": null,
      "outputs": []
    }
  ]
}