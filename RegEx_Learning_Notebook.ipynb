{
  "nbformat": 4,
  "nbformat_minor": 0,
  "metadata": {
    "colab": {
      "provenance": []
    },
    "kernelspec": {
      "name": "python3",
      "display_name": "Python 3"
    },
    "language_info": {
      "name": "python"
    }
  },
  "cells": [
    {
      "cell_type": "markdown",
      "source": [
        "#**Regular Expression in Python**\n",
        "Regular Expression is also called RE or RegEx. It is a sequence of characters which forms a search pattern. It is used to check whether the search pattern matches in the given string.\n",
        "\n",
        "\n"
      ],
      "metadata": {
        "id": "UiH5BbBJfF7b"
      }
    },
    {
      "cell_type": "markdown",
      "source": [
        "# RegEx Module\n",
        "Python has a built-in package called `re`, which can be used to work with Regular Expressions. Many regex functionalities reside in the module.\n",
        "\n",
        "[Here](https://docs.python.org/3/library/re.html) is the link to the official documentation on `regex`"
      ],
      "metadata": {
        "id": "xpvRGSmUgRH7"
      }
    },
    {
      "cell_type": "code",
      "source": [
        "import re   #Now you can start using regular expressions"
      ],
      "metadata": {
        "id": "YHHLs4WWgYzx"
      },
      "execution_count": null,
      "outputs": []
    },
    {
      "cell_type": "markdown",
      "source": [
        "##Example"
      ],
      "metadata": {
        "id": "xbZyc8z4h6WO"
      }
    },
    {
      "cell_type": "code",
      "source": [
        "text = \"Use of python in Machine Learning\"\n",
        "x = re.search(\"^Use.*Learning$\", text)\n",
        "if (x):\n",
        "   print(\"YES! We have a match!\")\n",
        "else:\n",
        "   print(\"No match\")"
      ],
      "metadata": {
        "id": "gGb7uccUh8DL"
      },
      "execution_count": null,
      "outputs": []
    },
    {
      "cell_type": "markdown",
      "source": [
        "##RegEX Functions\n",
        "* **re.findall()**: It returns a list of all matching patterns.\n",
        "* **re.search()**      : It Returns a Match object if there is a match anywhere in the string.\n",
        "* **re.split()**       : Returns a list, where the string has been split at each match\n",
        "* **re.sub()**         : It replaces one or many matches with a string."
      ],
      "metadata": {
        "id": "zQ8Msx8Ligm7"
      }
    },
    {
      "cell_type": "markdown",
      "source": [
        "## Metacharacters\n",
        "Here are some metacharacters in RegEx which have special meaning:\n",
        "* **[]** --  represents the set of charecters.ex:“[a-m]”\n",
        "* **\\** -- It signals a special sequence\n",
        "* **.** -- Any character except newline character\n",
        "* **$** -- Ends with\n",
        "* **^** --Starts With\n",
        "* \"**+**\"  -- One or more occurrences\n",
        "* \"* \" -- Zero or more occurrences\n",
        "* **{}** -- Exactly the specified number of occurrences\n",
        "*  **|** -- \tEither or\n",
        "* () -- Capture and group\n"
      ],
      "metadata": {
        "id": "feEhqJRvkPtd"
      }
    },
    {
      "cell_type": "markdown",
      "source": [
        "##Special Sequences\n",
        "Special sequences in RegEx is a \\ followed by one of the characters listed below and has a special meaning -\n",
        "* **\\A** --Returns  a match if the specified characters are at the beginning of the string\n",
        "* **\\b** -- \tReturns a match where the specified characters are at the beginning or at the end of a word\n",
        "* **\\B** -- Returns a match if the specified characters are present, but NOT at the start of a word\n",
        "* **\\D** -- Returns a match where the string does not contain digits\n",
        "* **\\d** -- Returns a match if the string contains digits\n",
        "* **\\s** -- Returns a match where the string contains a white space character\n",
        "* **\\S** -- Returns a match where the string does not contain a white space character\n",
        "*  **\\W** -- Returns a match where the string does not contain any word characters\n",
        "* **\\w** -- Returns a match if the string contains any word characters\n",
        "*  **\\Z** -- Returns a match if the specified characters are at the end of the string"
      ],
      "metadata": {
        "id": "cOTYLkdEoE9t"
      }
    },
    {
      "cell_type": "markdown",
      "source": [
        "## Sets\n",
        "A set in RegEx is a set of characters inside a pair of square brackets [] having some special meaning.\n",
        "* **[raj]**: Returns a match where one of the specified characters (a, r, or j) are present\n",
        "* **[a-n]**: Returns a match for any lower case letter, alphabetically between a and n\n",
        "* **[^arn]**: Returns a match for any character Except r, a and n\n",
        "* **[0123]**: Returns a match where any of the specified digits (0, 1, 2, or 3) are present\n",
        "* **[0-9]**: Returns a match for any digit between 0 and 9\n",
        "* **[0-7][0-8]**: Returns a match for any two-digit numbers from 00 and 78\n",
        "* **[a-zA-Z]**:Returns a match for any character alphabetically between a to z or A to Z\n",
        "* **[+]**:Return a match for any + character in the string\n"
      ],
      "metadata": {
        "id": "-2QXhvnVrfD3"
      }
    },
    {
      "cell_type": "markdown",
      "source": [
        "##Example on findall() function:\n",
        "\n",
        "\n"
      ],
      "metadata": {
        "id": "w3uL2pqPtLyU"
      }
    },
    {
      "cell_type": "code",
      "source": [
        "#findall searches for a match of the entire string but returns a result similar to group method in Match object\n",
        "s = \"black, blue and brown\"\n",
        "pattern = r'bl\\w+'\n",
        "matches = re.findall(pattern,s)\n",
        "\n",
        "print(matches)"
      ],
      "metadata": {
        "id": "ATO3iH97tTvp"
      },
      "execution_count": null,
      "outputs": []
    },
    {
      "cell_type": "markdown",
      "source": [
        "The above pattern matches a literal string 'bl' followed by one or more word characters specified by the \\w+ rule. Therefore, the findall() function returns a list of strings that match the whole pattern."
      ],
      "metadata": {
        "id": "qlxpygS8t6GJ"
      }
    },
    {
      "cell_type": "markdown",
      "source": [
        "##Example on split() function:"
      ],
      "metadata": {
        "id": "ap1LetwouaFW"
      }
    },
    {
      "cell_type": "code",
      "source": [
        "#It returns a list where the string has been split at each match and the syntax for split is re.split(pattern, string)\n",
        "string = \"I felt happy because I saw the others were happy.\"\n",
        "x = re.split(\" \", string)          #We can choose at what bases we can split the string\n",
        "print(x)\n"
      ],
      "metadata": {
        "id": "Z72oiSLrucqx"
      },
      "execution_count": null,
      "outputs": []
    },
    {
      "cell_type": "markdown",
      "source": [
        "##Example on search() function:"
      ],
      "metadata": {
        "id": "6ENDIBQEvRI3"
      }
    },
    {
      "cell_type": "code",
      "source": [
        "#The search() function searches the string for a match, and returns a Match object if there is a match.\n",
        "txt = \"Python is one of the most popular languages around the world\"\n",
        "searchObj = re.search(\"\\s\", txt)\n",
        "print(\"The first white-space character is located in position: \", searchObj.start())     #.start() funtion gives the position"
      ],
      "metadata": {
        "id": "mbzFIjZMvTFq"
      },
      "execution_count": null,
      "outputs": []
    },
    {
      "cell_type": "markdown",
      "source": [
        "##Example on sub() function:"
      ],
      "metadata": {
        "id": "HyS6hx9Dv7Re"
      }
    },
    {
      "cell_type": "code",
      "source": [
        "#Using sub  method we can replace one or more occurrences of a regex pattern in the target string with a substitute string.\n",
        "phone_no = '(212)-456-7890'\n",
        "pattern = '\\D'\n",
        "result = re.sub(pattern, '',phone_no)\n",
        "print(result)    #In this example, the \\D is an inverse digit character set that matches any single character which is not a digit.\n",
        "                 #Therefore, the sub() function replaces all non-digit characters with the empty string ''."
      ],
      "metadata": {
        "id": "3LE12syRvfvR"
      },
      "execution_count": null,
      "outputs": []
    },
    {
      "cell_type": "markdown",
      "source": [
        "## Some useful regex examples of real-world applications:\n",
        "**Example 1:** Extract date from string"
      ],
      "metadata": {
        "id": "0fH57_1OwuUu"
      }
    },
    {
      "cell_type": "code",
      "source": [
        "string = \"My email id is abc@gmail.com which i have created on 05/01/2021\"    #Now we want to extract date from given string\n",
        "x = re.findall('[0-9]{1,2}\\/[0-9]{1,2}\\/[0-9]{4}', string)    #Pattern to extract date\n",
        "\n",
        "print(x)\n",
        "\n",
        "# OUTPUT\n",
        "# ['05/01/2021']"
      ],
      "metadata": {
        "id": "BS0-tHxvwzRF"
      },
      "execution_count": null,
      "outputs": []
    },
    {
      "cell_type": "markdown",
      "source": [
        "**Example 2**: Extract email id from text"
      ],
      "metadata": {
        "id": "3qcWcSMgyX82"
      }
    },
    {
      "cell_type": "code",
      "source": [
        "s ='talentsprint@gmail.com1998'\n",
        "result =re.findall('[a-zA-Z0-9]\\S*@\\S*[a-zA-Z]', s)\n",
        "print(result)"
      ],
      "metadata": {
        "id": "_b-Fv-aRzfJf"
      },
      "execution_count": null,
      "outputs": []
    },
    {
      "cell_type": "markdown",
      "source": [
        "**Example 3**: Check Email is valid or not"
      ],
      "metadata": {
        "id": "foHO8GwEyYOk"
      }
    },
    {
      "cell_type": "code",
      "source": [
        "string = \"regularexpression123@gmail.com\"\n",
        "x = re.findall('[a-z0-9]+[\\._]?[a-z0-9]+[@]\\w+[.]\\w{2,3}$', string)\n",
        "\n",
        "if x:\n",
        "  print(\"Valid Email\")\n",
        "else:\n",
        "  print(\"Not Valid\")\n",
        "\n",
        "# OUTPUT\n",
        "# Valid Email"
      ],
      "metadata": {
        "id": "A3DjwJ1f0QMY"
      },
      "execution_count": null,
      "outputs": []
    },
    {
      "cell_type": "markdown",
      "source": [
        "**Example 4**:Check URL is valid or not"
      ],
      "metadata": {
        "id": "3D8o6PlO0vBe"
      }
    },
    {
      "cell_type": "code",
      "source": [
        "string = \"https://sohanlalgupta.tech\"\n",
        "x = re.search('((http|https)://)(www.)?[a-zA-Z0-9@:%._\\\\+~#?&//=]{2,256}\\\\.[a-z]{2,6}\\\\b([-a-zA-Z0-9@:%._\\\\+~#?&//=]*)', string)\n",
        "\n",
        "if x:\n",
        "  print(\"Valid URL\")\n",
        "else:\n",
        "  print(\"Not Valid\")\n",
        "\n",
        "# OUTPUT\n",
        "# Valid URL"
      ],
      "metadata": {
        "id": "aEMVDjyy0XEU"
      },
      "execution_count": null,
      "outputs": []
    },
    {
      "cell_type": "markdown",
      "source": [
        "##Exercises\n",
        "* **Question 1**--Extract floating number from the text using python regular expression.\n",
        " * **Sample Input:** Sound Level: -11.7 db or 15.2 or 8 db   \n",
        " * **Expected Output:** ['-11.7', '15.2', '8']\n",
        "* **Question 2**--Convert a date of yyyy-mm-dd format to dd-mm-yyyy format\n",
        " * **Sample Input:** 2026-01-02\n",
        " * **Expected Output:** 02-01-2026\n",
        "* **Question 3**--Replace maximum 2 occurrences of space, comma, or dot with a colon.\n",
        " * **Sample Input**: 'Python Exercises, Java exercises.'\n",
        " * **Expected Output**: Python:Exercises: Java exercises."
      ],
      "metadata": {
        "id": "8_tm2ZxS5_Gz"
      }
    },
    {
      "cell_type": "markdown",
      "source": [
        "For more RegEx Examples, refer:\n",
        "[Important Regular Expressions](https://medium.com/@anindyasdas/important-regular-expressions-def051aa7425)\n"
      ],
      "metadata": {
        "id": "PbLszGdTEJZO"
      }
    }
  ]
}