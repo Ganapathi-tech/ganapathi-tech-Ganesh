{
  "nbformat": 4,
  "nbformat_minor": 0,
  "metadata": {
    "colab": {
      "provenance": []
    },
    "kernelspec": {
      "name": "python3",
      "display_name": "Python 3"
    },
    "language_info": {
      "name": "python"
    },
    "accelerator": "GPU"
  },
  "cells": [
    {
      "cell_type": "markdown",
      "metadata": {
        "id": "MZQMVE4gmAlY"
      },
      "source": [
        "\n",
        "# Stock Trading using DRL"
      ]
    },
    {
      "cell_type": "markdown",
      "metadata": {
        "id": "n-kxaHhwXEp9"
      },
      "source": [
        "**DISCLAIMER:** THIS NOTEBOOK IS PROVIDED ONLY AS A REFERENCE SOLUTION NOTEBOOK FOR THE MINI-PROJECT. THERE MAY BE OTHER POSSIBLE APPROACHES/METHODS TO ACHIEVE THE SAME RESULTS."
      ]
    },
    {
      "cell_type": "markdown",
      "metadata": {
        "id": "UpgCEb9kmJ2Y"
      },
      "source": [
        "## Learning Objectives"
      ]
    },
    {
      "cell_type": "markdown",
      "metadata": {
        "id": "NlC8U6Ckcjiy"
      },
      "source": [
        "\n",
        "\n",
        "* perform stock trading using Deep Reinforcement Learning\n",
        "* build an environment for agent and perform stock trading\n",
        "* experiment with SAC model and improve the reward\n",
        "* create a dashboard for stock trading using `jupyter-dash`"
      ]
    },
    {
      "cell_type": "markdown",
      "metadata": {
        "id": "jtdSVLWombeQ"
      },
      "source": [
        "## Information"
      ]
    },
    {
      "cell_type": "markdown",
      "metadata": {
        "id": "R-A-FnYyQLWR"
      },
      "source": [
        "Deep reinforcement learning combines artificial neural networks with a framework of reinforcement learning that helps software agents learn how to reach their goals. That is, it unites function approximation and target optimization, mapping states and actions to the rewards they lead to.\n",
        "\n",
        "Reinforcement learning refers to goal-oriented algorithms, which learn how to achieve a complex objective (goal) or how to maximize along a particular dimension over many steps; for example, they can maximize the points won in a game over many moves. Reinforcement learning algorithms can start from a blank slate, and under the right conditions, achieve superhuman performance. Like a pet incentivized by scolding and treats, these algorithms are penalized when they make the wrong decisions and rewarded when they make the right ones – this is reinforcement.\n",
        "\n",
        "![img](https://miro.medium.com/max/974/0*NgZ_bq_nUOq73jK_.png)\n",
        "\n",
        "**SAC:** Soft Actor Critic is defined for RL tasks involving continuous actions. The biggest feature of SAC is that it uses a modified RL objective function. Instead of only seeking to maximize the lifetime rewards, SAC seeks to also maximize the entropy of the policy. The term ‘entropy’ has a rather esoteric definition and many interpretations depending on the application\n",
        "\n",
        "![img](https://miro.medium.com/max/353/0*5Y3SzMyOQZBRUhrh.png)\n",
        "\n",
        "Fig: Actor-Critic architecture. Source: Medium\n",
        "\n",
        "Learning of the actor is based policy gradient approach and critic is learned in value-based fashion. In SAC, there are three networks: the first network represents state-value(V) parameterised by ψ, the second one is a policy function that parameterised by ϕ, and the last one represents soft q function parameterised by θ.\n",
        "\n",
        "Read More about SAC [here](https://arxiv.org/abs/1801.01290)"
      ]
    },
    {
      "cell_type": "markdown",
      "metadata": {
        "id": "ng4HyqG_6GDX"
      },
      "source": [
        "## Dataset"
      ]
    },
    {
      "cell_type": "markdown",
      "metadata": {
        "id": "Maa0xjuGSL_i"
      },
      "source": [
        "### Dataset Description\n",
        "\n",
        "The Dataset chosen for this mini project is NIFTY50 Stock tradings. The data is the price history and trading volumes of the fifty stocks in the index NIFTY 50 from NSE (National Stock Exchange) India. All stocks are at a day-level with pricing and trading values split across. The NIFTY 50 is a diversified 50 stock index accounting for 13 sectors of the economy.\n",
        "\n",
        "See the stock indexes of NIFTY 50 in the following [link](https://www1.nseindia.com/products/content/equities/indices/nifty_50.htm)\n",
        "\n",
        "**Note:** Choose the NIFTY 50 ticker symbols and download the stock data from '2009-01-01' to '2021-09-01' using YahooDownloader"
      ]
    },
    {
      "cell_type": "code",
      "metadata": {
        "id": "dFXYNxVO5y87",
        "cellView": "form",
        "colab": {
          "base_uri": "https://localhost:8080/"
        },
        "outputId": "6c765b38-94dd-4f8d-d4a6-1cc5f546c619"
      },
      "source": [
        "#@title Install FinRL, other necessary libraries and extensions\n",
        "!pip -qq install git+https://github.com/AI4Finance-LLC/FinRL-Library.git\n",
        "\n",
        "!pip install -q jupyter-dash==0.3.0rc1 dash-bootstrap-components\n",
        "\n",
        "!pip install pyyaml==5.4.1\n",
        "\n",
        "!pip install macrodemos --upgrade\n",
        "!pip install -q dash==2.0.0"
      ],
      "execution_count": null,
      "outputs": [
        {
          "output_type": "stream",
          "name": "stdout",
          "text": [
            "Collecting pyyaml==5.4.1\n",
            "  Using cached PyYAML-5.4.1-cp37-cp37m-manylinux1_x86_64.whl (636 kB)\n",
            "Installing collected packages: pyyaml\n",
            "  Attempting uninstall: pyyaml\n",
            "    Found existing installation: PyYAML 6.0\n",
            "    Uninstalling PyYAML-6.0:\n",
            "      Successfully uninstalled PyYAML-6.0\n",
            "\u001b[31mERROR: pip's dependency resolver does not currently take into account all the packages that are installed. This behaviour is the source of the following dependency conflicts.\n",
            "alpaca-trade-api 2.0.0 requires PyYAML==6.0, but you have pyyaml 5.4.1 which is incompatible.\u001b[0m\n",
            "Successfully installed pyyaml-5.4.1\n",
            "Requirement already satisfied: macrodemos in /usr/local/lib/python3.7/dist-packages (2021.9.7)\n",
            "Requirement already satisfied: plotly in /usr/local/lib/python3.7/dist-packages (from macrodemos) (5.5.0)\n",
            "Requirement already satisfied: statsmodels>=0.12 in /usr/local/lib/python3.7/dist-packages (from macrodemos) (0.13.2)\n",
            "Requirement already satisfied: dash in /usr/local/lib/python3.7/dist-packages (from macrodemos) (2.0.0)\n",
            "Requirement already satisfied: pandas in /usr/local/lib/python3.7/dist-packages (from macrodemos) (1.3.5)\n",
            "Requirement already satisfied: jupyter-dash in /usr/local/lib/python3.7/dist-packages (from macrodemos) (0.3.0rc1)\n",
            "Requirement already satisfied: numpy in /usr/local/lib/python3.7/dist-packages (from macrodemos) (1.21.5)\n",
            "Requirement already satisfied: patsy>=0.5.2 in /usr/local/lib/python3.7/dist-packages (from statsmodels>=0.12->macrodemos) (0.5.2)\n",
            "Requirement already satisfied: scipy>=1.3 in /usr/local/lib/python3.7/dist-packages (from statsmodels>=0.12->macrodemos) (1.4.1)\n",
            "Requirement already satisfied: packaging>=21.3 in /usr/local/lib/python3.7/dist-packages (from statsmodels>=0.12->macrodemos) (21.3)\n",
            "Requirement already satisfied: pyparsing!=3.0.5,>=2.0.2 in /usr/local/lib/python3.7/dist-packages (from packaging>=21.3->statsmodels>=0.12->macrodemos) (3.0.7)\n",
            "Requirement already satisfied: pytz>=2017.3 in /usr/local/lib/python3.7/dist-packages (from pandas->macrodemos) (2018.9)\n",
            "Requirement already satisfied: python-dateutil>=2.7.3 in /usr/local/lib/python3.7/dist-packages (from pandas->macrodemos) (2.8.2)\n",
            "Requirement already satisfied: six in /usr/local/lib/python3.7/dist-packages (from patsy>=0.5.2->statsmodels>=0.12->macrodemos) (1.15.0)\n",
            "Requirement already satisfied: dash-html-components==2.0.0 in /usr/local/lib/python3.7/dist-packages (from dash->macrodemos) (2.0.0)\n",
            "Requirement already satisfied: flask-compress in /usr/local/lib/python3.7/dist-packages (from dash->macrodemos) (1.11)\n",
            "Requirement already satisfied: Flask>=1.0.4 in /usr/local/lib/python3.7/dist-packages (from dash->macrodemos) (1.1.4)\n",
            "Requirement already satisfied: dash-core-components==2.0.0 in /usr/local/lib/python3.7/dist-packages (from dash->macrodemos) (2.0.0)\n",
            "Requirement already satisfied: dash-table==5.0.0 in /usr/local/lib/python3.7/dist-packages (from dash->macrodemos) (5.0.0)\n",
            "Requirement already satisfied: click<8.0,>=5.1 in /usr/local/lib/python3.7/dist-packages (from Flask>=1.0.4->dash->macrodemos) (7.1.2)\n",
            "Requirement already satisfied: Werkzeug<2.0,>=0.15 in /usr/local/lib/python3.7/dist-packages (from Flask>=1.0.4->dash->macrodemos) (1.0.1)\n",
            "Requirement already satisfied: itsdangerous<2.0,>=0.24 in /usr/local/lib/python3.7/dist-packages (from Flask>=1.0.4->dash->macrodemos) (1.1.0)\n",
            "Requirement already satisfied: Jinja2<3.0,>=2.10.1 in /usr/local/lib/python3.7/dist-packages (from Flask>=1.0.4->dash->macrodemos) (2.11.3)\n",
            "Requirement already satisfied: MarkupSafe>=0.23 in /usr/local/lib/python3.7/dist-packages (from Jinja2<3.0,>=2.10.1->Flask>=1.0.4->dash->macrodemos) (2.0.1)\n",
            "Requirement already satisfied: tenacity>=6.2.0 in /usr/local/lib/python3.7/dist-packages (from plotly->macrodemos) (8.0.1)\n",
            "Requirement already satisfied: brotli in /usr/local/lib/python3.7/dist-packages (from flask-compress->dash->macrodemos) (1.0.9)\n",
            "Requirement already satisfied: requests in /usr/local/lib/python3.7/dist-packages (from jupyter-dash->macrodemos) (2.27.1)\n",
            "Requirement already satisfied: ipython in /usr/local/lib/python3.7/dist-packages (from jupyter-dash->macrodemos) (5.5.0)\n",
            "Requirement already satisfied: ansi2html in /usr/local/lib/python3.7/dist-packages (from jupyter-dash->macrodemos) (1.7.0)\n",
            "Requirement already satisfied: retrying in /usr/local/lib/python3.7/dist-packages (from jupyter-dash->macrodemos) (1.3.3)\n",
            "Requirement already satisfied: ipykernel in /usr/local/lib/python3.7/dist-packages (from jupyter-dash->macrodemos) (4.10.1)\n",
            "Requirement already satisfied: importlib-metadata in /usr/local/lib/python3.7/dist-packages (from ansi2html->jupyter-dash->macrodemos) (4.11.3)\n",
            "Requirement already satisfied: zipp>=0.5 in /usr/local/lib/python3.7/dist-packages (from importlib-metadata->ansi2html->jupyter-dash->macrodemos) (3.7.0)\n",
            "Requirement already satisfied: typing-extensions>=3.6.4 in /usr/local/lib/python3.7/dist-packages (from importlib-metadata->ansi2html->jupyter-dash->macrodemos) (3.10.0.2)\n",
            "Requirement already satisfied: traitlets>=4.1.0 in /usr/local/lib/python3.7/dist-packages (from ipykernel->jupyter-dash->macrodemos) (5.1.1)\n",
            "Requirement already satisfied: tornado>=4.0 in /usr/local/lib/python3.7/dist-packages (from ipykernel->jupyter-dash->macrodemos) (5.1.1)\n",
            "Requirement already satisfied: jupyter-client in /usr/local/lib/python3.7/dist-packages (from ipykernel->jupyter-dash->macrodemos) (5.3.5)\n",
            "Requirement already satisfied: pygments in /usr/local/lib/python3.7/dist-packages (from ipython->jupyter-dash->macrodemos) (2.6.1)\n",
            "Requirement already satisfied: setuptools>=18.5 in /usr/local/lib/python3.7/dist-packages (from ipython->jupyter-dash->macrodemos) (59.5.0)\n",
            "Requirement already satisfied: simplegeneric>0.8 in /usr/local/lib/python3.7/dist-packages (from ipython->jupyter-dash->macrodemos) (0.8.1)\n",
            "Requirement already satisfied: pexpect in /usr/local/lib/python3.7/dist-packages (from ipython->jupyter-dash->macrodemos) (4.8.0)\n",
            "Requirement already satisfied: decorator in /usr/local/lib/python3.7/dist-packages (from ipython->jupyter-dash->macrodemos) (4.4.2)\n",
            "Requirement already satisfied: prompt-toolkit<2.0.0,>=1.0.4 in /usr/local/lib/python3.7/dist-packages (from ipython->jupyter-dash->macrodemos) (1.0.18)\n",
            "Requirement already satisfied: pickleshare in /usr/local/lib/python3.7/dist-packages (from ipython->jupyter-dash->macrodemos) (0.7.5)\n",
            "Requirement already satisfied: wcwidth in /usr/local/lib/python3.7/dist-packages (from prompt-toolkit<2.0.0,>=1.0.4->ipython->jupyter-dash->macrodemos) (0.2.5)\n",
            "Requirement already satisfied: jupyter-core>=4.6.0 in /usr/local/lib/python3.7/dist-packages (from jupyter-client->ipykernel->jupyter-dash->macrodemos) (4.9.2)\n",
            "Requirement already satisfied: pyzmq>=13 in /usr/local/lib/python3.7/dist-packages (from jupyter-client->ipykernel->jupyter-dash->macrodemos) (22.3.0)\n",
            "Requirement already satisfied: ptyprocess>=0.5 in /usr/local/lib/python3.7/dist-packages (from pexpect->ipython->jupyter-dash->macrodemos) (0.7.0)\n",
            "Requirement already satisfied: charset-normalizer~=2.0.0 in /usr/local/lib/python3.7/dist-packages (from requests->jupyter-dash->macrodemos) (2.0.12)\n",
            "Requirement already satisfied: idna<4,>=2.5 in /usr/local/lib/python3.7/dist-packages (from requests->jupyter-dash->macrodemos) (2.10)\n",
            "Requirement already satisfied: urllib3<1.27,>=1.21.1 in /usr/local/lib/python3.7/dist-packages (from requests->jupyter-dash->macrodemos) (1.24.3)\n",
            "Requirement already satisfied: certifi>=2017.4.17 in /usr/local/lib/python3.7/dist-packages (from requests->jupyter-dash->macrodemos) (2021.10.8)\n"
          ]
        }
      ]
    },
    {
      "cell_type": "code",
      "metadata": {
        "id": "CqGxWdnT6sCg",
        "cellView": "form"
      },
      "source": [
        "#@title Download the data\n",
        "!wget -qq https://cdn.iisc.talentsprint.com/CDS/MiniProjects/nifty50list.csv\n",
        "\n",
        "!wget -qq https://cdn.iisc.talentsprint.com/CDS/MiniProjects/df_account_value.csv"
      ],
      "execution_count": null,
      "outputs": []
    },
    {
      "cell_type": "markdown",
      "metadata": {
        "id": "MsLAeFr96Oqe"
      },
      "source": [
        "### Import required packages"
      ]
    },
    {
      "cell_type": "code",
      "metadata": {
        "id": "bIV6nrRN6EMA"
      },
      "source": [
        "import numpy as np\n",
        "import pandas as pd\n",
        "import matplotlib.pyplot as plt\n",
        "import matplotlib\n",
        "matplotlib.use('Agg')\n",
        "import warnings\n",
        "warnings.filterwarnings(\"ignore\")\n",
        "import datetime\n",
        "import os\n",
        "from finrl import config\n",
        "from finrl.finrl_meta.preprocessor.yahoodownloader import YahooDownloader\n",
        "from finrl.finrl_meta.preprocessor.preprocessors import FeatureEngineer, data_split\n",
        "from finrl.finrl_meta.env_stock_trading.env_stocktrading import StockTradingEnv\n",
        "from finrl.agents.stablebaselines3.models import DRLAgent\n",
        "from finrl.plot import backtest_stats, backtest_plot, get_daily_return, get_baseline\n",
        "import sys\n",
        "sys.path.append(\"../FinRL-Library\")"
      ],
      "execution_count": null,
      "outputs": []
    },
    {
      "cell_type": "markdown",
      "metadata": {
        "id": "tDi9YDWGcrdH"
      },
      "source": [
        "### Data Loading\n",
        "\n",
        "* Read the ticker symbols of Nifty 50 and add `.NS` extension\n",
        "\n",
        "* Using the symbols download the stock prices data using YahooDownloader"
      ]
    },
    {
      "cell_type": "code",
      "source": [
        "# df_account_value = pd.read_csv(\"df_account_value.csv\")"
      ],
      "metadata": {
        "id": "vv-2FL8rJiaj"
      },
      "execution_count": null,
      "outputs": []
    },
    {
      "cell_type": "code",
      "metadata": {
        "id": "SPCvskXPJ9WP",
        "colab": {
          "base_uri": "https://localhost:8080/"
        },
        "outputId": "d7f09a3f-f6cb-42ad-a964-3a624b22128e"
      },
      "source": [
        "nif = pd.read_csv(\"/content/nifty50list.csv\")\n",
        "nif.Symbol = nif.Symbol + \".NS\"\n",
        "nif.Symbol.values"
      ],
      "execution_count": null,
      "outputs": [
        {
          "output_type": "execute_result",
          "data": {
            "text/plain": [
              "array(['ACC.NS', 'ABBOTINDIA.NS', 'ADANIENT.NS', 'ADANIGREEN.NS',\n",
              "       'ADANITRANS.NS', 'ALKEM.NS', 'AMBUJACEM.NS', 'APOLLOHOSP.NS',\n",
              "       'AUROPHARMA.NS', 'DMART.NS', 'BAJAJHLDNG.NS', 'BANDHANBNK.NS',\n",
              "       'BERGEPAINT.NS', 'BIOCON.NS', 'BOSCHLTD.NS', 'CADILAHC.NS',\n",
              "       'COLPAL.NS', 'DLF.NS', 'DABUR.NS', 'GAIL.NS', 'GLAND.NS',\n",
              "       'GODREJCP.NS', 'HDFCAMC.NS', 'HAVELLS.NS', 'HINDPETRO.NS',\n",
              "       'ICICIGI.NS', 'ICICIPRULI.NS', 'IGL.NS', 'INDUSTOWER.NS',\n",
              "       'NAUKRI.NS', 'INDIGO.NS', 'JUBLFOOD.NS', 'LTI.NS', 'LUPIN.NS',\n",
              "       'MRF.NS', 'MARICO.NS', 'MUTHOOTFIN.NS', 'NMDC.NS', 'PETRONET.NS',\n",
              "       'PIDILITIND.NS', 'PEL.NS', 'PGHH.NS', 'PNB.NS', 'SBICARD.NS',\n",
              "       'SIEMENS.NS', 'TORNTPHARM.NS', 'UBL.NS', 'MCDOWELL-N.NS',\n",
              "       'VEDL.NS', 'YESBANK.NS'], dtype=object)"
            ]
          },
          "metadata": {},
          "execution_count": 5
        }
      ]
    },
    {
      "cell_type": "code",
      "metadata": {
        "id": "Tr28gLYYgFPP",
        "colab": {
          "base_uri": "https://localhost:8080/"
        },
        "outputId": "76c2fa50-b0c5-47c8-f6f1-eee90438b0fb"
      },
      "source": [
        "# Download and save the data in a pandas DataFrame:\n",
        "df = YahooDownloader(start_date = '2009-01-01',\n",
        "                          end_date = '2021-09-01',\n",
        "                          ticker_list = nif.Symbol.values).fetch_data()\n",
        "\n",
        "print(df.sort_values(['date','tic'],ignore_index=True).head())"
      ],
      "execution_count": null,
      "outputs": [
        {
          "output_type": "stream",
          "name": "stdout",
          "text": [
            "[*********************100%***********************]  1 of 1 completed\n",
            "[*********************100%***********************]  1 of 1 completed\n",
            "[*********************100%***********************]  1 of 1 completed\n",
            "[*********************100%***********************]  1 of 1 completed\n",
            "[*********************100%***********************]  1 of 1 completed\n",
            "[*********************100%***********************]  1 of 1 completed\n",
            "[*********************100%***********************]  1 of 1 completed\n",
            "[*********************100%***********************]  1 of 1 completed\n",
            "[*********************100%***********************]  1 of 1 completed\n",
            "[*********************100%***********************]  1 of 1 completed\n",
            "[*********************100%***********************]  1 of 1 completed\n",
            "[*********************100%***********************]  1 of 1 completed\n",
            "[*********************100%***********************]  1 of 1 completed\n",
            "[*********************100%***********************]  1 of 1 completed\n",
            "[*********************100%***********************]  1 of 1 completed\n",
            "[*********************100%***********************]  1 of 1 completed\n",
            "[*********************100%***********************]  1 of 1 completed\n",
            "[*********************100%***********************]  1 of 1 completed\n",
            "[*********************100%***********************]  1 of 1 completed\n",
            "[*********************100%***********************]  1 of 1 completed\n",
            "[*********************100%***********************]  1 of 1 completed\n",
            "[*********************100%***********************]  1 of 1 completed\n",
            "[*********************100%***********************]  1 of 1 completed\n",
            "[*********************100%***********************]  1 of 1 completed\n",
            "[*********************100%***********************]  1 of 1 completed\n",
            "[*********************100%***********************]  1 of 1 completed\n",
            "[*********************100%***********************]  1 of 1 completed\n",
            "[*********************100%***********************]  1 of 1 completed\n",
            "[*********************100%***********************]  1 of 1 completed\n",
            "[*********************100%***********************]  1 of 1 completed\n",
            "[*********************100%***********************]  1 of 1 completed\n",
            "[*********************100%***********************]  1 of 1 completed\n",
            "[*********************100%***********************]  1 of 1 completed\n",
            "[*********************100%***********************]  1 of 1 completed\n",
            "[*********************100%***********************]  1 of 1 completed\n",
            "[*********************100%***********************]  1 of 1 completed\n",
            "[*********************100%***********************]  1 of 1 completed\n",
            "[*********************100%***********************]  1 of 1 completed\n",
            "[*********************100%***********************]  1 of 1 completed\n",
            "[*********************100%***********************]  1 of 1 completed\n",
            "[*********************100%***********************]  1 of 1 completed\n",
            "[*********************100%***********************]  1 of 1 completed\n",
            "[*********************100%***********************]  1 of 1 completed\n",
            "[*********************100%***********************]  1 of 1 completed\n",
            "[*********************100%***********************]  1 of 1 completed\n",
            "[*********************100%***********************]  1 of 1 completed\n",
            "[*********************100%***********************]  1 of 1 completed\n",
            "[*********************100%***********************]  1 of 1 completed\n",
            "[*********************100%***********************]  1 of 1 completed\n",
            "[*********************100%***********************]  1 of 1 completed\n",
            "Shape of DataFrame:  (128561, 8)\n",
            "         date        open        high         low       close   volume  \\\n",
            "0  2009-01-02  280.100006  280.100006  280.100006  236.199631        0   \n",
            "1  2009-01-02  503.899994  503.899994  484.000000  385.829071   515098   \n",
            "2  2009-01-02   24.524010   25.206083   23.987547   19.948494   527417   \n",
            "3  2009-01-02   71.750000   72.000000   67.849998   51.071278  2316342   \n",
            "4  2009-01-02  223.500000  244.875000  219.500000  223.279022   117614   \n",
            "\n",
            "             tic  day  \n",
            "0  ABBOTINDIA.NS    4  \n",
            "1         ACC.NS    4  \n",
            "2    ADANIENT.NS    4  \n",
            "3   AMBUJACEM.NS    4  \n",
            "4  APOLLOHOSP.NS    4  \n"
          ]
        }
      ]
    },
    {
      "cell_type": "code",
      "metadata": {
        "id": "kysjOcNUDKsX",
        "colab": {
          "base_uri": "https://localhost:8080/"
        },
        "outputId": "d44bc0ec-1586-4a4a-b125-2f4f05cb8ff7"
      },
      "source": [
        "df.tic.nunique()"
      ],
      "execution_count": null,
      "outputs": [
        {
          "output_type": "execute_result",
          "data": {
            "text/plain": [
              "50"
            ]
          },
          "metadata": {},
          "execution_count": 7
        }
      ]
    },
    {
      "cell_type": "code",
      "metadata": {
        "id": "Sj4e3r0cDUn6",
        "colab": {
          "base_uri": "https://localhost:8080/"
        },
        "outputId": "7e43d760-f5cf-4889-d14c-e1ec80086da3"
      },
      "source": [
        "df.date.min(), df.date.max()"
      ],
      "execution_count": null,
      "outputs": [
        {
          "output_type": "execute_result",
          "data": {
            "text/plain": [
              "('2009-01-02', '2021-08-31')"
            ]
          },
          "metadata": {},
          "execution_count": 8
        }
      ]
    },
    {
      "cell_type": "code",
      "metadata": {
        "id": "uD-ZxkZWgy5S",
        "colab": {
          "base_uri": "https://localhost:8080/"
        },
        "outputId": "26dce097-cf54-4852-83d1-82f3b010daa7"
      },
      "source": [
        "df.dtypes"
      ],
      "execution_count": null,
      "outputs": [
        {
          "output_type": "execute_result",
          "data": {
            "text/plain": [
              "date       object\n",
              "open      float64\n",
              "high      float64\n",
              "low       float64\n",
              "close     float64\n",
              "volume      int64\n",
              "tic        object\n",
              "day         int64\n",
              "dtype: object"
            ]
          },
          "metadata": {},
          "execution_count": 9
        }
      ]
    },
    {
      "cell_type": "markdown",
      "metadata": {
        "id": "G0LH4fX2cuun"
      },
      "source": [
        "### Preprocess Data\n",
        "\n",
        "FinRL uses a `FeatureEngineer` class to preprocess data. Some of the technical indicators used in the analysis of financial markets includes.\n",
        "\n",
        "1. relative strength index (RSI): it represents the size of recent gains and losses, during a specified time period.\n",
        "2. moving average convergence divergence (MACD):  it is an indicator to determine price momentum and short term trend.\n",
        "3. commodity channel index (CCI): its an indicator helps in identifying cyclical trends.\n",
        "4. directional index (DX): it represents group of directional movements that form trading system\n",
        "\n",
        "* Configure the technical indicators and apply feature engineering\n",
        "\n",
        "  Hint: `FeatureEngineer()`"
      ]
    },
    {
      "cell_type": "code",
      "metadata": {
        "id": "8HwW_dWOK0Nn",
        "colab": {
          "base_uri": "https://localhost:8080/"
        },
        "outputId": "e226fced-4ac2-42b1-c824-f37a4ae354c8"
      },
      "source": [
        "# Perform Feature Engineering\n",
        "tech_indicator_list = config.INDICATORS\n",
        "print(tech_indicator_list)"
      ],
      "execution_count": null,
      "outputs": [
        {
          "output_type": "stream",
          "name": "stdout",
          "text": [
            "['macd', 'boll_ub', 'boll_lb', 'rsi_30', 'cci_30', 'dx_30', 'close_30_sma', 'close_60_sma']\n"
          ]
        }
      ]
    },
    {
      "cell_type": "code",
      "metadata": {
        "id": "YmY-3AL04Uqv",
        "colab": {
          "base_uri": "https://localhost:8080/"
        },
        "outputId": "8f9feb6a-2426-4e95-a38a-ac37ffa8a5cd"
      },
      "source": [
        "df.shape"
      ],
      "execution_count": null,
      "outputs": [
        {
          "output_type": "execute_result",
          "data": {
            "text/plain": [
              "(128561, 8)"
            ]
          },
          "metadata": {},
          "execution_count": 11
        }
      ]
    },
    {
      "cell_type": "code",
      "metadata": {
        "id": "5ZuwBoLvISvT",
        "colab": {
          "base_uri": "https://localhost:8080/",
          "height": 223
        },
        "outputId": "35f291a0-6ffc-4808-dbd6-6817550024ca"
      },
      "source": [
        "fe = FeatureEngineer(\n",
        "                    use_technical_indicator=True,\n",
        "                    tech_indicator_list = tech_indicator_list,\n",
        "                    use_turbulence=False,\n",
        "                    user_defined_feature = False)\n",
        "\n",
        "df = fe.preprocess_data(df)\n",
        "df.head()"
      ],
      "execution_count": null,
      "outputs": [
        {
          "output_type": "stream",
          "name": "stdout",
          "text": [
            "Successfully added technical indicators\n"
          ]
        },
        {
          "output_type": "execute_result",
          "data": {
            "text/plain": [
              "             date        open        high         low       close   volume  \\\n",
              "0      2009-01-02  280.100006  280.100006  280.100006  236.199631        0   \n",
              "3120   2009-01-02  503.899994  503.899994  484.000000  385.829071   515098   \n",
              "6240   2009-01-02   24.524010   25.206083   23.987547   19.948494   527417   \n",
              "9360   2009-01-02   71.750000   72.000000   67.849998   51.071278  2316342   \n",
              "12480  2009-01-02  223.500000  244.875000  219.500000  223.279022   117614   \n",
              "\n",
              "                 tic  day  macd     boll_ub     boll_lb  rsi_30     cci_30  \\\n",
              "0      ABBOTINDIA.NS    4   0.0  236.199631  236.199631   100.0  66.666667   \n",
              "3120          ACC.NS    4   0.0  236.199631  236.199631   100.0  66.666667   \n",
              "6240     ADANIENT.NS    4   0.0  236.199631  236.199631   100.0  66.666667   \n",
              "9360    AMBUJACEM.NS    4   0.0  236.199631  236.199631   100.0  66.666667   \n",
              "12480  APOLLOHOSP.NS    4   0.0  236.199631  236.199631   100.0  66.666667   \n",
              "\n",
              "       dx_30  close_30_sma  close_60_sma  \n",
              "0      100.0    236.199631    236.199631  \n",
              "3120   100.0    385.829071    385.829071  \n",
              "6240   100.0     19.948494     19.948494  \n",
              "9360   100.0     51.071278     51.071278  \n",
              "12480  100.0    223.279022    223.279022  "
            ],
            "text/html": [
              "\n",
              "  <div id=\"df-77947851-167b-4f58-82e7-5659c53cc794\">\n",
              "    <div class=\"colab-df-container\">\n",
              "      <div>\n",
              "<style scoped>\n",
              "    .dataframe tbody tr th:only-of-type {\n",
              "        vertical-align: middle;\n",
              "    }\n",
              "\n",
              "    .dataframe tbody tr th {\n",
              "        vertical-align: top;\n",
              "    }\n",
              "\n",
              "    .dataframe thead th {\n",
              "        text-align: right;\n",
              "    }\n",
              "</style>\n",
              "<table border=\"1\" class=\"dataframe\">\n",
              "  <thead>\n",
              "    <tr style=\"text-align: right;\">\n",
              "      <th></th>\n",
              "      <th>date</th>\n",
              "      <th>open</th>\n",
              "      <th>high</th>\n",
              "      <th>low</th>\n",
              "      <th>close</th>\n",
              "      <th>volume</th>\n",
              "      <th>tic</th>\n",
              "      <th>day</th>\n",
              "      <th>macd</th>\n",
              "      <th>boll_ub</th>\n",
              "      <th>boll_lb</th>\n",
              "      <th>rsi_30</th>\n",
              "      <th>cci_30</th>\n",
              "      <th>dx_30</th>\n",
              "      <th>close_30_sma</th>\n",
              "      <th>close_60_sma</th>\n",
              "    </tr>\n",
              "  </thead>\n",
              "  <tbody>\n",
              "    <tr>\n",
              "      <th>0</th>\n",
              "      <td>2009-01-02</td>\n",
              "      <td>280.100006</td>\n",
              "      <td>280.100006</td>\n",
              "      <td>280.100006</td>\n",
              "      <td>236.199631</td>\n",
              "      <td>0</td>\n",
              "      <td>ABBOTINDIA.NS</td>\n",
              "      <td>4</td>\n",
              "      <td>0.0</td>\n",
              "      <td>236.199631</td>\n",
              "      <td>236.199631</td>\n",
              "      <td>100.0</td>\n",
              "      <td>66.666667</td>\n",
              "      <td>100.0</td>\n",
              "      <td>236.199631</td>\n",
              "      <td>236.199631</td>\n",
              "    </tr>\n",
              "    <tr>\n",
              "      <th>3120</th>\n",
              "      <td>2009-01-02</td>\n",
              "      <td>503.899994</td>\n",
              "      <td>503.899994</td>\n",
              "      <td>484.000000</td>\n",
              "      <td>385.829071</td>\n",
              "      <td>515098</td>\n",
              "      <td>ACC.NS</td>\n",
              "      <td>4</td>\n",
              "      <td>0.0</td>\n",
              "      <td>236.199631</td>\n",
              "      <td>236.199631</td>\n",
              "      <td>100.0</td>\n",
              "      <td>66.666667</td>\n",
              "      <td>100.0</td>\n",
              "      <td>385.829071</td>\n",
              "      <td>385.829071</td>\n",
              "    </tr>\n",
              "    <tr>\n",
              "      <th>6240</th>\n",
              "      <td>2009-01-02</td>\n",
              "      <td>24.524010</td>\n",
              "      <td>25.206083</td>\n",
              "      <td>23.987547</td>\n",
              "      <td>19.948494</td>\n",
              "      <td>527417</td>\n",
              "      <td>ADANIENT.NS</td>\n",
              "      <td>4</td>\n",
              "      <td>0.0</td>\n",
              "      <td>236.199631</td>\n",
              "      <td>236.199631</td>\n",
              "      <td>100.0</td>\n",
              "      <td>66.666667</td>\n",
              "      <td>100.0</td>\n",
              "      <td>19.948494</td>\n",
              "      <td>19.948494</td>\n",
              "    </tr>\n",
              "    <tr>\n",
              "      <th>9360</th>\n",
              "      <td>2009-01-02</td>\n",
              "      <td>71.750000</td>\n",
              "      <td>72.000000</td>\n",
              "      <td>67.849998</td>\n",
              "      <td>51.071278</td>\n",
              "      <td>2316342</td>\n",
              "      <td>AMBUJACEM.NS</td>\n",
              "      <td>4</td>\n",
              "      <td>0.0</td>\n",
              "      <td>236.199631</td>\n",
              "      <td>236.199631</td>\n",
              "      <td>100.0</td>\n",
              "      <td>66.666667</td>\n",
              "      <td>100.0</td>\n",
              "      <td>51.071278</td>\n",
              "      <td>51.071278</td>\n",
              "    </tr>\n",
              "    <tr>\n",
              "      <th>12480</th>\n",
              "      <td>2009-01-02</td>\n",
              "      <td>223.500000</td>\n",
              "      <td>244.875000</td>\n",
              "      <td>219.500000</td>\n",
              "      <td>223.279022</td>\n",
              "      <td>117614</td>\n",
              "      <td>APOLLOHOSP.NS</td>\n",
              "      <td>4</td>\n",
              "      <td>0.0</td>\n",
              "      <td>236.199631</td>\n",
              "      <td>236.199631</td>\n",
              "      <td>100.0</td>\n",
              "      <td>66.666667</td>\n",
              "      <td>100.0</td>\n",
              "      <td>223.279022</td>\n",
              "      <td>223.279022</td>\n",
              "    </tr>\n",
              "  </tbody>\n",
              "</table>\n",
              "</div>\n",
              "      <button class=\"colab-df-convert\" onclick=\"convertToInteractive('df-77947851-167b-4f58-82e7-5659c53cc794')\"\n",
              "              title=\"Convert this dataframe to an interactive table.\"\n",
              "              style=\"display:none;\">\n",
              "        \n",
              "  <svg xmlns=\"http://www.w3.org/2000/svg\" height=\"24px\"viewBox=\"0 0 24 24\"\n",
              "       width=\"24px\">\n",
              "    <path d=\"M0 0h24v24H0V0z\" fill=\"none\"/>\n",
              "    <path d=\"M18.56 5.44l.94 2.06.94-2.06 2.06-.94-2.06-.94-.94-2.06-.94 2.06-2.06.94zm-11 1L8.5 8.5l.94-2.06 2.06-.94-2.06-.94L8.5 2.5l-.94 2.06-2.06.94zm10 10l.94 2.06.94-2.06 2.06-.94-2.06-.94-.94-2.06-.94 2.06-2.06.94z\"/><path d=\"M17.41 7.96l-1.37-1.37c-.4-.4-.92-.59-1.43-.59-.52 0-1.04.2-1.43.59L10.3 9.45l-7.72 7.72c-.78.78-.78 2.05 0 2.83L4 21.41c.39.39.9.59 1.41.59.51 0 1.02-.2 1.41-.59l7.78-7.78 2.81-2.81c.8-.78.8-2.07 0-2.86zM5.41 20L4 18.59l7.72-7.72 1.47 1.35L5.41 20z\"/>\n",
              "  </svg>\n",
              "      </button>\n",
              "      \n",
              "  <style>\n",
              "    .colab-df-container {\n",
              "      display:flex;\n",
              "      flex-wrap:wrap;\n",
              "      gap: 12px;\n",
              "    }\n",
              "\n",
              "    .colab-df-convert {\n",
              "      background-color: #E8F0FE;\n",
              "      border: none;\n",
              "      border-radius: 50%;\n",
              "      cursor: pointer;\n",
              "      display: none;\n",
              "      fill: #1967D2;\n",
              "      height: 32px;\n",
              "      padding: 0 0 0 0;\n",
              "      width: 32px;\n",
              "    }\n",
              "\n",
              "    .colab-df-convert:hover {\n",
              "      background-color: #E2EBFA;\n",
              "      box-shadow: 0px 1px 2px rgba(60, 64, 67, 0.3), 0px 1px 3px 1px rgba(60, 64, 67, 0.15);\n",
              "      fill: #174EA6;\n",
              "    }\n",
              "\n",
              "    [theme=dark] .colab-df-convert {\n",
              "      background-color: #3B4455;\n",
              "      fill: #D2E3FC;\n",
              "    }\n",
              "\n",
              "    [theme=dark] .colab-df-convert:hover {\n",
              "      background-color: #434B5C;\n",
              "      box-shadow: 0px 1px 3px 1px rgba(0, 0, 0, 0.15);\n",
              "      filter: drop-shadow(0px 1px 2px rgba(0, 0, 0, 0.3));\n",
              "      fill: #FFFFFF;\n",
              "    }\n",
              "  </style>\n",
              "\n",
              "      <script>\n",
              "        const buttonEl =\n",
              "          document.querySelector('#df-77947851-167b-4f58-82e7-5659c53cc794 button.colab-df-convert');\n",
              "        buttonEl.style.display =\n",
              "          google.colab.kernel.accessAllowed ? 'block' : 'none';\n",
              "\n",
              "        async function convertToInteractive(key) {\n",
              "          const element = document.querySelector('#df-77947851-167b-4f58-82e7-5659c53cc794');\n",
              "          const dataTable =\n",
              "            await google.colab.kernel.invokeFunction('convertToInteractive',\n",
              "                                                     [key], {});\n",
              "          if (!dataTable) return;\n",
              "\n",
              "          const docLinkHtml = 'Like what you see? Visit the ' +\n",
              "            '<a target=\"_blank\" href=https://colab.research.google.com/notebooks/data_table.ipynb>data table notebook</a>'\n",
              "            + ' to learn more about interactive tables.';\n",
              "          element.innerHTML = '';\n",
              "          dataTable['output_type'] = 'display_data';\n",
              "          await google.colab.output.renderOutput(dataTable, element);\n",
              "          const docLink = document.createElement('div');\n",
              "          docLink.innerHTML = docLinkHtml;\n",
              "          element.appendChild(docLink);\n",
              "        }\n",
              "      </script>\n",
              "    </div>\n",
              "  </div>\n",
              "  "
            ]
          },
          "metadata": {},
          "execution_count": 12
        }
      ]
    },
    {
      "cell_type": "code",
      "metadata": {
        "id": "7lA-eZLw4ZdZ",
        "colab": {
          "base_uri": "https://localhost:8080/"
        },
        "outputId": "4858e8d2-23da-4c80-8a86-e30289dc9a01"
      },
      "source": [
        "df.shape"
      ],
      "execution_count": null,
      "outputs": [
        {
          "output_type": "execute_result",
          "data": {
            "text/plain": [
              "(106080, 16)"
            ]
          },
          "metadata": {},
          "execution_count": 13
        }
      ]
    },
    {
      "cell_type": "markdown",
      "metadata": {
        "id": "EcMQR7pMrEz9"
      },
      "source": [
        "### Exploratory Data Analysis"
      ]
    },
    {
      "cell_type": "markdown",
      "metadata": {
        "id": "efOrQyITz7z-"
      },
      "source": [
        "#### Describe the statistics of the data"
      ]
    },
    {
      "cell_type": "code",
      "metadata": {
        "id": "t1nNkrLWrHcH",
        "colab": {
          "base_uri": "https://localhost:8080/"
        },
        "outputId": "b1a11534-2466-42d6-b2f1-cc0fb23c3ee6"
      },
      "source": [
        "# max and min\n",
        "df.close.max(), df.close.min()"
      ],
      "execution_count": null,
      "outputs": [
        {
          "output_type": "execute_result",
          "data": {
            "text/plain": [
              "(96902.6484375, 7.416604042053223)"
            ]
          },
          "metadata": {},
          "execution_count": 14
        }
      ]
    },
    {
      "cell_type": "code",
      "metadata": {
        "id": "r1fBuoJ0rL5G",
        "colab": {
          "base_uri": "https://localhost:8080/"
        },
        "outputId": "682ffcd2-4e8d-4737-ce47-a5f36fea76a9"
      },
      "source": [
        "# mean of close\n",
        "df.close.mean()"
      ],
      "execution_count": null,
      "outputs": [
        {
          "output_type": "execute_result",
          "data": {
            "text/plain": [
              "2154.7949384350895"
            ]
          },
          "metadata": {},
          "execution_count": 15
        }
      ]
    },
    {
      "cell_type": "code",
      "metadata": {
        "id": "peJm6n4K5kai",
        "colab": {
          "base_uri": "https://localhost:8080/",
          "height": 81
        },
        "outputId": "2f82ec41-9f4b-485b-f057-106c50ec7c40"
      },
      "source": [
        "# stock with min closing value\n",
        "df[df.close == df.close.min()]"
      ],
      "execution_count": null,
      "outputs": [
        {
          "output_type": "execute_result",
          "data": {
            "text/plain": [
              "              date  open  high   low     close   volume         tic  day  \\\n",
              "103003  2009-03-09   8.6   8.6  8.12  7.416604  2259420  YESBANK.NS    0   \n",
              "\n",
              "            macd    boll_ub   boll_lb     rsi_30      cci_30      dx_30  \\\n",
              "103003 -0.861902  11.669052  7.208524  19.451698 -186.031395  79.086021   \n",
              "\n",
              "        close_30_sma  close_60_sma  \n",
              "103003      9.849583     10.997069  "
            ],
            "text/html": [
              "\n",
              "  <div id=\"df-c238faad-5510-4f2d-b817-753bd693321e\">\n",
              "    <div class=\"colab-df-container\">\n",
              "      <div>\n",
              "<style scoped>\n",
              "    .dataframe tbody tr th:only-of-type {\n",
              "        vertical-align: middle;\n",
              "    }\n",
              "\n",
              "    .dataframe tbody tr th {\n",
              "        vertical-align: top;\n",
              "    }\n",
              "\n",
              "    .dataframe thead th {\n",
              "        text-align: right;\n",
              "    }\n",
              "</style>\n",
              "<table border=\"1\" class=\"dataframe\">\n",
              "  <thead>\n",
              "    <tr style=\"text-align: right;\">\n",
              "      <th></th>\n",
              "      <th>date</th>\n",
              "      <th>open</th>\n",
              "      <th>high</th>\n",
              "      <th>low</th>\n",
              "      <th>close</th>\n",
              "      <th>volume</th>\n",
              "      <th>tic</th>\n",
              "      <th>day</th>\n",
              "      <th>macd</th>\n",
              "      <th>boll_ub</th>\n",
              "      <th>boll_lb</th>\n",
              "      <th>rsi_30</th>\n",
              "      <th>cci_30</th>\n",
              "      <th>dx_30</th>\n",
              "      <th>close_30_sma</th>\n",
              "      <th>close_60_sma</th>\n",
              "    </tr>\n",
              "  </thead>\n",
              "  <tbody>\n",
              "    <tr>\n",
              "      <th>103003</th>\n",
              "      <td>2009-03-09</td>\n",
              "      <td>8.6</td>\n",
              "      <td>8.6</td>\n",
              "      <td>8.12</td>\n",
              "      <td>7.416604</td>\n",
              "      <td>2259420</td>\n",
              "      <td>YESBANK.NS</td>\n",
              "      <td>0</td>\n",
              "      <td>-0.861902</td>\n",
              "      <td>11.669052</td>\n",
              "      <td>7.208524</td>\n",
              "      <td>19.451698</td>\n",
              "      <td>-186.031395</td>\n",
              "      <td>79.086021</td>\n",
              "      <td>9.849583</td>\n",
              "      <td>10.997069</td>\n",
              "    </tr>\n",
              "  </tbody>\n",
              "</table>\n",
              "</div>\n",
              "      <button class=\"colab-df-convert\" onclick=\"convertToInteractive('df-c238faad-5510-4f2d-b817-753bd693321e')\"\n",
              "              title=\"Convert this dataframe to an interactive table.\"\n",
              "              style=\"display:none;\">\n",
              "        \n",
              "  <svg xmlns=\"http://www.w3.org/2000/svg\" height=\"24px\"viewBox=\"0 0 24 24\"\n",
              "       width=\"24px\">\n",
              "    <path d=\"M0 0h24v24H0V0z\" fill=\"none\"/>\n",
              "    <path d=\"M18.56 5.44l.94 2.06.94-2.06 2.06-.94-2.06-.94-.94-2.06-.94 2.06-2.06.94zm-11 1L8.5 8.5l.94-2.06 2.06-.94-2.06-.94L8.5 2.5l-.94 2.06-2.06.94zm10 10l.94 2.06.94-2.06 2.06-.94-2.06-.94-.94-2.06-.94 2.06-2.06.94z\"/><path d=\"M17.41 7.96l-1.37-1.37c-.4-.4-.92-.59-1.43-.59-.52 0-1.04.2-1.43.59L10.3 9.45l-7.72 7.72c-.78.78-.78 2.05 0 2.83L4 21.41c.39.39.9.59 1.41.59.51 0 1.02-.2 1.41-.59l7.78-7.78 2.81-2.81c.8-.78.8-2.07 0-2.86zM5.41 20L4 18.59l7.72-7.72 1.47 1.35L5.41 20z\"/>\n",
              "  </svg>\n",
              "      </button>\n",
              "      \n",
              "  <style>\n",
              "    .colab-df-container {\n",
              "      display:flex;\n",
              "      flex-wrap:wrap;\n",
              "      gap: 12px;\n",
              "    }\n",
              "\n",
              "    .colab-df-convert {\n",
              "      background-color: #E8F0FE;\n",
              "      border: none;\n",
              "      border-radius: 50%;\n",
              "      cursor: pointer;\n",
              "      display: none;\n",
              "      fill: #1967D2;\n",
              "      height: 32px;\n",
              "      padding: 0 0 0 0;\n",
              "      width: 32px;\n",
              "    }\n",
              "\n",
              "    .colab-df-convert:hover {\n",
              "      background-color: #E2EBFA;\n",
              "      box-shadow: 0px 1px 2px rgba(60, 64, 67, 0.3), 0px 1px 3px 1px rgba(60, 64, 67, 0.15);\n",
              "      fill: #174EA6;\n",
              "    }\n",
              "\n",
              "    [theme=dark] .colab-df-convert {\n",
              "      background-color: #3B4455;\n",
              "      fill: #D2E3FC;\n",
              "    }\n",
              "\n",
              "    [theme=dark] .colab-df-convert:hover {\n",
              "      background-color: #434B5C;\n",
              "      box-shadow: 0px 1px 3px 1px rgba(0, 0, 0, 0.15);\n",
              "      filter: drop-shadow(0px 1px 2px rgba(0, 0, 0, 0.3));\n",
              "      fill: #FFFFFF;\n",
              "    }\n",
              "  </style>\n",
              "\n",
              "      <script>\n",
              "        const buttonEl =\n",
              "          document.querySelector('#df-c238faad-5510-4f2d-b817-753bd693321e button.colab-df-convert');\n",
              "        buttonEl.style.display =\n",
              "          google.colab.kernel.accessAllowed ? 'block' : 'none';\n",
              "\n",
              "        async function convertToInteractive(key) {\n",
              "          const element = document.querySelector('#df-c238faad-5510-4f2d-b817-753bd693321e');\n",
              "          const dataTable =\n",
              "            await google.colab.kernel.invokeFunction('convertToInteractive',\n",
              "                                                     [key], {});\n",
              "          if (!dataTable) return;\n",
              "\n",
              "          const docLinkHtml = 'Like what you see? Visit the ' +\n",
              "            '<a target=\"_blank\" href=https://colab.research.google.com/notebooks/data_table.ipynb>data table notebook</a>'\n",
              "            + ' to learn more about interactive tables.';\n",
              "          element.innerHTML = '';\n",
              "          dataTable['output_type'] = 'display_data';\n",
              "          await google.colab.output.renderOutput(dataTable, element);\n",
              "          const docLink = document.createElement('div');\n",
              "          docLink.innerHTML = docLinkHtml;\n",
              "          element.appendChild(docLink);\n",
              "        }\n",
              "      </script>\n",
              "    </div>\n",
              "  </div>\n",
              "  "
            ]
          },
          "metadata": {},
          "execution_count": 16
        }
      ]
    },
    {
      "cell_type": "markdown",
      "metadata": {
        "id": "XwYpeGgDczJb"
      },
      "source": [
        "#### Find how many times did the stock prices end lower than their opening prices in 2019 vs in 2020?\n",
        "\n",
        "Hint: Open - Close per day"
      ]
    },
    {
      "cell_type": "code",
      "metadata": {
        "id": "Wu16Ms8pdGWx",
        "colab": {
          "base_uri": "https://localhost:8080/"
        },
        "outputId": "2c39f255-2151-4e4b-c973-7816a41646b8"
      },
      "source": [
        "df19 = df[(df.date >'2018-12-31')&(df.date<'2020-01-01')]\n",
        "df20 = df[(df.date >'2019-12-31')&(df.date<'2021-01-01')]\n",
        "price_decrease19 = len(df19[df19.open > df19.close])\n",
        "price_decrease20 = len(df20[df20.open > df20.close])\n",
        "price_decrease19, price_decrease20"
      ],
      "execution_count": null,
      "outputs": [
        {
          "output_type": "execute_result",
          "data": {
            "text/plain": [
              "(7087, 6559)"
            ]
          },
          "metadata": {},
          "execution_count": 17
        }
      ]
    },
    {
      "cell_type": "markdown",
      "metadata": {
        "id": "3jdtSFxoPQj6"
      },
      "source": [
        "#### Find the loss percentage of each stock considering open and closing prices of each day\n",
        "\n",
        "**Hint:** `sum(open - close) / len(instances)`"
      ]
    },
    {
      "cell_type": "code",
      "metadata": {
        "id": "1n_FEwirSCA3",
        "colab": {
          "base_uri": "https://localhost:8080/"
        },
        "outputId": "b318896f-93ec-42f3-b18a-189266583be5"
      },
      "source": [
        "# loss percentage for each stocks\n",
        "price_decrease = df[df.open > df.close]\n",
        "for sym in set(price_decrease.tic):\n",
        "  symbol_price_decrease = price_decrease[price_decrease.tic == sym]\n",
        "  loss_pct = sum(symbol_price_decrease['open'] - symbol_price_decrease['close']) / len(symbol_price_decrease)\n",
        "  print(\"symbol is {}, and loss percentage is {}\".format(sym,loss_pct))"
      ],
      "execution_count": null,
      "outputs": [
        {
          "output_type": "stream",
          "name": "stdout",
          "text": [
            "symbol is GODREJCP.NS, and loss percentage is 14.174312758816688\n",
            "symbol is BOSCHLTD.NS, and loss percentage is 710.5262376434949\n",
            "symbol is NAUKRI.NS, and loss percentage is 24.748522416186194\n",
            "symbol is SIEMENS.NS, and loss percentage is 48.96562333776154\n",
            "symbol is ACC.NS, and loss percentage is 129.5457973377679\n",
            "symbol is AUROPHARMA.NS, and loss percentage is 13.356631725200145\n",
            "symbol is PEL.NS, and loss percentage is 92.34460355353923\n",
            "symbol is YESBANK.NS, and loss percentage is 6.992693845600337\n",
            "symbol is COLPAL.NS, and loss percentage is 83.35521215261872\n",
            "symbol is ADANIENT.NS, and loss percentage is 6.651178410594339\n",
            "symbol is DABUR.NS, and loss percentage is 13.61331591590403\n",
            "symbol is HAVELLS.NS, and loss percentage is 13.385423901702517\n",
            "symbol is CADILAHC.NS, and loss percentage is 19.853473963362447\n",
            "symbol is APOLLOHOSP.NS, and loss percentage is 28.30817600230361\n",
            "symbol is BERGEPAINT.NS, and loss percentage is 5.326299010412461\n",
            "symbol is AMBUJACEM.NS, and loss percentage is 26.94897323027205\n",
            "symbol is MARICO.NS, and loss percentage is 15.991618315532692\n",
            "symbol is UBL.NS, and loss percentage is 14.84138929429945\n",
            "symbol is IGL.NS, and loss percentage is 6.438941484552226\n",
            "symbol is PIDILITIND.NS, and loss percentage is 16.71008528977179\n",
            "symbol is HINDPETRO.NS, and loss percentage is 48.46752965599922\n",
            "symbol is MRF.NS, and loss percentage is 515.3864480991556\n",
            "symbol is NMDC.NS, and loss percentage is 66.63559028552129\n",
            "symbol is PETRONET.NS, and loss percentage is 20.983517150523994\n",
            "symbol is VEDL.NS, and loss percentage is 85.10023443882282\n",
            "symbol is GAIL.NS, and loss percentage is 25.506624095787064\n",
            "symbol is BAJAJHLDNG.NS, and loss percentage is 141.89435636004134\n",
            "symbol is ABBOTINDIA.NS, and loss percentage is 177.1705016837131\n",
            "symbol is PGHH.NS, and loss percentage is 517.9040311971788\n",
            "symbol is PNB.NS, and loss percentage is 10.760955589038117\n",
            "symbol is DLF.NS, and loss percentage is 16.74963559595525\n",
            "symbol is MCDOWELL-N.NS, and loss percentage is 7.40433825590002\n",
            "symbol is LUPIN.NS, and loss percentage is 33.51833287515104\n",
            "symbol is BIOCON.NS, and loss percentage is 3.400707359313965\n"
          ]
        }
      ]
    },
    {
      "cell_type": "code",
      "metadata": {
        "id": "daWm8MWt54DB",
        "colab": {
          "base_uri": "https://localhost:8080/"
        },
        "outputId": "7192a8a6-6641-4d67-9a4d-e20f4f53cfca"
      },
      "source": [
        "# loss percentage\n",
        "price_decrease = df[df.open > df.close]\n",
        "print(\"No.of instances of price decrease: {} out of {}\".format(len(price_decrease),len(df)))\n",
        "loss = sum(price_decrease['open'] - price_decrease['close']) / len(price_decrease)\n",
        "loss"
      ],
      "execution_count": null,
      "outputs": [
        {
          "output_type": "stream",
          "name": "stdout",
          "text": [
            "No.of instances of price decrease: 97440 out of 106080\n"
          ]
        },
        {
          "output_type": "execute_result",
          "data": {
            "text/plain": [
              "88.6479468143877"
            ]
          },
          "metadata": {},
          "execution_count": 19
        }
      ]
    },
    {
      "cell_type": "markdown",
      "metadata": {
        "id": "z41le_yHeEO-"
      },
      "source": [
        "#### Find the stock that shows the highest increase in stock price per day, over the entire time period"
      ]
    },
    {
      "cell_type": "code",
      "metadata": {
        "id": "ix_XSZmsfcKP",
        "colab": {
          "base_uri": "https://localhost:8080/",
          "height": 162
        },
        "outputId": "4c657236-d2de-45cf-f701-cf867e3c2300"
      },
      "source": [
        "stock_high = df.copy()\n",
        "stock_high['gain'] = stock_high['close'] - stock_high['open']\n",
        "stock_high[stock_high['gain'] == stock_high['gain'].max()]"
      ],
      "execution_count": null,
      "outputs": [
        {
          "output_type": "execute_result",
          "data": {
            "text/plain": [
              "             date     open     high      low        close  volume     tic  \\\n",
              "71395  2020-03-13  56030.0  66300.0  56030.0  65773.71875   15213  MRF.NS   \n",
              "\n",
              "       day         macd       boll_ub       boll_lb     rsi_30      cci_30  \\\n",
              "71395    4 -1442.700091  73264.633135  61809.596162  47.897532 -159.386392   \n",
              "\n",
              "           dx_30  close_30_sma  close_60_sma        gain  \n",
              "71395  24.589486  68698.707943  67649.677214  9743.71875  "
            ],
            "text/html": [
              "\n",
              "  <div id=\"df-417565f2-c567-4099-a331-65cc93f422cc\">\n",
              "    <div class=\"colab-df-container\">\n",
              "      <div>\n",
              "<style scoped>\n",
              "    .dataframe tbody tr th:only-of-type {\n",
              "        vertical-align: middle;\n",
              "    }\n",
              "\n",
              "    .dataframe tbody tr th {\n",
              "        vertical-align: top;\n",
              "    }\n",
              "\n",
              "    .dataframe thead th {\n",
              "        text-align: right;\n",
              "    }\n",
              "</style>\n",
              "<table border=\"1\" class=\"dataframe\">\n",
              "  <thead>\n",
              "    <tr style=\"text-align: right;\">\n",
              "      <th></th>\n",
              "      <th>date</th>\n",
              "      <th>open</th>\n",
              "      <th>high</th>\n",
              "      <th>low</th>\n",
              "      <th>close</th>\n",
              "      <th>volume</th>\n",
              "      <th>tic</th>\n",
              "      <th>day</th>\n",
              "      <th>macd</th>\n",
              "      <th>boll_ub</th>\n",
              "      <th>boll_lb</th>\n",
              "      <th>rsi_30</th>\n",
              "      <th>cci_30</th>\n",
              "      <th>dx_30</th>\n",
              "      <th>close_30_sma</th>\n",
              "      <th>close_60_sma</th>\n",
              "      <th>gain</th>\n",
              "    </tr>\n",
              "  </thead>\n",
              "  <tbody>\n",
              "    <tr>\n",
              "      <th>71395</th>\n",
              "      <td>2020-03-13</td>\n",
              "      <td>56030.0</td>\n",
              "      <td>66300.0</td>\n",
              "      <td>56030.0</td>\n",
              "      <td>65773.71875</td>\n",
              "      <td>15213</td>\n",
              "      <td>MRF.NS</td>\n",
              "      <td>4</td>\n",
              "      <td>-1442.700091</td>\n",
              "      <td>73264.633135</td>\n",
              "      <td>61809.596162</td>\n",
              "      <td>47.897532</td>\n",
              "      <td>-159.386392</td>\n",
              "      <td>24.589486</td>\n",
              "      <td>68698.707943</td>\n",
              "      <td>67649.677214</td>\n",
              "      <td>9743.71875</td>\n",
              "    </tr>\n",
              "  </tbody>\n",
              "</table>\n",
              "</div>\n",
              "      <button class=\"colab-df-convert\" onclick=\"convertToInteractive('df-417565f2-c567-4099-a331-65cc93f422cc')\"\n",
              "              title=\"Convert this dataframe to an interactive table.\"\n",
              "              style=\"display:none;\">\n",
              "        \n",
              "  <svg xmlns=\"http://www.w3.org/2000/svg\" height=\"24px\"viewBox=\"0 0 24 24\"\n",
              "       width=\"24px\">\n",
              "    <path d=\"M0 0h24v24H0V0z\" fill=\"none\"/>\n",
              "    <path d=\"M18.56 5.44l.94 2.06.94-2.06 2.06-.94-2.06-.94-.94-2.06-.94 2.06-2.06.94zm-11 1L8.5 8.5l.94-2.06 2.06-.94-2.06-.94L8.5 2.5l-.94 2.06-2.06.94zm10 10l.94 2.06.94-2.06 2.06-.94-2.06-.94-.94-2.06-.94 2.06-2.06.94z\"/><path d=\"M17.41 7.96l-1.37-1.37c-.4-.4-.92-.59-1.43-.59-.52 0-1.04.2-1.43.59L10.3 9.45l-7.72 7.72c-.78.78-.78 2.05 0 2.83L4 21.41c.39.39.9.59 1.41.59.51 0 1.02-.2 1.41-.59l7.78-7.78 2.81-2.81c.8-.78.8-2.07 0-2.86zM5.41 20L4 18.59l7.72-7.72 1.47 1.35L5.41 20z\"/>\n",
              "  </svg>\n",
              "      </button>\n",
              "      \n",
              "  <style>\n",
              "    .colab-df-container {\n",
              "      display:flex;\n",
              "      flex-wrap:wrap;\n",
              "      gap: 12px;\n",
              "    }\n",
              "\n",
              "    .colab-df-convert {\n",
              "      background-color: #E8F0FE;\n",
              "      border: none;\n",
              "      border-radius: 50%;\n",
              "      cursor: pointer;\n",
              "      display: none;\n",
              "      fill: #1967D2;\n",
              "      height: 32px;\n",
              "      padding: 0 0 0 0;\n",
              "      width: 32px;\n",
              "    }\n",
              "\n",
              "    .colab-df-convert:hover {\n",
              "      background-color: #E2EBFA;\n",
              "      box-shadow: 0px 1px 2px rgba(60, 64, 67, 0.3), 0px 1px 3px 1px rgba(60, 64, 67, 0.15);\n",
              "      fill: #174EA6;\n",
              "    }\n",
              "\n",
              "    [theme=dark] .colab-df-convert {\n",
              "      background-color: #3B4455;\n",
              "      fill: #D2E3FC;\n",
              "    }\n",
              "\n",
              "    [theme=dark] .colab-df-convert:hover {\n",
              "      background-color: #434B5C;\n",
              "      box-shadow: 0px 1px 3px 1px rgba(0, 0, 0, 0.15);\n",
              "      filter: drop-shadow(0px 1px 2px rgba(0, 0, 0, 0.3));\n",
              "      fill: #FFFFFF;\n",
              "    }\n",
              "  </style>\n",
              "\n",
              "      <script>\n",
              "        const buttonEl =\n",
              "          document.querySelector('#df-417565f2-c567-4099-a331-65cc93f422cc button.colab-df-convert');\n",
              "        buttonEl.style.display =\n",
              "          google.colab.kernel.accessAllowed ? 'block' : 'none';\n",
              "\n",
              "        async function convertToInteractive(key) {\n",
              "          const element = document.querySelector('#df-417565f2-c567-4099-a331-65cc93f422cc');\n",
              "          const dataTable =\n",
              "            await google.colab.kernel.invokeFunction('convertToInteractive',\n",
              "                                                     [key], {});\n",
              "          if (!dataTable) return;\n",
              "\n",
              "          const docLinkHtml = 'Like what you see? Visit the ' +\n",
              "            '<a target=\"_blank\" href=https://colab.research.google.com/notebooks/data_table.ipynb>data table notebook</a>'\n",
              "            + ' to learn more about interactive tables.';\n",
              "          element.innerHTML = '';\n",
              "          dataTable['output_type'] = 'display_data';\n",
              "          await google.colab.output.renderOutput(dataTable, element);\n",
              "          const docLink = document.createElement('div');\n",
              "          docLink.innerHTML = docLinkHtml;\n",
              "          element.appendChild(docLink);\n",
              "        }\n",
              "      </script>\n",
              "    </div>\n",
              "  </div>\n",
              "  "
            ]
          },
          "metadata": {},
          "execution_count": 20
        }
      ]
    },
    {
      "cell_type": "markdown",
      "metadata": {
        "id": "e_AqHFOSA9Q_"
      },
      "source": [
        "#### Top 10 Stocks with high volume"
      ]
    },
    {
      "cell_type": "code",
      "metadata": {
        "id": "158gYCFBfI_d",
        "colab": {
          "base_uri": "https://localhost:8080/",
          "height": 394
        },
        "outputId": "7440f008-4360-4d76-c946-67909e4b4b5e"
      },
      "source": [
        "vol = df[['tic','volume']]\n",
        "vol.groupby('tic').sum('volume').sort_values('volume',ascending=False).head(10)"
      ],
      "execution_count": null,
      "outputs": [
        {
          "output_type": "execute_result",
          "data": {
            "text/plain": [
              "                     volume\n",
              "tic                        \n",
              "YESBANK.NS     135171744926\n",
              "PNB.NS          59090841665\n",
              "VEDL.NS         31912921419\n",
              "DLF.NS          29694736468\n",
              "ADANIENT.NS     28894121574\n",
              "GAIL.NS         24481072156\n",
              "HINDPETRO.NS    18443527816\n",
              "BIOCON.NS       13581412877\n",
              "MCDOWELL-N.NS   11571613695\n",
              "NMDC.NS         11283049561"
            ],
            "text/html": [
              "\n",
              "  <div id=\"df-f884df73-5b3e-4bae-93b1-5d559cb2a3c8\">\n",
              "    <div class=\"colab-df-container\">\n",
              "      <div>\n",
              "<style scoped>\n",
              "    .dataframe tbody tr th:only-of-type {\n",
              "        vertical-align: middle;\n",
              "    }\n",
              "\n",
              "    .dataframe tbody tr th {\n",
              "        vertical-align: top;\n",
              "    }\n",
              "\n",
              "    .dataframe thead th {\n",
              "        text-align: right;\n",
              "    }\n",
              "</style>\n",
              "<table border=\"1\" class=\"dataframe\">\n",
              "  <thead>\n",
              "    <tr style=\"text-align: right;\">\n",
              "      <th></th>\n",
              "      <th>volume</th>\n",
              "    </tr>\n",
              "    <tr>\n",
              "      <th>tic</th>\n",
              "      <th></th>\n",
              "    </tr>\n",
              "  </thead>\n",
              "  <tbody>\n",
              "    <tr>\n",
              "      <th>YESBANK.NS</th>\n",
              "      <td>135171744926</td>\n",
              "    </tr>\n",
              "    <tr>\n",
              "      <th>PNB.NS</th>\n",
              "      <td>59090841665</td>\n",
              "    </tr>\n",
              "    <tr>\n",
              "      <th>VEDL.NS</th>\n",
              "      <td>31912921419</td>\n",
              "    </tr>\n",
              "    <tr>\n",
              "      <th>DLF.NS</th>\n",
              "      <td>29694736468</td>\n",
              "    </tr>\n",
              "    <tr>\n",
              "      <th>ADANIENT.NS</th>\n",
              "      <td>28894121574</td>\n",
              "    </tr>\n",
              "    <tr>\n",
              "      <th>GAIL.NS</th>\n",
              "      <td>24481072156</td>\n",
              "    </tr>\n",
              "    <tr>\n",
              "      <th>HINDPETRO.NS</th>\n",
              "      <td>18443527816</td>\n",
              "    </tr>\n",
              "    <tr>\n",
              "      <th>BIOCON.NS</th>\n",
              "      <td>13581412877</td>\n",
              "    </tr>\n",
              "    <tr>\n",
              "      <th>MCDOWELL-N.NS</th>\n",
              "      <td>11571613695</td>\n",
              "    </tr>\n",
              "    <tr>\n",
              "      <th>NMDC.NS</th>\n",
              "      <td>11283049561</td>\n",
              "    </tr>\n",
              "  </tbody>\n",
              "</table>\n",
              "</div>\n",
              "      <button class=\"colab-df-convert\" onclick=\"convertToInteractive('df-f884df73-5b3e-4bae-93b1-5d559cb2a3c8')\"\n",
              "              title=\"Convert this dataframe to an interactive table.\"\n",
              "              style=\"display:none;\">\n",
              "        \n",
              "  <svg xmlns=\"http://www.w3.org/2000/svg\" height=\"24px\"viewBox=\"0 0 24 24\"\n",
              "       width=\"24px\">\n",
              "    <path d=\"M0 0h24v24H0V0z\" fill=\"none\"/>\n",
              "    <path d=\"M18.56 5.44l.94 2.06.94-2.06 2.06-.94-2.06-.94-.94-2.06-.94 2.06-2.06.94zm-11 1L8.5 8.5l.94-2.06 2.06-.94-2.06-.94L8.5 2.5l-.94 2.06-2.06.94zm10 10l.94 2.06.94-2.06 2.06-.94-2.06-.94-.94-2.06-.94 2.06-2.06.94z\"/><path d=\"M17.41 7.96l-1.37-1.37c-.4-.4-.92-.59-1.43-.59-.52 0-1.04.2-1.43.59L10.3 9.45l-7.72 7.72c-.78.78-.78 2.05 0 2.83L4 21.41c.39.39.9.59 1.41.59.51 0 1.02-.2 1.41-.59l7.78-7.78 2.81-2.81c.8-.78.8-2.07 0-2.86zM5.41 20L4 18.59l7.72-7.72 1.47 1.35L5.41 20z\"/>\n",
              "  </svg>\n",
              "      </button>\n",
              "      \n",
              "  <style>\n",
              "    .colab-df-container {\n",
              "      display:flex;\n",
              "      flex-wrap:wrap;\n",
              "      gap: 12px;\n",
              "    }\n",
              "\n",
              "    .colab-df-convert {\n",
              "      background-color: #E8F0FE;\n",
              "      border: none;\n",
              "      border-radius: 50%;\n",
              "      cursor: pointer;\n",
              "      display: none;\n",
              "      fill: #1967D2;\n",
              "      height: 32px;\n",
              "      padding: 0 0 0 0;\n",
              "      width: 32px;\n",
              "    }\n",
              "\n",
              "    .colab-df-convert:hover {\n",
              "      background-color: #E2EBFA;\n",
              "      box-shadow: 0px 1px 2px rgba(60, 64, 67, 0.3), 0px 1px 3px 1px rgba(60, 64, 67, 0.15);\n",
              "      fill: #174EA6;\n",
              "    }\n",
              "\n",
              "    [theme=dark] .colab-df-convert {\n",
              "      background-color: #3B4455;\n",
              "      fill: #D2E3FC;\n",
              "    }\n",
              "\n",
              "    [theme=dark] .colab-df-convert:hover {\n",
              "      background-color: #434B5C;\n",
              "      box-shadow: 0px 1px 3px 1px rgba(0, 0, 0, 0.15);\n",
              "      filter: drop-shadow(0px 1px 2px rgba(0, 0, 0, 0.3));\n",
              "      fill: #FFFFFF;\n",
              "    }\n",
              "  </style>\n",
              "\n",
              "      <script>\n",
              "        const buttonEl =\n",
              "          document.querySelector('#df-f884df73-5b3e-4bae-93b1-5d559cb2a3c8 button.colab-df-convert');\n",
              "        buttonEl.style.display =\n",
              "          google.colab.kernel.accessAllowed ? 'block' : 'none';\n",
              "\n",
              "        async function convertToInteractive(key) {\n",
              "          const element = document.querySelector('#df-f884df73-5b3e-4bae-93b1-5d559cb2a3c8');\n",
              "          const dataTable =\n",
              "            await google.colab.kernel.invokeFunction('convertToInteractive',\n",
              "                                                     [key], {});\n",
              "          if (!dataTable) return;\n",
              "\n",
              "          const docLinkHtml = 'Like what you see? Visit the ' +\n",
              "            '<a target=\"_blank\" href=https://colab.research.google.com/notebooks/data_table.ipynb>data table notebook</a>'\n",
              "            + ' to learn more about interactive tables.';\n",
              "          element.innerHTML = '';\n",
              "          dataTable['output_type'] = 'display_data';\n",
              "          await google.colab.output.renderOutput(dataTable, element);\n",
              "          const docLink = document.createElement('div');\n",
              "          docLink.innerHTML = docLinkHtml;\n",
              "          element.appendChild(docLink);\n",
              "        }\n",
              "      </script>\n",
              "    </div>\n",
              "  </div>\n",
              "  "
            ]
          },
          "metadata": {},
          "execution_count": 21
        }
      ]
    },
    {
      "cell_type": "markdown",
      "metadata": {
        "id": "EO8jtrc6DO1Z"
      },
      "source": [
        "#### Plot the closing value of stock with highest volume and returns"
      ]
    },
    {
      "cell_type": "code",
      "metadata": {
        "id": "cR00tCreBLOK",
        "colab": {
          "base_uri": "https://localhost:8080/",
          "height": 551
        },
        "outputId": "1552d374-ca1f-48eb-8c93-6613cfc6dc53"
      },
      "source": [
        "%matplotlib inline\n",
        "\n",
        "mrf = df[df.tic ==\"MRF.NS\"]\n",
        "mrf.set_index('date',inplace=True,drop=False)\n",
        "mrf = mrf[\"2021-06-01\":\"2021-08-30\"]\n",
        "plt.figure(figsize=(20,8))\n",
        "plt.plot('date','close',data=mrf)\n",
        "plt.xlabel('Date')\n",
        "plt.ylabel('Close Price')\n",
        "plt.xticks(rotation=45)\n",
        "plt.title(\"MRF stock closing value\")\n",
        "plt.show()"
      ],
      "execution_count": null,
      "outputs": [
        {
          "output_type": "display_data",
          "data": {
            "text/plain": [
              "<Figure size 1440x576 with 1 Axes>"
            ],
            "image/png": "[encoded data removed]"
          },
          "metadata": {
            "needs_background": "light"
          }
        }
      ]
    },
    {
      "cell_type": "markdown",
      "metadata": {
        "id": "hssXCwWDfvD7"
      },
      "source": [
        "#### Daily Returns of the stocks\n",
        "\n",
        "* Apply pct_change() and extract daily returns\n",
        "\n",
        "* Plot the histogram of daily returns\n",
        "\n",
        "* Find the stock with maximum daily return"
      ]
    },
    {
      "cell_type": "code",
      "metadata": {
        "id": "df2T8ijVFTA8",
        "colab": {
          "base_uri": "https://localhost:8080/",
          "height": 282
        },
        "outputId": "5070c00e-626a-4a99-8eda-4b3adb556ec9"
      },
      "source": [
        "df1 = df.copy()\n",
        "df1['Daily Lag'] = df1['close'].shift(1)\n",
        "df1['Daily Returns'] = (df1['Daily Lag']/df1['close']) -1\n",
        "df1['Daily Returns'].hist()"
      ],
      "execution_count": null,
      "outputs": [
        {
          "output_type": "execute_result",
          "data": {
            "text/plain": [
              "<matplotlib.axes._subplots.AxesSubplot at 0x7f8fd5d470d0>"
            ]
          },
          "metadata": {},
          "execution_count": 23
        },
        {
          "output_type": "display_data",
          "data": {
            "text/plain": [
              "<Figure size 432x288 with 1 Axes>"
            ],
            "image/png": "[encoded data removed]"
          },
          "metadata": {
            "needs_background": "light"
          }
        }
      ]
    },
    {
      "cell_type": "code",
      "metadata": {
        "id": "CP3DxK3tF8QN",
        "colab": {
          "base_uri": "https://localhost:8080/",
          "height": 179
        },
        "outputId": "6f8d261a-466d-4dab-d141-a5e8c1377ad5"
      },
      "source": [
        "# Maximum Daily return stock\n",
        "df1[df1['Daily Returns'] == df1['Daily Returns'].max()]"
      ],
      "execution_count": null,
      "outputs": [
        {
          "output_type": "execute_result",
          "data": {
            "text/plain": [
              "             date       open       high   low      close  volume          tic  \\\n",
              "31242  2009-03-06  33.333332  33.333332  31.4  27.275555   23902  CADILAHC.NS   \n",
              "\n",
              "       day      macd    boll_ub    boll_lb     rsi_30      cci_30      dx_30  \\\n",
              "31242    4 -0.370386  31.641444  27.837514  33.577188 -144.922119  39.242887   \n",
              "\n",
              "       close_30_sma  close_60_sma    Daily Lag  Daily Returns  \n",
              "31242     29.395523     29.644299  2735.898926      99.305895  "
            ],
            "text/html": [
              "\n",
              "  <div id=\"df-9ccb02c9-2633-46a4-bab5-b7cff9db408a\">\n",
              "    <div class=\"colab-df-container\">\n",
              "      <div>\n",
              "<style scoped>\n",
              "    .dataframe tbody tr th:only-of-type {\n",
              "        vertical-align: middle;\n",
              "    }\n",
              "\n",
              "    .dataframe tbody tr th {\n",
              "        vertical-align: top;\n",
              "    }\n",
              "\n",
              "    .dataframe thead th {\n",
              "        text-align: right;\n",
              "    }\n",
              "</style>\n",
              "<table border=\"1\" class=\"dataframe\">\n",
              "  <thead>\n",
              "    <tr style=\"text-align: right;\">\n",
              "      <th></th>\n",
              "      <th>date</th>\n",
              "      <th>open</th>\n",
              "      <th>high</th>\n",
              "      <th>low</th>\n",
              "      <th>close</th>\n",
              "      <th>volume</th>\n",
              "      <th>tic</th>\n",
              "      <th>day</th>\n",
              "      <th>macd</th>\n",
              "      <th>boll_ub</th>\n",
              "      <th>boll_lb</th>\n",
              "      <th>rsi_30</th>\n",
              "      <th>cci_30</th>\n",
              "      <th>dx_30</th>\n",
              "      <th>close_30_sma</th>\n",
              "      <th>close_60_sma</th>\n",
              "      <th>Daily Lag</th>\n",
              "      <th>Daily Returns</th>\n",
              "    </tr>\n",
              "  </thead>\n",
              "  <tbody>\n",
              "    <tr>\n",
              "      <th>31242</th>\n",
              "      <td>2009-03-06</td>\n",
              "      <td>33.333332</td>\n",
              "      <td>33.333332</td>\n",
              "      <td>31.4</td>\n",
              "      <td>27.275555</td>\n",
              "      <td>23902</td>\n",
              "      <td>CADILAHC.NS</td>\n",
              "      <td>4</td>\n",
              "      <td>-0.370386</td>\n",
              "      <td>31.641444</td>\n",
              "      <td>27.837514</td>\n",
              "      <td>33.577188</td>\n",
              "      <td>-144.922119</td>\n",
              "      <td>39.242887</td>\n",
              "      <td>29.395523</td>\n",
              "      <td>29.644299</td>\n",
              "      <td>2735.898926</td>\n",
              "      <td>99.305895</td>\n",
              "    </tr>\n",
              "  </tbody>\n",
              "</table>\n",
              "</div>\n",
              "      <button class=\"colab-df-convert\" onclick=\"convertToInteractive('df-9ccb02c9-2633-46a4-bab5-b7cff9db408a')\"\n",
              "              title=\"Convert this dataframe to an interactive table.\"\n",
              "              style=\"display:none;\">\n",
              "        \n",
              "  <svg xmlns=\"http://www.w3.org/2000/svg\" height=\"24px\"viewBox=\"0 0 24 24\"\n",
              "       width=\"24px\">\n",
              "    <path d=\"M0 0h24v24H0V0z\" fill=\"none\"/>\n",
              "    <path d=\"M18.56 5.44l.94 2.06.94-2.06 2.06-.94-2.06-.94-.94-2.06-.94 2.06-2.06.94zm-11 1L8.5 8.5l.94-2.06 2.06-.94-2.06-.94L8.5 2.5l-.94 2.06-2.06.94zm10 10l.94 2.06.94-2.06 2.06-.94-2.06-.94-.94-2.06-.94 2.06-2.06.94z\"/><path d=\"M17.41 7.96l-1.37-1.37c-.4-.4-.92-.59-1.43-.59-.52 0-1.04.2-1.43.59L10.3 9.45l-7.72 7.72c-.78.78-.78 2.05 0 2.83L4 21.41c.39.39.9.59 1.41.59.51 0 1.02-.2 1.41-.59l7.78-7.78 2.81-2.81c.8-.78.8-2.07 0-2.86zM5.41 20L4 18.59l7.72-7.72 1.47 1.35L5.41 20z\"/>\n",
              "  </svg>\n",
              "      </button>\n",
              "      \n",
              "  <style>\n",
              "    .colab-df-container {\n",
              "      display:flex;\n",
              "      flex-wrap:wrap;\n",
              "      gap: 12px;\n",
              "    }\n",
              "\n",
              "    .colab-df-convert {\n",
              "      background-color: #E8F0FE;\n",
              "      border: none;\n",
              "      border-radius: 50%;\n",
              "      cursor: pointer;\n",
              "      display: none;\n",
              "      fill: #1967D2;\n",
              "      height: 32px;\n",
              "      padding: 0 0 0 0;\n",
              "      width: 32px;\n",
              "    }\n",
              "\n",
              "    .colab-df-convert:hover {\n",
              "      background-color: #E2EBFA;\n",
              "      box-shadow: 0px 1px 2px rgba(60, 64, 67, 0.3), 0px 1px 3px 1px rgba(60, 64, 67, 0.15);\n",
              "      fill: #174EA6;\n",
              "    }\n",
              "\n",
              "    [theme=dark] .colab-df-convert {\n",
              "      background-color: #3B4455;\n",
              "      fill: #D2E3FC;\n",
              "    }\n",
              "\n",
              "    [theme=dark] .colab-df-convert:hover {\n",
              "      background-color: #434B5C;\n",
              "      box-shadow: 0px 1px 3px 1px rgba(0, 0, 0, 0.15);\n",
              "      filter: drop-shadow(0px 1px 2px rgba(0, 0, 0, 0.3));\n",
              "      fill: #FFFFFF;\n",
              "    }\n",
              "  </style>\n",
              "\n",
              "      <script>\n",
              "        const buttonEl =\n",
              "          document.querySelector('#df-9ccb02c9-2633-46a4-bab5-b7cff9db408a button.colab-df-convert');\n",
              "        buttonEl.style.display =\n",
              "          google.colab.kernel.accessAllowed ? 'block' : 'none';\n",
              "\n",
              "        async function convertToInteractive(key) {\n",
              "          const element = document.querySelector('#df-9ccb02c9-2633-46a4-bab5-b7cff9db408a');\n",
              "          const dataTable =\n",
              "            await google.colab.kernel.invokeFunction('convertToInteractive',\n",
              "                                                     [key], {});\n",
              "          if (!dataTable) return;\n",
              "\n",
              "          const docLinkHtml = 'Like what you see? Visit the ' +\n",
              "            '<a target=\"_blank\" href=https://colab.research.google.com/notebooks/data_table.ipynb>data table notebook</a>'\n",
              "            + ' to learn more about interactive tables.';\n",
              "          element.innerHTML = '';\n",
              "          dataTable['output_type'] = 'display_data';\n",
              "          await google.colab.output.renderOutput(dataTable, element);\n",
              "          const docLink = document.createElement('div');\n",
              "          docLink.innerHTML = docLinkHtml;\n",
              "          element.appendChild(docLink);\n",
              "        }\n",
              "      </script>\n",
              "    </div>\n",
              "  </div>\n",
              "  "
            ]
          },
          "metadata": {},
          "execution_count": 24
        }
      ]
    },
    {
      "cell_type": "markdown",
      "metadata": {
        "id": "Z3V03Mkja8CX"
      },
      "source": [
        "### Train & Trade Data Split\n",
        "\n",
        "In real life trading, the model needs to be updated periodically using rolling windows. Here, we just slice the data once into train and trade set."
      ]
    },
    {
      "cell_type": "code",
      "metadata": {
        "id": "rksm1NoA7A0N",
        "colab": {
          "base_uri": "https://localhost:8080/"
        },
        "outputId": "e176b030-aef5-411f-c1fb-589a58df20c7"
      },
      "source": [
        "# Train and trade data\n",
        "train = data_split(df, start = '2009-01-02', end = '2021-01-01')\n",
        "trade = data_split(df, start = '2021-01-01', end = '2021-09-01')\n",
        "# Check the length of the two datasets\n",
        "print(len(train))\n",
        "print(len(trade))"
      ],
      "execution_count": null,
      "outputs": [
        {
          "output_type": "stream",
          "name": "stdout",
          "text": [
            "100504\n",
            "5576\n"
          ]
        }
      ]
    },
    {
      "cell_type": "code",
      "metadata": {
        "id": "TLKV8BryBWjm",
        "colab": {
          "base_uri": "https://localhost:8080/"
        },
        "outputId": "f4df3896-af8f-4903-84ae-8c6b101bd8c9"
      },
      "source": [
        "train.close.max(), train.close.min()"
      ],
      "execution_count": null,
      "outputs": [
        {
          "output_type": "execute_result",
          "data": {
            "text/plain": [
              "(80463.6640625, 7.416604042053223)"
            ]
          },
          "metadata": {},
          "execution_count": 26
        }
      ]
    },
    {
      "cell_type": "markdown",
      "metadata": {
        "id": "SZqfu4aHa-2r"
      },
      "source": [
        "### Build Environment\n",
        "\n",
        "* stock_dim: (int) number of unique stocks\n",
        "\n",
        "* hmax : (int) maximum number of shares to trade\n",
        "\n",
        "* initial_amount: (int) start money\n",
        "\n",
        "* transaction_cost_pct : (float) transaction cost percentage per trade\n",
        "\n",
        "* reward_scaling: (float) scaling factor for reward, good for training\n",
        "\n",
        "* tech_indicator_list: (list) a list of technical indicator names (modified from config.py)"
      ]
    },
    {
      "cell_type": "code",
      "source": [
        "# Compute State Space and Action Space\n",
        "stock_dimension = len(train.tic.unique())\n",
        "state_space = 1 + 2*stock_dimension + len(config.INDICATORS)*stock_dimension\n",
        "print(f\"Stock Dimension: {stock_dimension}, State Space: {state_space}\")"
      ],
      "metadata": {
        "colab": {
          "base_uri": "https://localhost:8080/"
        },
        "id": "QmLRZrgq8MYF",
        "outputId": "3a6ab2e2-66ce-46ea-8278-b95c61d21664"
      },
      "execution_count": null,
      "outputs": [
        {
          "output_type": "stream",
          "name": "stdout",
          "text": [
            "Stock Dimension: 34, State Space: 341\n"
          ]
        }
      ]
    },
    {
      "cell_type": "code",
      "source": [
        "buy_cost_list = [0.001] * stock_dimension\n",
        "sell_cost_list = [0.001] * stock_dimension\n",
        "num_stock_shares = [0] * stock_dimension\n",
        "\n",
        "# Initialize an environment class\n",
        "env_kwargs = {\n",
        "    \"hmax\": 50,                                                # max number of share purchases allowed per asset\n",
        "    \"initial_amount\": 189628060,                                  # amount of cash initially available\n",
        "    \"buy_cost_pct\": buy_cost_list,                                      # cost for buying shares\n",
        "    \"sell_cost_pct\": sell_cost_list,                                     # cost for selling shares\n",
        "    \"state_space\": state_space,                                 # contains all of the environment’s data to be observed by the agent\n",
        "    \"stock_dim\": stock_dimension,\n",
        "    \"num_stock_shares\": num_stock_shares,\n",
        "    \"tech_indicator_list\": config.INDICATORS,\n",
        "    \"action_space\": stock_dimension,                            # contain all of the actions possible for an agent to take in the environment\n",
        "    \"reward_scaling\": 1e-4 }                                    # scaling value to multiply reward by at each step\n",
        "\n",
        "e_train_gym = StockTradingEnv(df = train, **env_kwargs)\n",
        "env_train, _ = e_train_gym.get_sb_env()\n",
        "print(type(env_train))"
      ],
      "metadata": {
        "colab": {
          "base_uri": "https://localhost:8080/"
        },
        "id": "q36n2yQE8NTc",
        "outputId": "62e3a981-8da8-456a-cb96-5ea6eea5f787"
      },
      "execution_count": null,
      "outputs": [
        {
          "output_type": "stream",
          "name": "stdout",
          "text": [
            "<class 'stable_baselines3.common.vec_env.dummy_vec_env.DummyVecEnv'>\n"
          ]
        }
      ]
    },
    {
      "cell_type": "markdown",
      "metadata": {
        "id": "qgRy5e8GbU29"
      },
      "source": [
        "### Implement DRL Algorithms"
      ]
    },
    {
      "cell_type": "markdown",
      "metadata": {
        "id": "6PJL1adBf2qG"
      },
      "source": [
        "Use Soft Actor-Critic (SAC) for stock trading, it is one of the most recent state-of-art algorithms. SAC is featured by its stability.\n",
        "\n",
        "* Define the SAC parameters and train the SAC model\n",
        "* Optimize the parameters to improve the reward"
      ]
    },
    {
      "cell_type": "code",
      "metadata": {
        "id": "9clEHa4WN-33",
        "colab": {
          "base_uri": "https://localhost:8080/"
        },
        "outputId": "be5d69fa-ab9c-43fe-ba34-0efd8831daad"
      },
      "source": [
        "# Train SAC Model\n",
        "agent = DRLAgent(env = env_train)\n",
        "SAC_PARAMS = {\n",
        "    \"batch_size\": 128,\n",
        "    \"buffer_size\": 100,\n",
        "    \"learning_rate\": 0.001,\n",
        "    \"learning_starts\": 200,\n",
        "    \"ent_coef\": \"auto_0.1\"\n",
        "}\n",
        "model_sac = agent.get_model(\"sac\",model_kwargs = SAC_PARAMS)\n",
        "trained_sac = agent.train_model(model=model_sac,\n",
        "                             tb_log_name='sac',\n",
        "                             total_timesteps=30000)"
      ],
      "execution_count": null,
      "outputs": [
        {
          "output_type": "stream",
          "name": "stdout",
          "text": [
            "{'batch_size': 128, 'buffer_size': 100, 'learning_rate': 0.001, 'learning_starts': 200, 'ent_coef': 'auto_0.1'}\n",
            "Using cuda device\n",
            "-----------------------------------\n",
            "| time/              |            |\n",
            "|    episodes        | 4          |\n",
            "|    fps             | 31         |\n",
            "|    time_elapsed    | 380        |\n",
            "|    total_timesteps | 11824      |\n",
            "| train/             |            |\n",
            "|    actor_loss      | 2.26e+07   |\n",
            "|    critic_loss     | 2.9e+09    |\n",
            "|    ent_coef        | 7.42e+03   |\n",
            "|    ent_coef_loss   | -3.85e+03  |\n",
            "|    learning_rate   | 0.001      |\n",
            "|    n_updates       | 11623      |\n",
            "|    reward          | -2551.1028 |\n",
            "-----------------------------------\n",
            "-----------------------------------\n",
            "| time/              |            |\n",
            "|    episodes        | 8          |\n",
            "|    fps             | 31         |\n",
            "|    time_elapsed    | 756        |\n",
            "|    total_timesteps | 23648      |\n",
            "| train/             |            |\n",
            "|    actor_loss      | 2.3e+12    |\n",
            "|    critic_loss     | 3.62e+23   |\n",
            "|    ent_coef        | 1.01e+09   |\n",
            "|    ent_coef_loss   | -8.95e+03  |\n",
            "|    learning_rate   | 0.001      |\n",
            "|    n_updates       | 23447      |\n",
            "|    reward          | -2551.1028 |\n",
            "-----------------------------------\n",
            "day: 2955, episode: 10\n",
            "begin_total_asset: 189628060.00\n",
            "end_total_asset: 2149727895.51\n",
            "total_reward: 1960099835.51\n",
            "total_cost: 189438.62\n",
            "total_trades: 55698\n",
            "Sharpe: 1.009\n",
            "=================================\n"
          ]
        }
      ]
    },
    {
      "cell_type": "markdown",
      "metadata": {
        "id": "LAGZa-TQf7WY"
      },
      "source": [
        "### Trading\n",
        "* Build the Environment for trading\n",
        "* Use the trained SAC model to trade"
      ]
    },
    {
      "cell_type": "code",
      "metadata": {
        "id": "IhIUv5oN8IqN",
        "colab": {
          "base_uri": "https://localhost:8080/",
          "height": 357
        },
        "outputId": "0f1fa6dd-5f24-46f4-edd0-de21d87d7075"
      },
      "source": [
        "# Trade data\n",
        "trade.head()"
      ],
      "execution_count": null,
      "outputs": [
        {
          "output_type": "execute_result",
          "data": {
            "text/plain": [
              "         date          open          high           low         close  \\\n",
              "0  2021-01-01  15800.000000  15856.299805  15698.000000  15606.412109   \n",
              "0  2021-01-01   1617.199951   1632.000000   1615.650024   1613.873291   \n",
              "0  2021-01-01    477.000000    493.250000    477.000000    490.824188   \n",
              "0  2021-01-01    249.000000    251.699997    248.149994    244.750854   \n",
              "0  2021-01-01   2405.500000   2430.000000   2395.000000   2413.377686   \n",
              "\n",
              "    volume            tic  day       macd       boll_ub       boll_lb  \\\n",
              "0    22888  ABBOTINDIA.NS    4  37.079085  16364.910448  14937.749220   \n",
              "0   647892         ACC.NS    4  -9.297671   1676.205921   1553.247839   \n",
              "0  5035248    ADANIENT.NS    4  22.135240    496.379506    428.706440   \n",
              "0  4011077   AMBUJACEM.NS    4  -0.681007    252.358347    230.547732   \n",
              "0   423934  APOLLOHOSP.NS    4  29.018185   2461.212885   2334.596343   \n",
              "\n",
              "      rsi_30      cci_30      dx_30  close_30_sma  close_60_sma  \n",
              "0  50.170534   25.483500   1.959178  15493.354525  15514.264209  \n",
              "0  51.721860  -50.304190   8.051946   1640.422221   1624.980046  \n",
              "0  69.721737  119.165293   1.443532    445.374368    390.680674  \n",
              "0  54.254256  -15.358582  10.496427    245.290738    240.588246  \n",
              "0  58.366024   47.958441   1.738280   2381.310588   2272.389537  "
            ],
            "text/html": [
              "\n",
              "  <div id=\"df-0c059c6f-03d7-4f9d-92a2-d61be731f71f\">\n",
              "    <div class=\"colab-df-container\">\n",
              "      <div>\n",
              "<style scoped>\n",
              "    .dataframe tbody tr th:only-of-type {\n",
              "        vertical-align: middle;\n",
              "    }\n",
              "\n",
              "    .dataframe tbody tr th {\n",
              "        vertical-align: top;\n",
              "    }\n",
              "\n",
              "    .dataframe thead th {\n",
              "        text-align: right;\n",
              "    }\n",
              "</style>\n",
              "<table border=\"1\" class=\"dataframe\">\n",
              "  <thead>\n",
              "    <tr style=\"text-align: right;\">\n",
              "      <th></th>\n",
              "      <th>date</th>\n",
              "      <th>open</th>\n",
              "      <th>high</th>\n",
              "      <th>low</th>\n",
              "      <th>close</th>\n",
              "      <th>volume</th>\n",
              "      <th>tic</th>\n",
              "      <th>day</th>\n",
              "      <th>macd</th>\n",
              "      <th>boll_ub</th>\n",
              "      <th>boll_lb</th>\n",
              "      <th>rsi_30</th>\n",
              "      <th>cci_30</th>\n",
              "      <th>dx_30</th>\n",
              "      <th>close_30_sma</th>\n",
              "      <th>close_60_sma</th>\n",
              "    </tr>\n",
              "  </thead>\n",
              "  <tbody>\n",
              "    <tr>\n",
              "      <th>0</th>\n",
              "      <td>2021-01-01</td>\n",
              "      <td>15800.000000</td>\n",
              "      <td>15856.299805</td>\n",
              "      <td>15698.000000</td>\n",
              "      <td>15606.412109</td>\n",
              "      <td>22888</td>\n",
              "      <td>ABBOTINDIA.NS</td>\n",
              "      <td>4</td>\n",
              "      <td>37.079085</td>\n",
              "      <td>16364.910448</td>\n",
              "      <td>14937.749220</td>\n",
              "      <td>50.170534</td>\n",
              "      <td>25.483500</td>\n",
              "      <td>1.959178</td>\n",
              "      <td>15493.354525</td>\n",
              "      <td>15514.264209</td>\n",
              "    </tr>\n",
              "    <tr>\n",
              "      <th>0</th>\n",
              "      <td>2021-01-01</td>\n",
              "      <td>1617.199951</td>\n",
              "      <td>1632.000000</td>\n",
              "      <td>1615.650024</td>\n",
              "      <td>1613.873291</td>\n",
              "      <td>647892</td>\n",
              "      <td>ACC.NS</td>\n",
              "      <td>4</td>\n",
              "      <td>-9.297671</td>\n",
              "      <td>1676.205921</td>\n",
              "      <td>1553.247839</td>\n",
              "      <td>51.721860</td>\n",
              "      <td>-50.304190</td>\n",
              "      <td>8.051946</td>\n",
              "      <td>1640.422221</td>\n",
              "      <td>1624.980046</td>\n",
              "    </tr>\n",
              "    <tr>\n",
              "      <th>0</th>\n",
              "      <td>2021-01-01</td>\n",
              "      <td>477.000000</td>\n",
              "      <td>493.250000</td>\n",
              "      <td>477.000000</td>\n",
              "      <td>490.824188</td>\n",
              "      <td>5035248</td>\n",
              "      <td>ADANIENT.NS</td>\n",
              "      <td>4</td>\n",
              "      <td>22.135240</td>\n",
              "      <td>496.379506</td>\n",
              "      <td>428.706440</td>\n",
              "      <td>69.721737</td>\n",
              "      <td>119.165293</td>\n",
              "      <td>1.443532</td>\n",
              "      <td>445.374368</td>\n",
              "      <td>390.680674</td>\n",
              "    </tr>\n",
              "    <tr>\n",
              "      <th>0</th>\n",
              "      <td>2021-01-01</td>\n",
              "      <td>249.000000</td>\n",
              "      <td>251.699997</td>\n",
              "      <td>248.149994</td>\n",
              "      <td>244.750854</td>\n",
              "      <td>4011077</td>\n",
              "      <td>AMBUJACEM.NS</td>\n",
              "      <td>4</td>\n",
              "      <td>-0.681007</td>\n",
              "      <td>252.358347</td>\n",
              "      <td>230.547732</td>\n",
              "      <td>54.254256</td>\n",
              "      <td>-15.358582</td>\n",
              "      <td>10.496427</td>\n",
              "      <td>245.290738</td>\n",
              "      <td>240.588246</td>\n",
              "    </tr>\n",
              "    <tr>\n",
              "      <th>0</th>\n",
              "      <td>2021-01-01</td>\n",
              "      <td>2405.500000</td>\n",
              "      <td>2430.000000</td>\n",
              "      <td>2395.000000</td>\n",
              "      <td>2413.377686</td>\n",
              "      <td>423934</td>\n",
              "      <td>APOLLOHOSP.NS</td>\n",
              "      <td>4</td>\n",
              "      <td>29.018185</td>\n",
              "      <td>2461.212885</td>\n",
              "      <td>2334.596343</td>\n",
              "      <td>58.366024</td>\n",
              "      <td>47.958441</td>\n",
              "      <td>1.738280</td>\n",
              "      <td>2381.310588</td>\n",
              "      <td>2272.389537</td>\n",
              "    </tr>\n",
              "  </tbody>\n",
              "</table>\n",
              "</div>\n",
              "      <button class=\"colab-df-convert\" onclick=\"convertToInteractive('df-0c059c6f-03d7-4f9d-92a2-d61be731f71f')\"\n",
              "              title=\"Convert this dataframe to an interactive table.\"\n",
              "              style=\"display:none;\">\n",
              "        \n",
              "  <svg xmlns=\"http://www.w3.org/2000/svg\" height=\"24px\"viewBox=\"0 0 24 24\"\n",
              "       width=\"24px\">\n",
              "    <path d=\"M0 0h24v24H0V0z\" fill=\"none\"/>\n",
              "    <path d=\"M18.56 5.44l.94 2.06.94-2.06 2.06-.94-2.06-.94-.94-2.06-.94 2.06-2.06.94zm-11 1L8.5 8.5l.94-2.06 2.06-.94-2.06-.94L8.5 2.5l-.94 2.06-2.06.94zm10 10l.94 2.06.94-2.06 2.06-.94-2.06-.94-.94-2.06-.94 2.06-2.06.94z\"/><path d=\"M17.41 7.96l-1.37-1.37c-.4-.4-.92-.59-1.43-.59-.52 0-1.04.2-1.43.59L10.3 9.45l-7.72 7.72c-.78.78-.78 2.05 0 2.83L4 21.41c.39.39.9.59 1.41.59.51 0 1.02-.2 1.41-.59l7.78-7.78 2.81-2.81c.8-.78.8-2.07 0-2.86zM5.41 20L4 18.59l7.72-7.72 1.47 1.35L5.41 20z\"/>\n",
              "  </svg>\n",
              "      </button>\n",
              "      \n",
              "  <style>\n",
              "    .colab-df-container {\n",
              "      display:flex;\n",
              "      flex-wrap:wrap;\n",
              "      gap: 12px;\n",
              "    }\n",
              "\n",
              "    .colab-df-convert {\n",
              "      background-color: #E8F0FE;\n",
              "      border: none;\n",
              "      border-radius: 50%;\n",
              "      cursor: pointer;\n",
              "      display: none;\n",
              "      fill: #1967D2;\n",
              "      height: 32px;\n",
              "      padding: 0 0 0 0;\n",
              "      width: 32px;\n",
              "    }\n",
              "\n",
              "    .colab-df-convert:hover {\n",
              "      background-color: #E2EBFA;\n",
              "      box-shadow: 0px 1px 2px rgba(60, 64, 67, 0.3), 0px 1px 3px 1px rgba(60, 64, 67, 0.15);\n",
              "      fill: #174EA6;\n",
              "    }\n",
              "\n",
              "    [theme=dark] .colab-df-convert {\n",
              "      background-color: #3B4455;\n",
              "      fill: #D2E3FC;\n",
              "    }\n",
              "\n",
              "    [theme=dark] .colab-df-convert:hover {\n",
              "      background-color: #434B5C;\n",
              "      box-shadow: 0px 1px 3px 1px rgba(0, 0, 0, 0.15);\n",
              "      filter: drop-shadow(0px 1px 2px rgba(0, 0, 0, 0.3));\n",
              "      fill: #FFFFFF;\n",
              "    }\n",
              "  </style>\n",
              "\n",
              "      <script>\n",
              "        const buttonEl =\n",
              "          document.querySelector('#df-0c059c6f-03d7-4f9d-92a2-d61be731f71f button.colab-df-convert');\n",
              "        buttonEl.style.display =\n",
              "          google.colab.kernel.accessAllowed ? 'block' : 'none';\n",
              "\n",
              "        async function convertToInteractive(key) {\n",
              "          const element = document.querySelector('#df-0c059c6f-03d7-4f9d-92a2-d61be731f71f');\n",
              "          const dataTable =\n",
              "            await google.colab.kernel.invokeFunction('convertToInteractive',\n",
              "                                                     [key], {});\n",
              "          if (!dataTable) return;\n",
              "\n",
              "          const docLinkHtml = 'Like what you see? Visit the ' +\n",
              "            '<a target=\"_blank\" href=https://colab.research.google.com/notebooks/data_table.ipynb>data table notebook</a>'\n",
              "            + ' to learn more about interactive tables.';\n",
              "          element.innerHTML = '';\n",
              "          dataTable['output_type'] = 'display_data';\n",
              "          await google.colab.output.renderOutput(dataTable, element);\n",
              "          const docLink = document.createElement('div');\n",
              "          docLink.innerHTML = docLinkHtml;\n",
              "          element.appendChild(docLink);\n",
              "        }\n",
              "      </script>\n",
              "    </div>\n",
              "  </div>\n",
              "  "
            ]
          },
          "metadata": {},
          "execution_count": 30
        }
      ]
    },
    {
      "cell_type": "code",
      "metadata": {
        "id": "5FWQ49dw8InU",
        "colab": {
          "base_uri": "https://localhost:8080/"
        },
        "outputId": "4d573e5e-3b11-438a-d75e-debd66e84710"
      },
      "source": [
        "# Create trading env\n",
        "e_trade_gym = StockTradingEnv(df = trade, **env_kwargs)\n",
        "\n",
        "# Make prediction and get the account value change\n",
        "df_account_value, df_actions = DRLAgent.DRL_prediction(model = trained_sac, environment = e_trade_gym)"
      ],
      "execution_count": null,
      "outputs": [
        {
          "output_type": "stream",
          "name": "stdout",
          "text": [
            "hit end!\n"
          ]
        }
      ]
    },
    {
      "cell_type": "code",
      "metadata": {
        "id": "cv67F511PrH2",
        "colab": {
          "base_uri": "https://localhost:8080/",
          "height": 357
        },
        "outputId": "909e2729-6859-4a9d-ec71-01a5bbdac409"
      },
      "source": [
        "df_account_value.head()"
      ],
      "execution_count": null,
      "outputs": [
        {
          "output_type": "execute_result",
          "data": {
            "text/plain": [
              "         date  account_value\n",
              "0  2021-01-01   1.896281e+08\n",
              "1  2021-01-04   1.897525e+08\n",
              "2  2021-01-05   1.898892e+08\n",
              "3  2021-01-06   1.897993e+08\n",
              "4  2021-01-07   1.895531e+08"
            ],
            "text/html": [
              "\n",
              "  <div id=\"df-0b2928dc-b753-44e0-9309-0eadb8018564\">\n",
              "    <div class=\"colab-df-container\">\n",
              "      <div>\n",
              "<style scoped>\n",
              "    .dataframe tbody tr th:only-of-type {\n",
              "        vertical-align: middle;\n",
              "    }\n",
              "\n",
              "    .dataframe tbody tr th {\n",
              "        vertical-align: top;\n",
              "    }\n",
              "\n",
              "    .dataframe thead th {\n",
              "        text-align: right;\n",
              "    }\n",
              "</style>\n",
              "<table border=\"1\" class=\"dataframe\">\n",
              "  <thead>\n",
              "    <tr style=\"text-align: right;\">\n",
              "      <th></th>\n",
              "      <th>date</th>\n",
              "      <th>account_value</th>\n",
              "    </tr>\n",
              "  </thead>\n",
              "  <tbody>\n",
              "    <tr>\n",
              "      <th>0</th>\n",
              "      <td>2021-01-01</td>\n",
              "      <td>1.896281e+08</td>\n",
              "    </tr>\n",
              "    <tr>\n",
              "      <th>1</th>\n",
              "      <td>2021-01-04</td>\n",
              "      <td>1.897525e+08</td>\n",
              "    </tr>\n",
              "    <tr>\n",
              "      <th>2</th>\n",
              "      <td>2021-01-05</td>\n",
              "      <td>1.898892e+08</td>\n",
              "    </tr>\n",
              "    <tr>\n",
              "      <th>3</th>\n",
              "      <td>2021-01-06</td>\n",
              "      <td>1.897993e+08</td>\n",
              "    </tr>\n",
              "    <tr>\n",
              "      <th>4</th>\n",
              "      <td>2021-01-07</td>\n",
              "      <td>1.895531e+08</td>\n",
              "    </tr>\n",
              "  </tbody>\n",
              "</table>\n",
              "</div>\n",
              "      <button class=\"colab-df-convert\" onclick=\"convertToInteractive('df-0b2928dc-b753-44e0-9309-0eadb8018564')\"\n",
              "              title=\"Convert this dataframe to an interactive table.\"\n",
              "              style=\"display:none;\">\n",
              "        \n",
              "  <svg xmlns=\"http://www.w3.org/2000/svg\" height=\"24px\"viewBox=\"0 0 24 24\"\n",
              "       width=\"24px\">\n",
              "    <path d=\"M0 0h24v24H0V0z\" fill=\"none\"/>\n",
              "    <path d=\"M18.56 5.44l.94 2.06.94-2.06 2.06-.94-2.06-.94-.94-2.06-.94 2.06-2.06.94zm-11 1L8.5 8.5l.94-2.06 2.06-.94-2.06-.94L8.5 2.5l-.94 2.06-2.06.94zm10 10l.94 2.06.94-2.06 2.06-.94-2.06-.94-.94-2.06-.94 2.06-2.06.94z\"/><path d=\"M17.41 7.96l-1.37-1.37c-.4-.4-.92-.59-1.43-.59-.52 0-1.04.2-1.43.59L10.3 9.45l-7.72 7.72c-.78.78-.78 2.05 0 2.83L4 21.41c.39.39.9.59 1.41.59.51 0 1.02-.2 1.41-.59l7.78-7.78 2.81-2.81c.8-.78.8-2.07 0-2.86zM5.41 20L4 18.59l7.72-7.72 1.47 1.35L5.41 20z\"/>\n",
              "  </svg>\n",
              "      </button>\n",
              "      \n",
              "  <style>\n",
              "    .colab-df-container {\n",
              "      display:flex;\n",
              "      flex-wrap:wrap;\n",
              "      gap: 12px;\n",
              "    }\n",
              "\n",
              "    .colab-df-convert {\n",
              "      background-color: #E8F0FE;\n",
              "      border: none;\n",
              "      border-radius: 50%;\n",
              "      cursor: pointer;\n",
              "      display: none;\n",
              "      fill: #1967D2;\n",
              "      height: 32px;\n",
              "      padding: 0 0 0 0;\n",
              "      width: 32px;\n",
              "    }\n",
              "\n",
              "    .colab-df-convert:hover {\n",
              "      background-color: #E2EBFA;\n",
              "      box-shadow: 0px 1px 2px rgba(60, 64, 67, 0.3), 0px 1px 3px 1px rgba(60, 64, 67, 0.15);\n",
              "      fill: #174EA6;\n",
              "    }\n",
              "\n",
              "    [theme=dark] .colab-df-convert {\n",
              "      background-color: #3B4455;\n",
              "      fill: #D2E3FC;\n",
              "    }\n",
              "\n",
              "    [theme=dark] .colab-df-convert:hover {\n",
              "      background-color: #434B5C;\n",
              "      box-shadow: 0px 1px 3px 1px rgba(0, 0, 0, 0.15);\n",
              "      filter: drop-shadow(0px 1px 2px rgba(0, 0, 0, 0.3));\n",
              "      fill: #FFFFFF;\n",
              "    }\n",
              "  </style>\n",
              "\n",
              "      <script>\n",
              "        const buttonEl =\n",
              "          document.querySelector('#df-0b2928dc-b753-44e0-9309-0eadb8018564 button.colab-df-convert');\n",
              "        buttonEl.style.display =\n",
              "          google.colab.kernel.accessAllowed ? 'block' : 'none';\n",
              "\n",
              "        async function convertToInteractive(key) {\n",
              "          const element = document.querySelector('#df-0b2928dc-b753-44e0-9309-0eadb8018564');\n",
              "          const dataTable =\n",
              "            await google.colab.kernel.invokeFunction('convertToInteractive',\n",
              "                                                     [key], {});\n",
              "          if (!dataTable) return;\n",
              "\n",
              "          const docLinkHtml = 'Like what you see? Visit the ' +\n",
              "            '<a target=\"_blank\" href=https://colab.research.google.com/notebooks/data_table.ipynb>data table notebook</a>'\n",
              "            + ' to learn more about interactive tables.';\n",
              "          element.innerHTML = '';\n",
              "          dataTable['output_type'] = 'display_data';\n",
              "          await google.colab.output.renderOutput(dataTable, element);\n",
              "          const docLink = document.createElement('div');\n",
              "          docLink.innerHTML = docLinkHtml;\n",
              "          element.appendChild(docLink);\n",
              "        }\n",
              "      </script>\n",
              "    </div>\n",
              "  </div>\n",
              "  "
            ]
          },
          "metadata": {},
          "execution_count": 32
        }
      ]
    },
    {
      "cell_type": "markdown",
      "metadata": {
        "id": "iZmp-UQlbt0j"
      },
      "source": [
        "### Backtesting Performance\n",
        "\n",
        "Backtesting plays a key role in evaluating the performance of a trading strategy. Backtesting assesses the viability of a trading strategy by discovering how it would perform on historical data. If backtesting works, traders and analysts may have increased confidence to employ it going forward.Automated backtesting tool is preferred because it reduces the human error.\n",
        "\n",
        "`FinRL` uses a set of functions to do the backtesting with [Quantopian pyfolio](https://github.com/quantopian/pyfolio) package. It is easy to use and consists of various individual plots that provide a comprehensive image of the performance of a trading strategy.\n",
        "\n",
        "* Perform backtest on the account values and baseline data"
      ]
    },
    {
      "cell_type": "code",
      "metadata": {
        "id": "KV2zodCX8MC9",
        "colab": {
          "base_uri": "https://localhost:8080/"
        },
        "outputId": "212bde1e-88f2-42c0-fab1-0774dbfc9651"
      },
      "source": [
        "# BackTestStats\n",
        "perf_stats_all = backtest_stats(account_value = df_account_value)\n",
        "perf_stats_all = pd.DataFrame(perf_stats_all)"
      ],
      "execution_count": null,
      "outputs": [
        {
          "output_type": "stream",
          "name": "stdout",
          "text": [
            "Annual return         -0.009073\n",
            "Cumulative returns    -0.005914\n",
            "Annual volatility      0.194522\n",
            "Sharpe ratio           0.049542\n",
            "Calmar ratio          -0.054526\n",
            "Stability              0.219323\n",
            "Max drawdown          -0.166401\n",
            "Omega ratio            1.008604\n",
            "Sortino ratio          0.070939\n",
            "Skew                        NaN\n",
            "Kurtosis                    NaN\n",
            "Tail ratio             1.095181\n",
            "Daily value at risk   -0.024469\n",
            "dtype: float64\n"
          ]
        }
      ]
    },
    {
      "cell_type": "code",
      "metadata": {
        "id": "25anXQwCRgH2",
        "colab": {
          "base_uri": "https://localhost:8080/"
        },
        "outputId": "731470f4-fca3-49e8-ee62-cdabd78b29da"
      },
      "source": [
        "# Baseline stats\n",
        "baseline_df = trade\n",
        "stats = backtest_stats(baseline_df, value_col_name = 'close')"
      ],
      "execution_count": null,
      "outputs": [
        {
          "output_type": "stream",
          "name": "stdout",
          "text": [
            "Annual return            -0.280231\n",
            "Cumulative returns       -0.999308\n",
            "Annual volatility      3076.783387\n",
            "Sharpe ratio              3.405249\n",
            "Calmar ratio             -0.280262\n",
            "Stability                 0.001413\n",
            "Max drawdown             -0.999889\n",
            "Omega ratio              97.271235\n",
            "Sortino ratio          1129.469977\n",
            "Skew                           NaN\n",
            "Kurtosis                       NaN\n",
            "Tail ratio              127.775646\n",
            "Daily value at risk    -346.062030\n",
            "dtype: float64\n"
          ]
        }
      ]
    },
    {
      "cell_type": "code",
      "metadata": {
        "id": "0J6udJedUY4K",
        "colab": {
          "base_uri": "https://localhost:8080/"
        },
        "outputId": "aba8a3b1-f09a-4f7e-952c-3689d7d91a44"
      },
      "source": [
        "df_account_value.date.min(),df_account_value.date.max()"
      ],
      "execution_count": null,
      "outputs": [
        {
          "output_type": "execute_result",
          "data": {
            "text/plain": [
              "('2021-01-01', '2021-08-31')"
            ]
          },
          "metadata": {},
          "execution_count": 35
        }
      ]
    },
    {
      "cell_type": "markdown",
      "metadata": {
        "id": "LfHbQkhLUqKH"
      },
      "source": [
        "### Plot the Backtest plot with baseline ticker as \"^NSEI\""
      ]
    },
    {
      "cell_type": "code",
      "metadata": {
        "id": "6bBom24uLxVc",
        "colab": {
          "base_uri": "https://localhost:8080/",
          "height": 1000
        },
        "outputId": "098d8e96-fb23-4b6f-ffd8-836e1f0678b5"
      },
      "source": [
        "# BackTestPlot\n",
        "%matplotlib inline\n",
        "backtest_plot(account_value = df_account_value,     # pass the account value memory into the backtest functions\n",
        "              baseline_ticker = '^NSEI',             # select a baseline ticker Dow Jones Index: ^DJI, S&P 500: ^GSPC, NASDAQ 100: ^NDX\n",
        "              baseline_start = '2021-01-01',\n",
        "              baseline_end = '2021-08-31')"
      ],
      "execution_count": null,
      "outputs": [
        {
          "output_type": "stream",
          "name": "stdout",
          "text": [
            "\r[*********************100%***********************]  1 of 1 completed\n",
            "Shape of DataFrame:  (163, 8)\n"
          ]
        },
        {
          "output_type": "display_data",
          "data": {
            "text/plain": [
              "<IPython.core.display.HTML object>"
            ],
            "text/html": [
              "<table border=\"1\" class=\"dataframe\">\n",
              "  <thead>\n",
              "    <tr style=\"text-align: right;\"><th>Start date</th><td colspan=2>2021-01-01</td></tr>\n",
              "    <tr style=\"text-align: right;\"><th>End date</th><td colspan=2>2021-08-31</td></tr>\n",
              "    <tr style=\"text-align: right;\"><th>Total months</th><td colspan=2>7</td></tr>\n",
              "    <tr style=\"text-align: right;\">\n",
              "      <th></th>\n",
              "      <th>Backtest</th>\n",
              "    </tr>\n",
              "  </thead>\n",
              "  <tbody>\n",
              "    <tr>\n",
              "      <th>Annual return</th>\n",
              "      <td>-0.907%</td>\n",
              "    </tr>\n",
              "    <tr>\n",
              "      <th>Cumulative returns</th>\n",
              "      <td>-0.591%</td>\n",
              "    </tr>\n",
              "    <tr>\n",
              "      <th>Annual volatility</th>\n",
              "      <td>19.452%</td>\n",
              "    </tr>\n",
              "    <tr>\n",
              "      <th>Sharpe ratio</th>\n",
              "      <td>0.05</td>\n",
              "    </tr>\n",
              "    <tr>\n",
              "      <th>Calmar ratio</th>\n",
              "      <td>-0.05</td>\n",
              "    </tr>\n",
              "    <tr>\n",
              "      <th>Stability</th>\n",
              "      <td>0.22</td>\n",
              "    </tr>\n",
              "    <tr>\n",
              "      <th>Max drawdown</th>\n",
              "      <td>-16.64%</td>\n",
              "    </tr>\n",
              "    <tr>\n",
              "      <th>Omega ratio</th>\n",
              "      <td>1.01</td>\n",
              "    </tr>\n",
              "    <tr>\n",
              "      <th>Sortino ratio</th>\n",
              "      <td>0.07</td>\n",
              "    </tr>\n",
              "    <tr>\n",
              "      <th>Skew</th>\n",
              "      <td>NaN</td>\n",
              "    </tr>\n",
              "    <tr>\n",
              "      <th>Kurtosis</th>\n",
              "      <td>NaN</td>\n",
              "    </tr>\n",
              "    <tr>\n",
              "      <th>Tail ratio</th>\n",
              "      <td>1.10</td>\n",
              "    </tr>\n",
              "    <tr>\n",
              "      <th>Daily value at risk</th>\n",
              "      <td>-2.447%</td>\n",
              "    </tr>\n",
              "    <tr>\n",
              "      <th>Alpha</th>\n",
              "      <td>-0.17</td>\n",
              "    </tr>\n",
              "    <tr>\n",
              "      <th>Beta</th>\n",
              "      <td>0.64</td>\n",
              "    </tr>\n",
              "  </tbody>\n",
              "</table>"
            ]
          },
          "metadata": {}
        },
        {
          "output_type": "display_data",
          "data": {
            "text/plain": [
              "<IPython.core.display.HTML object>"
            ],
            "text/html": [
              "<table border=\"1\" class=\"dataframe\">\n",
              "  <thead>\n",
              "    <tr style=\"text-align: right;\">\n",
              "      <th>Worst drawdown periods</th>\n",
              "      <th>Net drawdown in %</th>\n",
              "      <th>Peak date</th>\n",
              "      <th>Valley date</th>\n",
              "      <th>Recovery date</th>\n",
              "      <th>Duration</th>\n",
              "    </tr>\n",
              "  </thead>\n",
              "  <tbody>\n",
              "    <tr>\n",
              "      <th>0</th>\n",
              "      <td>16.64</td>\n",
              "      <td>2021-02-10</td>\n",
              "      <td>2021-05-14</td>\n",
              "      <td>NaT</td>\n",
              "      <td>NaN</td>\n",
              "    </tr>\n",
              "    <tr>\n",
              "      <th>1</th>\n",
              "      <td>4.67</td>\n",
              "      <td>2021-01-20</td>\n",
              "      <td>2021-01-29</td>\n",
              "      <td>2021-02-04</td>\n",
              "      <td>12</td>\n",
              "    </tr>\n",
              "    <tr>\n",
              "      <th>2</th>\n",
              "      <td>0.98</td>\n",
              "      <td>2021-01-14</td>\n",
              "      <td>2021-01-18</td>\n",
              "      <td>2021-01-20</td>\n",
              "      <td>5</td>\n",
              "    </tr>\n",
              "    <tr>\n",
              "      <th>3</th>\n",
              "      <td>0.89</td>\n",
              "      <td>2021-02-04</td>\n",
              "      <td>2021-02-05</td>\n",
              "      <td>2021-02-09</td>\n",
              "      <td>4</td>\n",
              "    </tr>\n",
              "    <tr>\n",
              "      <th>4</th>\n",
              "      <td>0.18</td>\n",
              "      <td>2021-01-05</td>\n",
              "      <td>2021-01-07</td>\n",
              "      <td>2021-01-08</td>\n",
              "      <td>4</td>\n",
              "    </tr>\n",
              "  </tbody>\n",
              "</table>"
            ]
          },
          "metadata": {}
        },
        {
          "output_type": "display_data",
          "data": {
            "text/plain": [
              "<IPython.core.display.HTML object>"
            ],
            "text/html": [
              "<table border=\"1\" class=\"dataframe\">\n",
              "  <thead>\n",
              "    <tr style=\"text-align: right;\">\n",
              "      <th>Stress Events</th>\n",
              "      <th>mean</th>\n",
              "      <th>min</th>\n",
              "      <th>max</th>\n",
              "    </tr>\n",
              "  </thead>\n",
              "  <tbody>\n",
              "    <tr>\n",
              "      <th>New Normal</th>\n",
              "      <td>0.00%</td>\n",
              "      <td>-4.48%</td>\n",
              "      <td>4.40%</td>\n",
              "    </tr>\n",
              "  </tbody>\n",
              "</table>"
            ]
          },
          "metadata": {}
        },
        {
          "output_type": "display_data",
          "data": {
            "text/plain": [
              "<Figure size 1008x5184 with 13 Axes>"
            ],
            "image/png": "[encoded data removed]"
          },
          "metadata": {
            "needs_background": "light"
          }
        },
        {
          "output_type": "display_data",
          "data": {
            "text/plain": [
              "<Figure size 1008x432 with 1 Axes>"
            ],
            "image/png": "[encoded data removed]"
          },
          "metadata": {
            "needs_background": "light"
          }
        }
      ]
    },
    {
      "cell_type": "markdown",
      "metadata": {
        "id": "T5klse2xgDP-"
      },
      "source": [
        "### DashBoard\n",
        "\n",
        "Dash is a simple open source library. It is the original low-code framework for rapidly building data apps in Python, R, Julia, and F#. It can bind a user interface to Python code in less than 10 minutes.\n",
        "\n",
        "Dash apps are rendered in the web browser. Since Dash apps are viewed in the web browser, Dash is inherently cross-platform and mobile ready.\n",
        "\n",
        "Dash is released under the permissive MIT license. Plotly develops Dash and also offers a platform for writing and deploying Dash apps.\n",
        "\n",
        "Refer to Dash Documentation [here](https://dash.plotly.com/). Mainly refer to Part 2 (Layout) and Part 3 (Basic callbacks) within the Dash tutorial in the given documentation.\n",
        "\n",
        "To know more about Dash, refer [here](https://medium.com/plotly/introducing-jupyterdash-811f1f57c02e).\n",
        "\n"
      ]
    },
    {
      "cell_type": "markdown",
      "metadata": {
        "id": "ZhaVtaI1gGCX"
      },
      "source": [
        "#### Create the dashboard using Dash HTML components\n",
        "\n",
        "Hint: [Layout](https://dash.plotly.com/layout) , [callbacks](https://dash.plotly.com/basic-callbacks)\n",
        "\n",
        "* Scatter plot of Stock closing price\n",
        "  * Create a dropdown for ticker Symbols\n",
        "  * Create a plot of stock closing price values that changes upon selecting ticker using drop down\n",
        "* Bar plot of trade off balance resulted from DRL Agent\n",
        "  * Create two dropdowns for selecting start and end dates\n",
        "  * Create a bar plot showing account value between start and end date as a result to dropdown change.\n"
      ]
    },
    {
      "cell_type": "code",
      "metadata": {
        "id": "u0J9yRK2maM8"
      },
      "source": [
        "import plotly.express as px\n",
        "from jupyter_dash import JupyterDash\n",
        "from dash import dcc\n",
        "from dash import html\n",
        "from dash.dependencies import Input, Output\n",
        "\n",
        "# Build App\n",
        "app = JupyterDash(__name__)\n",
        "app.layout = html.Div([\n",
        "    html.H1(\"Stocks Dashboard using JupyterDash\"),\n",
        "    html.Label([\n",
        "        \"ticker\",\n",
        "        dcc.Dropdown(\n",
        "            id='ticker-dropdown', clearable=False,\n",
        "            value='plasma', options=[\n",
        "                {'label': c, 'value': c}\n",
        "                for c in set(df.tic)\n",
        "            ])\n",
        "    ]),\n",
        "    dcc.Graph(id='graph1'),\n",
        "    html.H2(\"Trade off Balance Given by DRL Agent\"),\n",
        "    html.Label([\n",
        "        \"startDate\",\n",
        "        dcc.Dropdown(\n",
        "            id='startDate-dropdown', clearable=False,\n",
        "            value='plasma', options=[\n",
        "                {'label': c, 'value': c}\n",
        "                for c in df_account_value.date.values\n",
        "            ])\n",
        "    ]),\n",
        "    html.Label([\n",
        "        \"endDate\",\n",
        "        dcc.Dropdown(\n",
        "            id='endDate-dropdown', clearable=False,\n",
        "            value='plasma', options=[\n",
        "                {'label': c, 'value': c}\n",
        "                for c in df_account_value.date.values\n",
        "            ])\n",
        "    ]),\n",
        "    dcc.Graph(id='graph2'),\n",
        "])\n",
        "\n",
        "# Define callback to update graph\n",
        "@app.callback(\n",
        "    Output('graph1', 'figure'),\n",
        "    [Input(\"ticker-dropdown\", \"value\")]\n",
        ")\n",
        "def update_graph1(ticker):\n",
        "    ticker_df = df[df.tic == ticker]\n",
        "    #df_account_value = getResult_from_Agent(required)\n",
        "    return px.scatter(ticker_df, x='date', y='close')\n",
        "\n",
        "# Define callback to update graph\n",
        "@app.callback(\n",
        "    Output('graph2', 'figure'),\n",
        "    [Input(\"startDate-dropdown\", \"value\"),Input(\"endDate-dropdown\", \"value\")]\n",
        ")\n",
        "def update_figure(startDate,endDate):\n",
        "    required = df_account_value[(df_account_value.date > startDate) & (df_account_value.date < endDate)]\n",
        "    #df_account_value = getResult_from_Agent(required)\n",
        "    return px.bar(required, x='date', y='account_value')"
      ],
      "execution_count": null,
      "outputs": []
    },
    {
      "cell_type": "code",
      "metadata": {
        "id": "8jJvHoNlsc7m",
        "colab": {
          "base_uri": "https://localhost:8080/",
          "height": 52
        },
        "outputId": "baff557e-d946-4967-aadf-f78b07fa6209"
      },
      "source": [
        "# Run app and display result on external broswer\n",
        "app.run_server(mode='external')\n",
        "# app.run_server()"
      ],
      "execution_count": null,
      "outputs": [
        {
          "output_type": "stream",
          "name": "stdout",
          "text": [
            "Dash app running on:\n"
          ]
        },
        {
          "output_type": "display_data",
          "data": {
            "text/plain": [
              "<IPython.core.display.Javascript object>"
            ],
            "application/javascript": [
              "(async (port, path, text, element) => {\n",
              "    if (!google.colab.kernel.accessAllowed) {\n",
              "      return;\n",
              "    }\n",
              "    element.appendChild(document.createTextNode(''));\n",
              "    const url = await google.colab.kernel.proxyPort(port);\n",
              "    const anchor = document.createElement('a');\n",
              "    anchor.href = new URL(path, url).toString();\n",
              "    anchor.target = '_blank';\n",
              "    anchor.setAttribute('data-href', url + path);\n",
              "    anchor.textContent = text;\n",
              "    element.appendChild(anchor);\n",
              "  })(8050, \"/\", \"http://127.0.0.1:8050/\", window.element)"
            ]
          },
          "metadata": {}
        }
      ]
    },
    {
      "cell_type": "markdown",
      "metadata": {
        "id": "QLg6LrGG4WcU"
      },
      "source": [
        "### Report Analysis\n",
        "\n",
        "* Discuss on the parameters used to increase the reward\n",
        "* Report the safest stocks to trade without much loss\n",
        "* Comment on the Dashboard application and user interface\n"
      ]
    },
    {
      "cell_type": "markdown",
      "metadata": {
        "id": "yS0qB9BEFbrt"
      },
      "source": [
        "**References:**\n",
        "\n",
        "http://finrl.org/tutorial/finrl_multiple_stock.html\n",
        "\n",
        "FinRL Doc: http://finrl.org/tutorial/finrl_single_stock.html\n",
        "\n",
        "https://www1.nseindia.com/products/content/equities/indices/nifty_50.htm\n",
        "\n",
        "https://finance.yahoo.com/quote/%5ENSEI/components/\n",
        "\n",
        "Reference for participants: https://analyticsindiamag.com/stock-market-prediction-using-finrl/\n",
        "\n",
        "https://medium.com/plotly/introducing-jupyterdash-811f1f57c02e"
      ]
    },
    {
      "cell_type": "code",
      "source": [],
      "metadata": {
        "id": "Mo2BA2qD-xkT"
      },
      "execution_count": null,
      "outputs": []
    }
  ]
}